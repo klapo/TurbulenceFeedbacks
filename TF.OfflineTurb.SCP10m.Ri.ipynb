{
 "cells": [
  {
   "cell_type": "markdown",
   "metadata": {},
   "source": [
    "# Compare offline turbulence to observations\n",
    "### Overview figure"
   ]
  },
  {
   "cell_type": "code",
   "execution_count": 1,
   "metadata": {
    "collapsed": false
   },
   "outputs": [],
   "source": [
    "# -------------------------------------------------------------------------------------------------------\n",
    "import numpy as np\n",
    "from datetime import datetime, timedelta\n",
    "import pandas as pd\n",
    "import xarray as xr\n",
    "from scipy.stats.stats import pearsonr\n",
    "\n",
    "# -------------------------------------------------------------------------------------------------------\n",
    "# OS interaction\n",
    "import sys, pickle, os\n",
    "\n",
    "# -------------------------------------------------------------------------------------------------------\n",
    "# plotting packages\n",
    "import seaborn as sns\n",
    "import matplotlib\n",
    "from matplotlib.pyplot import subplots\n",
    "import matplotlib.pyplot as plt\n",
    "from matplotlib import cm\n",
    "from mpl_toolkits.basemap import Basemap\n",
    "\n",
    "# -------------------------------------------------------------------------------------------------------\n",
    "# Custom packages\n",
    "import kgraph\n",
    "import turbpy\n",
    "import turbpy.multiConst as mc\n",
    "\n",
    "\n",
    "# -------------------------------------------------------------------------------------------------------\n",
    "# Customize\n",
    "%matplotlib inline\n",
    "sns.set_style(\"whitegrid\")\n",
    "sns.set_context('paper')\n",
    "import string\n",
    "alphabet = list(string.ascii_lowercase)\n",
    "\n",
    "# -------------------------------------------------------------------------------------------------------\n",
    "# Directories\n",
    "if 'linux' in sys.platform:\n",
    "    dir_pre = '/home/lapok/gdrive/'\n",
    "elif 'darwin' in sys.platform:\n",
    "    dir_pre = '/Users/karllapo/gdrive/'\n",
    "\n",
    "dirProj = dir_pre+'SnowHydrology/proj/TurbulenceFeedbacks/'\n",
    "dirPrint = dir_pre+'SnowHydrology/proj/TurbulenceFeedbacks/Graphics'\n",
    "dirDataSCP = dir_pre+'SnowHydrology/proj/TurbulenceFeedbacks/data/SCP'\n",
    "dirDataSNQ = dir_pre+'SnowHydrology/proj/TurbulenceFeedbacks/data/SNQ'"
   ]
  },
  {
   "cell_type": "markdown",
   "metadata": {},
   "source": [
    "### Functions"
   ]
  },
  {
   "cell_type": "code",
   "execution_count": 2,
   "metadata": {
    "collapsed": true
   },
   "outputs": [],
   "source": [
    "# Group a variable according to a proxy variable (e.g., group air temperature according to the stability)\n",
    "def proxyGroupby(ds, binVar, binVals, digitVar):\n",
    "    proxyGroups = np.digitize(ds[binVar].values, binVals, right=False)\n",
    "    groupVar = np.zeros(np.size(binVals))\n",
    "    for bnum, bV in enumerate(binVals):\n",
    "        groupVar[bnum] = np.nanmean(ds[digitVar][proxyGroups == bnum])\n",
    "    return groupVar"
   ]
  },
  {
   "cell_type": "markdown",
   "metadata": {},
   "source": [
    "### Surface observations"
   ]
  },
  {
   "cell_type": "code",
   "execution_count": 3,
   "metadata": {
    "collapsed": false
   },
   "outputs": [
    {
     "name": "stderr",
     "output_type": "stream",
     "text": [
      "//anaconda/lib/python3.5/site-packages/xarray/core/variable.py:1131: RuntimeWarning: divide by zero encountered in true_divide\n",
      "  else f(other_data, self_data))\n",
      "//anaconda/lib/python3.5/site-packages/xarray/core/variable.py:1130: RuntimeWarning: invalid value encountered in greater\n",
      "  if not reflexive\n"
     ]
    }
   ],
   "source": [
    "# -------------------------------------------------------------------------------------------------------\n",
    "# SNQ\n",
    "os.chdir(dirDataSNQ)\n",
    "SNQ = xr.open_dataset('SnoqualmieObs.SupportData.wy2013_wy2015.nc')\n",
    "\n",
    "# Indices of simulated turbulence times (observations exist, wind > 2m/s, snow is present)\n",
    "# SNQind = np.nonzero((SNQ.SP == 1).values &\n",
    "#                     (SNQ.WIND > 2).values &\n",
    "#                     (~(np.isnan(SNQ.SensFlux)).values |\n",
    "#                     ~(np.isnan(SNQ.LatFlux)).values))\n",
    "RiBulk_SNQ, _, _ = turbpy.bulkRichardson(SNQ.T6 + 273.15, SNQ.Tsrf + 273.15,SNQ.WIND, 6.)\n",
    "SNQ['RiBulk'] = RiBulk_SNQ\n",
    "SNQind = np.nonzero((SNQ.WIND > .2).values & (~(np.isnan(SNQ.SensFlux)).values) & (SNQ.RiBulk > 0).values)\n",
    "\n",
    "# -------------------------------------------------------------------------------------------------------\n",
    "# SCP\n",
    "os.chdir(dirDataSCP)\n",
    "radObs = xr.open_dataset('SCP.rad_obs.netcdf')\n",
    "SCP = xr.open_dataset('SCP.Mtower.netcdf')\n",
    "fluxObs = xr.open_dataset('SCP.flux_obs.netcdf')\n",
    "\n",
    "# Turbulence\n",
    "SCP['w_tc__2m'] = fluxObs.w_tc__2m_M\n",
    "SCP['w_tc_10m'] = fluxObs.w_tc__10m_M\n",
    "\n",
    "# Surface temperature from upwelling longwave\n",
    "sigma = 5.67*10**-8.\n",
    "Tsfc = (radObs.Rlw_out / sigma) ** (1 / 4)\n",
    "SCP['Tsfc'] = (('time'), Tsfc - 273.15)\n",
    "\n",
    "# Wind speed magnitude\n",
    "SCP['UBar_15m'] = (('time'), (SCP.U_15m_M**2 + SCP.V_15m_M**2) ** (1 / 2))\n",
    "SCP.UBar_15m[SCP.UBar_15m > 10] = np.nan\n",
    "SCP['UBar_2m'] = (('time'), (SCP.u_2m_M**2 + SCP.v_2m_M**2) ** (1 / 2))\n",
    "SCP.UBar_15m[SCP.UBar_2m > 10] = np.nan\n",
    "\n",
    "# Bulk Richardson number\n",
    "RiBulk_15m,_,_ = turbpy.bulkRichardson(SCP.T_15m_M + 273.15, SCP.Tsfc + 273.15, SCP.UBar_15m, 15.)\n",
    "SCP['RiBulk_15m'] = RiBulk_15m\n",
    "RiBulk_2m,_,_ = turbpy.bulkRichardson(SCP.T_1m_M + 273.15, SCP.Tsfc + 273.15, SCP.UBar_2m, 2.)\n",
    "SCP['RiBulk_2m'] = RiBulk_2m\n",
    "\n",
    "# Indices of stable periods (simulated)\n",
    "SCPind = np.nonzero((SCP.RiBulk_15m > 0.).values)"
   ]
  },
  {
   "cell_type": "markdown",
   "metadata": {},
   "source": [
    "## Offline Turbulence results\n",
    "\n",
    "#### SCP\n",
    "- Run in the script TF.SUMMATurbConversion_SCP.py script on j-lundquist-3\n",
    "- Results saved to OfflineTurb.SCP.sensible_1m.ALL.nc. The \"ALL\" refers to doing offline simulations on all stable conditions, instead of just a 5% sample, as in previous iterations.\n",
    "- The criteria for stable conditions comes from the 15m observations\n",
    "\n",
    "#### SNQ\n",
    "- Simulation run in TF.OfflineTurb.SNQ\n",
    "- the resulting netcdf was copied from the SNQ data directory to the project level directory. Re-running the script won't change the results in this script unless explicitly moved again.\n",
    "- Simulations only run for periods of wind > 2m/s"
   ]
  },
  {
   "cell_type": "code",
   "execution_count": 4,
   "metadata": {
    "collapsed": false
   },
   "outputs": [],
   "source": [
    "os.chdir(dirProj)\n",
    "ixStability = ('standard','louisInversePower','mahrtExponential','moninObukhov')\n",
    "ixStabilityTitles = ('Anderson', 'Louis', 'Mahrt', 'Monin-Obukhov')\n",
    "\n",
    "# -------------------------------------------------------------------------------------------------------\n",
    "# SNQ Offline Turbulence results\n",
    "SNQ_sensible = xr.open_dataset('TF.SNQ_wind2msSP.OfflineTurb.sensible.nc')\n",
    "SNQ_latent = xr.open_dataset('TF.SNQ_wind2msSP.OfflineTurb.latent.nc')\n",
    "\n",
    "# -------------------------------------------------------------------------------------------------------\n",
    "# SCP Offline Turbulence results\n",
    "SCP_sensible_1m = xr.open_dataset('OfflineTurb.SCP.sensible_1m.ALL.nc')\n",
    "SCP_sensible_15m = xr.open_dataset('OfflineTurb.SCP.sensible_15m.ALL.nc')\n",
    "SCP_latent_1m = xr.open_dataset('OfflineTurb.SCP.latent_1m.ALL.nc')\n",
    "SCP_latent_15m = xr.open_dataset('OfflineTurb.SCP.latent_15m.ALL.nc')\n",
    "\n",
    "os.chdir(dirPrint)"
   ]
  },
  {
   "cell_type": "markdown",
   "metadata": {},
   "source": [
    "# Bias by Richardson number"
   ]
  },
  {
   "cell_type": "markdown",
   "metadata": {},
   "source": [
    "#### Get the mean air temperature, surface temperature, and wind speed"
   ]
  },
  {
   "cell_type": "code",
   "execution_count": 5,
   "metadata": {
    "collapsed": true
   },
   "outputs": [],
   "source": [
    "binRi = np.append(np.arange(-0.125, 0.5, 0.025), np.arange(0.5, 2, .1))\n",
    "groupWind = proxyGroupby(SCP, 'RiBulk_15m', binRi, 'UBar_15m')\n",
    "groupTsfc = proxyGroupby(SCP, 'RiBulk_15m', binRi, 'Tsfc')\n",
    "groupTair = proxyGroupby(SCP, 'RiBulk_15m', binRi, 'T_15m_M')\n",
    "groupQh = proxyGroupby(SCP, 'RiBulk_15m', binRi, 'w_tc_10m')\n",
    "groupQh = -groupQh"
   ]
  },
  {
   "cell_type": "code",
   "execution_count": 6,
   "metadata": {
    "collapsed": false
   },
   "outputs": [
    {
     "name": "stderr",
     "output_type": "stream",
     "text": [
      "//anaconda/lib/python3.5/site-packages/xarray/core/variable.py:1130: RuntimeWarning: invalid value encountered in greater\n",
      "  if not reflexive\n",
      "//anaconda/lib/python3.5/site-packages/numpy/lib/function_base.py:804: RuntimeWarning: invalid value encountered in greater_equal\n",
      "  not_smaller_than_edge = (sample[:, i] >= edges[i][-1])\n"
     ]
    },
    {
     "data": {
      "image/png": "[encoded data removed]",
      "text/plain": [
       "<matplotlib.figure.Figure at 0x11b7793c8>"
      ]
     },
     "metadata": {},
     "output_type": "display_data"
    }
   ],
   "source": [
    "# -------------------------------------------------------------------------------------------------------\n",
    "# Synthetic Qh set up\n",
    "ixStability = ('standard', 'louisInversePower', 'mahrtExponential', 'moninObukhov')\n",
    "ixStabilityTitles = ('Anderson', 'Louis', 'Mahrt', 'Monin-Obukhov', 'Monin-Obukhov (no cap)')\n",
    "\n",
    "# Dictionary of colors\n",
    "colr = np.append(kgraph.SRON(4), sns.color_palette([\"#9b59b6\"]), axis=0)\n",
    "colr = dict(zip(ixStabilityTitles, colr))\n",
    "\n",
    "# Met variables\n",
    "sfcTemp = groupTsfc\n",
    "airTemp = groupTair\n",
    "windspd = groupWind\n",
    "mHeight = 15\n",
    "z0Ground = .005\n",
    "snowDepth = 0.\n",
    "scalarGroundSnowFraction  = 0.\n",
    "(airVaporPress, _) = turbpy.satVapPress(airTemp - 273.)\n",
    "(sfcVaporPress, _) = turbpy.satVapPress(sfcTemp - 273.)\n",
    "airPressure = 101000.\n",
    "\n",
    "RiBulk = np.zeros(np.size(binRi))\n",
    "for n, b in enumerate(binRi):\n",
    "    RiBulk[n],_,_ = turbpy.bulkRichardson(airTemp[n] + 273.15, sfcTemp[n] + 273.15, windspd[n], mHeight)\n",
    "    \n",
    "stabilitySchemes = {\n",
    "    ixStabilityTitles[0]:np.zeros_like(RiBulk),\n",
    "    ixStabilityTitles[1]:np.zeros_like(RiBulk),\n",
    "    ixStabilityTitles[2]:np.zeros_like(RiBulk),\n",
    "    ixStabilityTitles[3]:np.zeros_like(RiBulk),\n",
    "    }\n",
    "conductanceSensible = {\n",
    "    ixStabilityTitles[0]:np.zeros_like(RiBulk),\n",
    "    ixStabilityTitles[1]:np.zeros_like(RiBulk),\n",
    "    ixStabilityTitles[2]:np.zeros_like(RiBulk),\n",
    "    ixStabilityTitles[3]:np.zeros_like(RiBulk),\n",
    "    }\n",
    "senHeatGround = {\n",
    "    ixStabilityTitles[0]: np.zeros_like(RiBulk),\n",
    "    ixStabilityTitles[1]: np.zeros_like(RiBulk),\n",
    "    ixStabilityTitles[2]: np.zeros_like(RiBulk),\n",
    "    ixStabilityTitles[3]: np.zeros_like(RiBulk),\n",
    "    }\n",
    "\n",
    "# -------------------------------------------------------------------------------------------------------\n",
    "# turbpy\n",
    "for stab, stabTitle in zip(ixStability, ixStabilityTitles):\n",
    "    for n, b in enumerate(binRi):\n",
    "        # Check for MO capping\n",
    "        if 'no cap' in stabTitle:\n",
    "            windlessExchange = False\n",
    "        else:\n",
    "            windlessExchange = True\n",
    "\n",
    "        vp = airVaporPress[n]\n",
    "        svp = sfcVaporPress[n]\n",
    "        w = windspd[n]\n",
    "        ts = sfcTemp[n] + 273.15\n",
    "        ta = airTemp[n] + 273.15\n",
    "        # Offline Turbulence Package\n",
    "        (conductanceSensible[stabTitle][n], _, senHeatGround[stabTitle][n], _, _, stabOutput, _, _) \\\n",
    "            = turbpy.turbFluxes(ta, airPressure, vp, w, ts, svp, snowDepth, mHeight,\n",
    "                                groundSnowFraction=1,\n",
    "                                ixDerivMethod=False,\n",
    "                                ixStability=stab,\n",
    "                                ixStabParam=mc.stabParams,\n",
    "                                z0Ground=.005,\n",
    "                                windlessExchange=windlessExchange)\n",
    "        \n",
    "        # Unpack stability parameters dictionary\n",
    "        if not 'moninObukhov' in stab:\n",
    "            stabilitySchemes[stabTitle][n] = stabOutput['stabilityCorrection']\n",
    "        else:\n",
    "            stabilitySchemes[stabTitle][n] = np.nan\n",
    "            \n",
    "        if senHeatGround[stabTitle][n] < 0:\n",
    "            senHeatGround[stabTitle][n] = np.nan \n",
    "\n",
    "# -------------------------------------------------------------------------------------------------------\n",
    "# SCP observations\n",
    "# Y axis\n",
    "ymin = -25\n",
    "ymax = 125\n",
    "dy = 10\n",
    "# X axis\n",
    "xmin = 0\n",
    "xmax = 1\n",
    "dx = .025\n",
    "# Colors\n",
    "cmin = 0\n",
    "cmax = 100\n",
    "ncol = 11\n",
    "dcol = (cmax - cmin) / (ncol - 1)\n",
    "cmap = sns.cubehelix_palette(11, start=2.6, rot=.075, light=0.8, as_cmap=True)\n",
    "cmap = kgraph.cmap_discretize(cmap, ncol)\n",
    "\n",
    "# Re-filter for low wind speeds to better match with idealized synthetic results\n",
    "SCPWindex = np.nonzero((SCP.RiBulk_15m > 0.).values)# & (SCP.UBar_15m < 3).values)\n",
    "SCP_sensible_15m_plot = SCP_sensible_15m.reindex_like(SCP)\n",
    "\n",
    "# Figure formatting\n",
    "fig, axes = plt.subplots(4, 1, figsize=(4, 5), sharex='col', sharey='row')\n",
    "axes = axes.flatten()\n",
    "\n",
    "# Simulated turbulence\n",
    "for (ix, stab), stabTitle in zip(enumerate(ixStability), ixStabilityTitles):\n",
    "    ax = axes[ix]\n",
    "\n",
    "    # Manual histogram\n",
    "    X = SCP.RiBulk_15m.values[SCPWindex]\n",
    "    Y = SCP_sensible_15m_plot[stab].values[SCPWindex]\n",
    "    H, xedges, yedges = np.histogram2d(X, Y, bins=(np.arange(xmin, xmax, dx),\n",
    "                                                   np.arange(ymin, ymax, dy)))\n",
    "    H = np.ma.masked_array(H, H < dcol/2)\n",
    "    X, Y = np.meshgrid(xedges, yedges)\n",
    "    im = ax.pcolormesh(X.T, Y.T, H, cmap=cmap, vmin=cmin, vmax=cmax, linewidth=0, rasterized=True)\n",
    "    \n",
    "    # Synthetic turbulence\n",
    "    ax.plot(RiBulk, senHeatGround[stabTitle], color='r', linewidth=3)\n",
    "    \n",
    "    # Formatting\n",
    "    ax.plot([xmin, xmax], [0, 0], 'k--')\n",
    "    ax.set_title(stabTitle)\n",
    "    ax.set_ylim(ymin, ymax)\n",
    "    ax.set_xlim(xmin, xmax)\n",
    "    ax.set_ylabel('$Q_h (Wm^{-2})$')\n",
    "    ax.grid()\n",
    "\n",
    "fig.autofmt_xdate()\n",
    "fig.tight_layout()\n",
    "fig.savefig('OfflineTurb.SCP_15m.2dHist_Ri.pdf', dpi=300)"
   ]
  },
  {
   "cell_type": "markdown",
   "metadata": {},
   "source": [
    "Lower Ri conditions = generally higher windspeed, higher Ri = lower windspeed. So all of the curves are shifted to larger Qh at low Ri and smaller Qh at high Ri."
   ]
  },
  {
   "cell_type": "code",
   "execution_count": 7,
   "metadata": {
    "collapsed": false
   },
   "outputs": [
    {
     "name": "stderr",
     "output_type": "stream",
     "text": [
      "//anaconda/lib/python3.5/site-packages/xarray/core/variable.py:1130: RuntimeWarning: invalid value encountered in greater\n",
      "  if not reflexive\n"
     ]
    },
    {
     "data": {
      "image/png": "[encoded data removed]",
      "text/plain": [
       "<matplotlib.figure.Figure at 0x1206ceeb8>"
      ]
     },
     "metadata": {},
     "output_type": "display_data"
    }
   ],
   "source": [
    "SCP.UBar_15m[SCPWindex].mean(dim='time')\n",
    "\n",
    "# -------------------------------------------------------------------------------------------------------\n",
    "# SCP - 2D histogram of Qh vs Ri\n",
    "# Y axis\n",
    "ymin = 0\n",
    "ymax = 10\n",
    "dy = 0.5\n",
    "# X axis\n",
    "xmin = 0\n",
    "xmax = 1\n",
    "dx = .025\n",
    "# Colors\n",
    "cmin = 0\n",
    "cmax = 100\n",
    "ncol = 11\n",
    "dcol = (cmax - cmin) / (ncol - 1)\n",
    "cmap = sns.cubehelix_palette(11, start=2.6, rot=.075, light=0.8, as_cmap=True)\n",
    "cmap = kgraph.cmap_discretize(cmap, ncol)\n",
    "\n",
    "# Re-filter for low wind speeds to better match with idealized synthetic results\n",
    "SCPWindex = np.nonzero((SCP.RiBulk_15m > 0.).values)# & (SCP.UBar_15m < 3).values & (SCP.UBar_2m < 3).values)\n",
    "\n",
    "# Figure formatting\n",
    "fig, axes = plt.subplots(1, 1, figsize=(4, 1.5))\n",
    "\n",
    "# Manual histogram for pcolormesh\n",
    "X = SCP.RiBulk_15m.values[SCPWindex]\n",
    "Y = SCP.UBar_15m.values[SCPWindex]\n",
    "H, xedges, yedges = np.histogram2d(X, Y, bins=(np.arange(xmin, xmax, dx),\n",
    "                                               np.arange(ymin, ymax, dy)))\n",
    "H = np.ma.masked_array(H, H < dcol/2)\n",
    "X, Y = np.meshgrid(xedges, yedges)\n",
    "\n",
    "# Binned observations\n",
    "ax = axes\n",
    "im = ax.pcolormesh(X.T, Y.T, H,cmap=cmap,vmin=cmin,vmax=cmax, linewidth=0, rasterized=True)\n",
    "\n",
    "# Average wind speed for Richardson number bins\n",
    "ax.plot(binRi, groupWind, 'r', linewidth=3)\n",
    "ax.plot([xmin, xmax], [0, 0], '--', color='0.85')\n",
    "\n",
    "ax.set_ylim(ymin, ymax)\n",
    "ax.set_xlim(xmin, xmax)\n",
    "ax.set_xlabel('Ri #')\n",
    "ax.set_ylabel('$U (ms^{-1}$)')\n",
    "ax.grid()\n",
    "fig.tight_layout()\n",
    "fig.savefig('OfflineTurb.SCP_15m.2dHist_U.pdf', dpi=300)"
   ]
  },
  {
   "cell_type": "code",
   "execution_count": 8,
   "metadata": {
    "collapsed": false
   },
   "outputs": [
    {
     "name": "stderr",
     "output_type": "stream",
     "text": [
      "//anaconda/lib/python3.5/site-packages/xarray/core/variable.py:1130: RuntimeWarning: invalid value encountered in greater\n",
      "  if not reflexive\n"
     ]
    },
    {
     "data": {
      "image/png": "[encoded data removed]",
      "text/plain": [
       "<matplotlib.figure.Figure at 0x1218d86d8>"
      ]
     },
     "metadata": {},
     "output_type": "display_data"
    }
   ],
   "source": [
    "SCP.UBar_15m[SCPWindex].mean(dim='time')\n",
    "\n",
    "# -------------------------------------------------------------------------------------------------------\n",
    "# SCP - 2D histogram of temp. gradient vs Ri\n",
    "# Y axis\n",
    "ymin = 0\n",
    "ymax = 15\n",
    "dy = 1\n",
    "# X axis\n",
    "xmin = 0\n",
    "xmax = 1\n",
    "dx = .025\n",
    "# Colors\n",
    "cmin = 0\n",
    "cmax = 100\n",
    "ncol = 11\n",
    "dcol = (cmax - cmin) / (ncol - 1)\n",
    "cmap = sns.cubehelix_palette(11, start=2.6, rot=.075, light=0.8, as_cmap=True)\n",
    "cmap = kgraph.cmap_discretize(cmap, ncol)\n",
    "\n",
    "# Re-filter for low wind speeds to better match with idealized synthetic results\n",
    "SCPWindex = np.nonzero((SCP.RiBulk_15m > 0.).values)# & (SCP.UBar_15m < 3).values)\n",
    "\n",
    "# Figure formatting\n",
    "fig, axes = plt.subplots(1, 1, figsize=(4, 1.5))\n",
    "\n",
    "# Manual histogram for pcolormesh\n",
    "X = SCP.RiBulk_15m.values[SCPWindex]\n",
    "Y = (SCP.T_15m_M - SCP.Tsfc).values[SCPWindex]\n",
    "H, xedges, yedges = np.histogram2d(X, Y, bins=(np.arange(xmin, xmax, dx),\n",
    "                                               np.arange(ymin, ymax, dy)))\n",
    "H = np.ma.masked_array(H, H < dcol/2)\n",
    "X, Y = np.meshgrid(xedges, yedges)\n",
    "\n",
    "# Binned observations\n",
    "ax = axes\n",
    "im = ax.pcolormesh(X.T, Y.T, H, cmap=cmap, vmin=cmin, vmax=cmax, linewidth=0, rasterized=True)\n",
    "\n",
    "# Average temperature gradient for Richardson number bins\n",
    "ax.plot(binRi, groupTair - groupTsfc, 'r', linewidth=3)\n",
    "ax.plot([xmin, xmax], [0, 0], '--', color='0.85')\n",
    "\n",
    "ax.set_ylim(ymin, ymax)\n",
    "ax.set_xlim(xmin, xmax)\n",
    "ax.set_xlabel('Ri #')\n",
    "ax.set_ylabel('$T_{air} - T_{sfc} (^{\\circ} C$)')\n",
    "ax.grid()\n",
    "fig.tight_layout()\n",
    "fig.savefig('OfflineTurb.SCP_15m.2dHist_Tgrad.pdf', dpi=300)"
   ]
  },
  {
   "cell_type": "code",
   "execution_count": 9,
   "metadata": {
    "collapsed": false
   },
   "outputs": [
    {
     "name": "stderr",
     "output_type": "stream",
     "text": [
      "//anaconda/lib/python3.5/site-packages/xarray/core/variable.py:1130: RuntimeWarning: invalid value encountered in greater\n",
      "  if not reflexive\n",
      "//anaconda/lib/python3.5/site-packages/numpy/lib/function_base.py:804: RuntimeWarning: invalid value encountered in greater_equal\n",
      "  not_smaller_than_edge = (sample[:, i] >= edges[i][-1])\n"
     ]
    },
    {
     "data": {
      "image/png": "[encoded data removed]",
      "text/plain": [
       "<matplotlib.figure.Figure at 0x120634e48>"
      ]
     },
     "metadata": {},
     "output_type": "display_data"
    }
   ],
   "source": [
    "# -------------------------------------------------------------------------------------------------------\n",
    "# SCP - 2D histogram of Qh vs Ri\n",
    "# Y axis\n",
    "ymin = -25\n",
    "ymax = 125\n",
    "dy = 10\n",
    "# X axis\n",
    "xmin = 0\n",
    "xmax = 1\n",
    "dx = .025\n",
    "# Colors\n",
    "# cmap = sns.cubehelix_palette(11, light=.85, as_cmap=True)\n",
    "cmap = sns.cubehelix_palette(11, start=2.6, rot=.075, light=0.8, as_cmap=True)\n",
    "\n",
    "cmin = 0\n",
    "cmax = 100\n",
    "ncol = 11\n",
    "dcol = (cmax - cmin) / (ncol - 1)\n",
    "cmap = kgraph.cmap_discretize(cmap, ncol)\n",
    "\n",
    "# Re-filter for low wind speeds to better match with idealized synthetic results\n",
    "SCPWindex = np.nonzero((SCP.RiBulk_15m > 0.).values)\n",
    "\n",
    "# Figure formatting\n",
    "fig, axes = plt.subplots(1, 1, figsize=(4, 1.5))\n",
    "\n",
    "# Manual histogram for pcolormesh\n",
    "X = SCP.RiBulk_15m.values[SCPWindex]\n",
    "Y = -SCP.w_tc_10m.values[SCPWindex]\n",
    "H, xedges, yedges = np.histogram2d(X, Y, bins=(np.arange(xmin, xmax, dx),\n",
    "                                               np.arange(ymin, ymax, dy)))\n",
    "H = np.ma.masked_array(H, H < dcol/2)\n",
    "X, Y = np.meshgrid(xedges, yedges)\n",
    "\n",
    "# Binned observations\n",
    "ax = axes\n",
    "im = ax.pcolormesh(X.T, Y.T, H, cmap=cmap, vmin=cmin, vmax=cmax, linewidth=0, rasterized=True)\n",
    "\n",
    "# Average Qh for Richardson number bins\n",
    "ax.plot([xmin, xmax], [0, 0], '--', color='0.85')\n",
    "# ax.plot(binRi, groupQh, color='#42cc60', linewidth=3)\n",
    "ax.plot(binRi, groupQh, 'r', linewidth=3)\n",
    "\n",
    "ax.set_ylim(ymin, ymax)\n",
    "ax.set_xlim(xmin, xmax)\n",
    "ax.set_title('Observations')\n",
    "ax.set_xlabel('Ri #')\n",
    "ax.set_ylabel('$Q_h (Wm^{-2}$)')\n",
    "ax.grid()\n",
    "fig.tight_layout()\n",
    "fig.autofmt_xdate()\n",
    "fig.savefig('OfflineTurb.SCP_15m.2dHist_Ri.ObsOnly.pdf', dpi=300)"
   ]
  },
  {
   "cell_type": "markdown",
   "metadata": {},
   "source": [
    "What is the mean behavior of the wind and temperature gradient distributions?"
   ]
  },
  {
   "cell_type": "code",
   "execution_count": 10,
   "metadata": {
    "collapsed": false
   },
   "outputs": [
    {
     "data": {
      "text/plain": [
       "[<matplotlib.lines.Line2D at 0x12194ba58>]"
      ]
     },
     "execution_count": 10,
     "metadata": {},
     "output_type": "execute_result"
    },
    {
     "data": {
      "image/png": "[encoded data removed]",
      "text/plain": [
       "<matplotlib.figure.Figure at 0x11f16a4e0>"
      ]
     },
     "metadata": {},
     "output_type": "display_data"
    },
    {
     "data": {
      "image/png": "[encoded data removed]",
      "text/plain": [
       "<matplotlib.figure.Figure at 0x11f56e630>"
      ]
     },
     "metadata": {},
     "output_type": "display_data"
    },
    {
     "data": {
      "image/png": "[encoded data removed]",
      "text/plain": [
       "<matplotlib.figure.Figure at 0x11b69b4a8>"
      ]
     },
     "metadata": {},
     "output_type": "display_data"
    },
    {
     "data": {
      "image/png": "[encoded data removed]",
      "text/plain": [
       "<matplotlib.figure.Figure at 0x11f6c05c0>"
      ]
     },
     "metadata": {},
     "output_type": "display_data"
    }
   ],
   "source": [
    "binRi = np.append(np.arange(-0.125, 0.5, 0.025), np.arange(0.5, 2, .1))\n",
    "groupWind = proxyGroupby(SCP, 'RiBulk_15m', binRi, 'UBar_15m')\n",
    "groupTsfc = proxyGroupby(SCP, 'RiBulk_15m', binRi, 'Tsfc')\n",
    "groupTair = proxyGroupby(SCP, 'RiBulk_15m', binRi, 'T_15m_M')\n",
    "\n",
    "plt.figure()\n",
    "plt.plot(binRi, groupTair, '-o')\n",
    "plt.plot(binRi, groupTsfc, '-o')\n",
    "\n",
    "plt.figure()\n",
    "plt.plot(binRi, groupTair - groupTsfc)\n",
    "\n",
    "plt.figure()\n",
    "plt.plot(binRi, groupWind)\n",
    "\n",
    "groupRi = np.digitize(SCP['RiBulk_15m'].values, binRi, right=False)\n",
    "numObs = np.zeros(np.size(binRi))\n",
    "for bnum, bV in enumerate(binRi):\n",
    "    numObs[bnum] = np.nansum(groupRi[groupRi == bnum])\n",
    "plt.figure()\n",
    "plt.plot(binRi, numObs)"
   ]
  },
  {
   "cell_type": "markdown",
   "metadata": {},
   "source": [
    "### Mean Qh"
   ]
  },
  {
   "cell_type": "code",
   "execution_count": 11,
   "metadata": {
    "collapsed": false
   },
   "outputs": [
    {
     "name": "stdout",
     "output_type": "stream",
     "text": [
      "<xarray.DataArray 'SensFlux' ()>\n",
      "array(3.2573252857412203)\n",
      "<xarray.DataArray 'w_tc_10m' ()>\n",
      "array(8.77803941295555)\n",
      "Coordinates:\n",
      "    altitude   float64 1.645e+03\n",
      "    station    |S3 b'M21'\n",
      "    longitude  float64 -104.8\n",
      "    latitude   float64 40.81\n",
      "<xarray.DataArray 'w_tc__2m' ()>\n",
      "array(12.321427601635806)\n",
      "Coordinates:\n",
      "    altitude   float64 1.645e+03\n",
      "    station    |S3 b'M21'\n",
      "    longitude  float64 -104.8\n",
      "    latitude   float64 40.81\n"
     ]
    }
   ],
   "source": [
    "print(SNQ.SensFlux[SNQind].mean(dim='time'))\n",
    "print(-SCP.w_tc_10m[SCPind].mean(dim='time'))\n",
    "print(-SCP.w_tc__2m[SCPind].mean(dim='time'))"
   ]
  },
  {
   "cell_type": "markdown",
   "metadata": {},
   "source": [
    "Here are the color scales I played with to make these graphs"
   ]
  },
  {
   "cell_type": "code",
   "execution_count": 12,
   "metadata": {
    "collapsed": false
   },
   "outputs": [
    {
     "data": {
      "image/png": "[encoded data removed]",
      "text/plain": [
       "<matplotlib.figure.Figure at 0x11f731cc0>"
      ]
     },
     "metadata": {},
     "output_type": "display_data"
    },
    {
     "data": {
      "image/png": "[encoded data removed]",
      "text/plain": [
       "<matplotlib.figure.Figure at 0x11f56ec88>"
      ]
     },
     "metadata": {},
     "output_type": "display_data"
    },
    {
     "data": {
      "image/png": "[encoded data removed]",
      "text/plain": [
       "<matplotlib.figure.Figure at 0x11f56e9e8>"
      ]
     },
     "metadata": {},
     "output_type": "display_data"
    },
    {
     "data": {
      "image/png": "[encoded data removed]",
      "text/plain": [
       "<matplotlib.figure.Figure at 0x11f165128>"
      ]
     },
     "metadata": {},
     "output_type": "display_data"
    }
   ],
   "source": [
    "sns.palplot(sns.color_palette(\"Blues\", 11))\n",
    "\n",
    "sns.palplot(sns.cubehelix_palette(11, light=.8))\n",
    "\n",
    "sns.palplot(sns.cubehelix_palette(11, start=2.7, rot=.075, light=0.8))\n",
    "\n",
    "sns.palplot(sns.color_palette(\"Greys\", 11))"
   ]
  }
 ],
 "metadata": {
  "anaconda-cloud": {},
  "kernelspec": {
   "display_name": "Python [Root]",
   "language": "python",
   "name": "Python [Root]"
  },
  "language_info": {
   "codemirror_mode": {
    "name": "ipython",
    "version": 3
   },
   "file_extension": ".py",
   "mimetype": "text/x-python",
   "name": "python",
   "nbconvert_exporter": "python",
   "pygments_lexer": "ipython3",
   "version": "3.5.2"
  }
 },
 "nbformat": 4,
 "nbformat_minor": 0
}
