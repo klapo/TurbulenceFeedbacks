{
 "cells": [
  {
   "cell_type": "markdown",
   "metadata": {},
   "source": [
    "# Compare offline turbulence to observations\n",
    "### Bias between observed and offline simulated turbulence"
   ]
  },
  {
   "cell_type": "code",
   "execution_count": 1,
   "metadata": {
    "collapsed": false
   },
   "outputs": [],
   "source": [
    "# -------------------------------------------------------------------------------------------------------\n",
    "import numpy as np\n",
    "from datetime import datetime, timedelta\n",
    "import pandas as pd\n",
    "import xarray as xr\n",
    "from scipy.stats.stats import pearsonr\n",
    "\n",
    "# -------------------------------------------------------------------------------------------------------\n",
    "# OS interaction\n",
    "import sys, pickle, os\n",
    "\n",
    "# -------------------------------------------------------------------------------------------------------\n",
    "# plotting packages\n",
    "import seaborn as sns\n",
    "import matplotlib\n",
    "from matplotlib.pyplot import subplots\n",
    "import matplotlib.pyplot as plt\n",
    "from matplotlib import cm\n",
    "from mpl_toolkits.basemap import Basemap\n",
    "from string import ascii_lowercase\n",
    "\n",
    "# -------------------------------------------------------------------------------------------------------\n",
    "# Custom packages\n",
    "import kgraph\n",
    "import turbpy\n",
    "import turbpy.multiConst as mc\n",
    "\n",
    "\n",
    "# -------------------------------------------------------------------------------------------------------\n",
    "# Customize\n",
    "%matplotlib inline\n",
    "sns.set_style(\"whitegrid\")\n",
    "sns.set_context('paper')\n",
    "import warnings\n",
    "warnings.simplefilter(action = \"ignore\", category = RuntimeWarning)\n",
    "\n",
    "# -------------------------------------------------------------------------------------------------------\n",
    "# Directories\n",
    "if 'linux' in sys.platform:\n",
    "    dir_pre = '/home/lapok/gdrive/'\n",
    "elif 'darwin' in sys.platform:\n",
    "    dir_pre = '/Users/karllapo/gdrive/'\n",
    "\n",
    "dirProj = dir_pre+'SnowHydrology/proj/TurbulenceFeedbacks/'\n",
    "dirPrint = dir_pre+'SnowHydrology/proj/TurbulenceFeedbacks/Graphics'\n",
    "dirDataSCP = dir_pre+'SnowHydrology/proj/TurbulenceFeedbacks/data/SCP'\n",
    "dirDataSNQ = dir_pre+'SnowHydrology/proj/TurbulenceFeedbacks/data/SNQ'"
   ]
  },
  {
   "cell_type": "markdown",
   "metadata": {},
   "source": [
    "### Surface observations"
   ]
  },
  {
   "cell_type": "code",
   "execution_count": 2,
   "metadata": {
    "collapsed": false
   },
   "outputs": [],
   "source": [
    "# -------------------------------------------------------------------------------------------------------\n",
    "# SNQ\n",
    "os.chdir(dirDataSNQ)\n",
    "SNQ = xr.open_dataset('SnoqualmieObs.SupportData.wy2013_wy2015.nc')\n",
    "\n",
    "# Indices of simulated turbulence times (observations exist, wind > 2m/s, snow is present)\n",
    "SNQind = np.nonzero((SNQ.SP == 1).values &\n",
    "                    (SNQ.WIND > 2).values &\n",
    "                    (~(np.isnan(SNQ.SensFlux)).values |\n",
    "                    ~(np.isnan(SNQ.LatFlux)).values))\n",
    "\n",
    "# -------------------------------------------------------------------------------------------------------\n",
    "# SCP\n",
    "os.chdir(dirDataSCP)\n",
    "radObs = xr.open_dataset('SCP.rad_obs.netcdf')\n",
    "SCP = xr.open_dataset('SCP.Mtower.netcdf')\n",
    "fluxObs = xr.open_dataset('SCP.flux_obs.netcdf')\n",
    "\n",
    "# Turbulence\n",
    "SCP['w_tc__2m'] = fluxObs.w_tc__2m_M\n",
    "SCP['w_tc_10m'] = fluxObs.w_tc__10m_M\n",
    "\n",
    "# Surface temperature from upwelling longwave\n",
    "sigma = 5.67*10**-8.\n",
    "Tsfc = (radObs.Rlw_out / sigma) ** (1 / 4)\n",
    "SCP['Tsfc'] = (('time'), Tsfc - 273.15)\n",
    "\n",
    "# Wind speed magnitude\n",
    "SCP['UBar_15m'] = (('time'), (SCP.U_15m_M**2 + SCP.V_15m_M**2) ** (1 / 2))\n",
    "SCP.UBar_15m[SCP.UBar_15m > 10] = np.nan\n",
    "SCP['UBar_2m'] = (('time'), (SCP.u_2m_M**2 + SCP.v_2m_M**2) ** (1 / 2))\n",
    "SCP.UBar_15m[SCP.UBar_2m > 10] = np.nan\n",
    "\n",
    "# Bulk Richardson number\n",
    "RiBulk_15m,_,_ = turbpy.bulkRichardson(SCP.T_15m_M + 273.15, SCP.Tsfc + 273.15, SCP.UBar_15m, 15.)\n",
    "SCP['RiBulk_15m'] = RiBulk_15m\n",
    "RiBulk_2m,_,_ = turbpy.bulkRichardson(SCP.T_1m_M + 273.15, SCP.Tsfc + 273.15, SCP.UBar_2m, 2.)\n",
    "SCP['RiBulk_2m'] = RiBulk_2m\n",
    "\n",
    "# Indices of stable periods (simulated)\n",
    "SCPind = np.nonzero((SCP.RiBulk_15m > 0.).values)"
   ]
  },
  {
   "cell_type": "markdown",
   "metadata": {},
   "source": [
    "## Offline Turbulence results\n",
    "\n",
    "#### SCP\n",
    "- Run in the script TF.SUMMATurbConversion_SCP.py script on j-lundquist-3\n",
    "- Results saved to OfflineTurb.SCP.sensible_1m.ALL.nc. The \"ALL\" refers to doing offline simulations on all stable conditions, instead of just a 5% sample, as in previous iterations.\n",
    "- The criteria for stable conditions comes from the 15m observations\n",
    "\n",
    "#### SNQ\n",
    "- Simulation run in TF.OfflineTurb.SNQ\n",
    "- the resulting netcdf was copied from the SNQ data directory to the project level directory. Re-running the script won't change the results in this script unless explicitly moved again.\n",
    "- Simulations only run for periods of wind > 2m/s"
   ]
  },
  {
   "cell_type": "code",
   "execution_count": 3,
   "metadata": {
    "collapsed": true
   },
   "outputs": [],
   "source": [
    "os.chdir(dirProj)\n",
    "ixStability = ('standard','louisInversePower','mahrtExponential','moninObukhov')\n",
    "\n",
    "# -------------------------------------------------------------------------------------------------------\n",
    "# SNQ Offline Turbulence results\n",
    "SNQ_sensible = xr.open_dataset('TF.SNQ_wind2msSP.OfflineTurb.sensible.nc')\n",
    "SNQ_latent = xr.open_dataset('TF.SNQ_wind2msSP.OfflineTurb.latent.nc')\n",
    "\n",
    "# -------------------------------------------------------------------------------------------------------\n",
    "# SCP Offline Turbulence results\n",
    "SCP_sensible_1m = xr.open_dataset('OfflineTurb.SCP.sensible_1m.ALL.nc')\n",
    "SCP_sensible_15m = xr.open_dataset('OfflineTurb.SCP.sensible_15m.ALL.nc')\n",
    "SCP_latent_1m = xr.open_dataset('OfflineTurb.SCP.latent_1m.ALL.nc')\n",
    "SCP_latent_15m = xr.open_dataset('OfflineTurb.SCP.latent_15m.ALL.nc')"
   ]
  },
  {
   "cell_type": "markdown",
   "metadata": {},
   "source": [
    "### Compare offline turb to observed turb"
   ]
  },
  {
   "cell_type": "code",
   "execution_count": 16,
   "metadata": {
    "collapsed": false
   },
   "outputs": [
    {
     "data": {
      "image/png": "[encoded data removed]",
      "text/plain": [
       "<matplotlib.figure.Figure at 0x11f2d4a20>"
      ]
     },
     "metadata": {},
     "output_type": "display_data"
    },
    {
     "data": {
      "image/png": "[encoded data removed]",
      "text/plain": [
       "<matplotlib.figure.Figure at 0x11f96b4a8>"
      ]
     },
     "metadata": {},
     "output_type": "display_data"
    }
   ],
   "source": [
    "## General colorbar arguments\n",
    "cmin = 0\n",
    "cmax = 100\n",
    "ncol = 11\n",
    "dcol = (cmax - cmin) / (ncol - 1)\n",
    "cmap = sns.cubehelix_palette(11, start=2.6, rot=.075, light=0.8, as_cmap=True)\n",
    "cmap = kgraph.cmap_discretize(cmap, ncol)\n",
    "\n",
    "# Colorbar for Snoqualmie\n",
    "fig, caxi = plt.subplots(1, 1, figsize=(.35, 1.5))\n",
    "# Set the colormap and norm to correspond to the data for which\n",
    "# the colorbar will be used.\n",
    "norm = matplotlib.colors.Normalize(vmin=0, vmax=20)\n",
    "cbar = matplotlib.colorbar.ColorbarBase(caxi, cmap=cmap, norm=norm, orientation='vertical')\n",
    "\n",
    "# cbar = plt.colorbar(im, cax=caxi, orientation=\"vertical\", spacing='proportional')\n",
    "cbar.ax.set_ylabel('Number of Events')\n",
    "fig.savefig('OfflineTurb.2dHist.Colorbar.SNQ.pdf', bbox_inches='tight')\n",
    "\n",
    "# Colorbar for the Shallow Cold Pool\n",
    "fig, caxi = plt.subplots(1, 1, figsize=(.35, 3))\n",
    "# Set the colormap and norm to correspond to the data for which\n",
    "# the colorbar will be used.\n",
    "norm = matplotlib.colors.Normalize(vmin=0, vmax=100)\n",
    "cbar = matplotlib.colorbar.ColorbarBase(caxi, cmap=cmap,\n",
    "                                norm=norm,\n",
    "                                orientation='vertical')\n",
    "\n",
    "# cbar = plt.colorbar(im, cax=caxi, orientation=\"vertical\", spacing='proportional')\n",
    "cbar.ax.set_ylabel('Number of Events')\n",
    "fig.savefig('OfflineTurb.2dHist.Colorbar.SCP.pdf', bbox_inches='tight')"
   ]
  },
  {
   "cell_type": "code",
   "execution_count": 17,
   "metadata": {
    "collapsed": false
   },
   "outputs": [
    {
     "data": {
      "image/png": "[encoded data removed]",
      "text/plain": [
       "<matplotlib.figure.Figure at 0x11f8e6828>"
      ]
     },
     "metadata": {},
     "output_type": "display_data"
    }
   ],
   "source": [
    "os.chdir(dirPrint)\n",
    "\n",
    "# -------------------------------------------------------------------------------------------------------\n",
    "# SCP - 2m\n",
    "ymin = -50\n",
    "ymax = 200\n",
    "dx = 10\n",
    "xmin = ymin\n",
    "xmax = ymax\n",
    "dy = dx\n",
    "\n",
    "# Format figure\n",
    "fig, axes = plt.subplots(1, 4, figsize=(9, 2), sharex='col', sharey='row')\n",
    "axes = axes.flatten()\n",
    "\n",
    "# Simulated turbulence\n",
    "for ix, stab in enumerate(ixStability):\n",
    "    ax = axes[ix]\n",
    "    \n",
    "    # Build my own histogram\n",
    "    X = -SCP.w_tc__2m[SCPind].values.flatten()\n",
    "    Y = SCP_sensible_1m[stab].values.flatten()  \n",
    "    H, xedges, yedges = np.histogram2d(X, Y, bins=(np.arange(xmin, xmax, dx),\n",
    "                                                   np.arange(ymin, ymax, dy)))\n",
    "    H = np.ma.masked_array(H, H < cmin+dcol)\n",
    "\n",
    "    # Plot my 2D histogram\n",
    "    X, Y = np.meshgrid(xedges, yedges)\n",
    "    im = ax.pcolormesh(X.T, Y.T, H, cmap=cmap, vmin=cmin, vmax=cmax, linewidth=0, rasterized=True)\n",
    "    \n",
    "    # Zero lines\n",
    "    ax.plot([xmin, xmax], [ymin, ymax], 'k--', linewidth=.5)\n",
    "    ax.plot([0, 0], [ymin, ymax], linewidth=0.5, color='.2')\n",
    "    ax.plot([xmin, xmax], [0, 0], linewidth=0.5, color='.2')\n",
    "\n",
    "    # Format\n",
    "    ax.set_title(ascii_lowercase[ix + 4] + \") \" + stab)\n",
    "    ax.set_ylim(ymin, ymax)\n",
    "    ax.set_xlim(xmin, xmax)\n",
    "    ax.set_xlabel('Obs. $Q_h (Wm^{-2})$')\n",
    "    ax.grid()\n",
    "\n",
    "    # Bias\n",
    "    bias = np.nanmean(SCP_sensible_1m[stab] + SCP.w_tc__2m[SCPind])\n",
    "    ax.text(80, -35, '%2.1f' % bias + ' Wm$^{-2}$')\n",
    "axes[0].set_ylabel('Model $Q_h (Wm^{-2})$')\n",
    "fig.savefig('OfflineTurb.SCP_2m.2dHist_Bias.pdf', bbox_inches='tight')"
   ]
  },
  {
   "cell_type": "code",
   "execution_count": 18,
   "metadata": {
    "collapsed": false
   },
   "outputs": [
    {
     "data": {
      "image/png": "[encoded data removed]",
      "text/plain": [
       "<matplotlib.figure.Figure at 0x11f489128>"
      ]
     },
     "metadata": {},
     "output_type": "display_data"
    }
   ],
   "source": [
    "os.chdir(dirPrint)\n",
    "\n",
    "# -------------------------------------------------------------------------------------------------------\n",
    "# SCP - 2m\n",
    "ymin = -50\n",
    "ymax = 200\n",
    "dx = 10\n",
    "xmin = ymin\n",
    "xmax = ymax\n",
    "dy = dx\n",
    "\n",
    "# Format figure\n",
    "fig, axes = plt.subplots(1, 4, figsize=(9, 2), sharex='col', sharey='row')\n",
    "axes = axes.flatten()\n",
    "\n",
    "# Simulated turbulence\n",
    "for ix, stab in enumerate(ixStability):\n",
    "    ax = axes[ix]\n",
    "    \n",
    "    # Build my own histogram\n",
    "    X = -SCP.w_tc_10m[SCPind].values.flatten()\n",
    "    Y = SCP_sensible_15m[stab].values.flatten()  \n",
    "    H, xedges, yedges = np.histogram2d(X, Y, bins=(np.arange(xmin, xmax, dx),\n",
    "                                                   np.arange(ymin, ymax, dy)))\n",
    "    H = np.ma.masked_array(H, H < cmin+dcol)\n",
    "\n",
    "    # Plot my 2D histogram\n",
    "    X, Y = np.meshgrid(xedges, yedges)\n",
    "    im = ax.pcolormesh(X.T, Y.T, H, cmap=cmap, vmin=cmin, vmax=cmax, linewidth=0, rasterized=True)\n",
    "    \n",
    "    # Zero lines\n",
    "    ax.plot([xmin, xmax], [ymin, ymax], 'k--', linewidth=.5)\n",
    "    ax.plot([0, 0], [ymin, ymax], linewidth=0.5, color='.2')\n",
    "    ax.plot([xmin, xmax], [0, 0], linewidth=0.5, color='.2')\n",
    "\n",
    "    # Format\n",
    "    ax.set_title(ascii_lowercase[ix + 8] + \") \" + stab)\n",
    "    ax.set_ylim(ymin, ymax)\n",
    "    ax.set_xlim(xmin, xmax)\n",
    "    ax.set_xlabel('Obs. $Q_h (Wm^{-2})$')\n",
    "    ax.grid()\n",
    "\n",
    "    # Bias\n",
    "    bias = np.nanmean(SCP_sensible_15m[stab] + SCP.w_tc_10m[SCPind])\n",
    "    ax.text(80, -35, '%2.1f' % bias + ' Wm$^{-2}$')\n",
    "axes[0].set_ylabel('Model $Q_h (Wm^{-2})$')\n",
    "fig.savefig('OfflineTurb.SCP_15m.2dHist_Bias.pdf', bbox_inches='tight')\n"
   ]
  },
  {
   "cell_type": "code",
   "execution_count": 19,
   "metadata": {
    "collapsed": false
   },
   "outputs": [
    {
     "data": {
      "image/png": "[encoded data removed]",
      "text/plain": [
       "<matplotlib.figure.Figure at 0x12128a9b0>"
      ]
     },
     "metadata": {},
     "output_type": "display_data"
    }
   ],
   "source": [
    "os.chdir(dirPrint)\n",
    "\n",
    "# -------------------------------------------------------------------------------------------------------\n",
    "# SNQ\n",
    "ymin = -50\n",
    "ymax = 80\n",
    "dy = 10\n",
    "xmin = ymin\n",
    "xmax = ymax\n",
    "dx = dy\n",
    "\n",
    "cmin = 0\n",
    "cmax = 20\n",
    "ncol = 11\n",
    "dcol = (cmax - cmin) / (ncol - 1)\n",
    "\n",
    "# Format figure\n",
    "fig, axes = plt.subplots(1, 4, figsize=(9, 2), sharex='col', sharey='row')\n",
    "axes = axes.flatten()\n",
    "\n",
    "# Simulated turbulence\n",
    "for ix, stab in enumerate(ixStability):\n",
    "    ax = axes[ix]\n",
    "    \n",
    "    # Build my own histogram\n",
    "    X = SNQ.SensFlux[SNQind].values.flatten()\n",
    "    Y = SNQ_sensible[stab].values.flatten()  \n",
    "    H, xedges, yedges = np.histogram2d(X, Y, bins=(np.arange(xmin, xmax, dx),\n",
    "                                                   np.arange(ymin, ymax, dy)))\n",
    "    H = np.ma.masked_array(H, H < cmin+dcol)\n",
    "    \n",
    "    # Plot my 2D histogram\n",
    "    X, Y = np.meshgrid(xedges, yedges)\n",
    "    im = ax.pcolormesh(X.T, Y.T, H, cmap=cmap, vmin=cmin, vmax=cmax, linewidth=0, rasterized=True)\n",
    "    \n",
    "    # One to one line\n",
    "    ax.plot([xmin, xmax], [ymin, ymax], 'k--', linewidth=.5)\n",
    "\n",
    "    # zero lines\n",
    "    ax.plot([0, 0], [ymin, ymax], linewidth=0.5, color='.2')\n",
    "    ax.plot([xmin, xmax], [0, 0], linewidth=0.5, color='.2')\n",
    "    \n",
    "    # Formatting\n",
    "    ax.set_title(ascii_lowercase[ix] + \") \" + stab)\n",
    "    ax.set_ylim(ymin, ymax)\n",
    "    ax.set_xlim(xmin, xmax)\n",
    "    ax.set_xlabel('Obs. $Q_h (Wm^{-2})$')\n",
    "    ax.grid()\n",
    "    \n",
    "    bias = np.nanmean(SNQ_sensible[stab] - SNQ.SensFlux[SNQind])\n",
    "    ax.text(10, -35, '%2.1f' % bias + ' Wm$^{-2}$')\n",
    "axes[0].set_ylabel('Model $Q_h (Wm^{-2})$')\n",
    "fig.savefig('OfflineTurb.SNQ.2dHist_Bias.pdf', bbox_inches='tight')\n"
   ]
  },
  {
   "cell_type": "markdown",
   "metadata": {},
   "source": [
    "How many stable events per site?"
   ]
  },
  {
   "cell_type": "code",
   "execution_count": 41,
   "metadata": {
    "collapsed": false
   },
   "outputs": [
    {
     "name": "stdout",
     "output_type": "stream",
     "text": [
      "12045\n",
      "565\n"
     ]
    }
   ],
   "source": [
    "print(np.size(SCPind))\n",
    "print(np.size(SNQind))"
   ]
  },
  {
   "cell_type": "code",
   "execution_count": null,
   "metadata": {
    "collapsed": true
   },
   "outputs": [],
   "source": [
    "print(SCP_sensible_15m.mean(dim='time'))\n",
    "print(SCP_sensible_1m.mean(dim='time'))\n",
    "print(SNQ_sensible.mean(dim='time'))"
   ]
  },
  {
   "cell_type": "code",
   "execution_count": null,
   "metadata": {
    "collapsed": true
   },
   "outputs": [],
   "source": [
    "print(SNQ.SensFlux[SNQind].mean(dim='time'))\n",
    "print(-SCP.w_tc_10m[SCPind].mean(dim='time'))\n",
    "print(-SCP.w_tc__2m[SCPind].mean(dim='time'))"
   ]
  }
 ],
 "metadata": {
  "anaconda-cloud": {},
  "kernelspec": {
   "display_name": "Python [Root]",
   "language": "python",
   "name": "Python [Root]"
  },
  "language_info": {
   "codemirror_mode": {
    "name": "ipython",
    "version": 3
   },
   "file_extension": ".py",
   "mimetype": "text/x-python",
   "name": "python",
   "nbconvert_exporter": "python",
   "pygments_lexer": "ipython3",
   "version": "3.5.2"
  }
 },
 "nbformat": 4,
 "nbformat_minor": 0
}
