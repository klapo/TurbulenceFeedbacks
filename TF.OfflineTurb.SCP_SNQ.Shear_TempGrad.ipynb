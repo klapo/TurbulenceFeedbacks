{
 "cells": [
  {
   "cell_type": "markdown",
   "metadata": {},
   "source": [
    "# Compare offline turbulence to observations\n",
    "### function of wind shear and temperature gradient"
   ]
  },
  {
   "cell_type": "code",
   "execution_count": 27,
   "metadata": {
    "collapsed": false
   },
   "outputs": [],
   "source": [
    "# -------------------------------------------------------------------------------------------------------\n",
    "import numpy as np\n",
    "from datetime import datetime, timedelta\n",
    "import pandas as pd\n",
    "import xarray as xr\n",
    "from scipy.stats.stats import pearsonr\n",
    "\n",
    "# -------------------------------------------------------------------------------------------------------\n",
    "# OS interaction\n",
    "import sys, pickle, os\n",
    "\n",
    "# -------------------------------------------------------------------------------------------------------\n",
    "# plotting packages\n",
    "import seaborn as sns\n",
    "import matplotlib\n",
    "from matplotlib.pyplot import subplots\n",
    "import matplotlib.pyplot as plt\n",
    "from matplotlib import cm\n",
    "from mpl_toolkits.basemap import Basemap\n",
    "\n",
    "# -------------------------------------------------------------------------------------------------------\n",
    "# Custom packages\n",
    "import kgraph\n",
    "import turbpy\n",
    "import turbpy.multiConst as mc\n",
    "\n",
    "\n",
    "# -------------------------------------------------------------------------------------------------------\n",
    "# Customize\n",
    "%matplotlib inline\n",
    "sns.set_style(\"whitegrid\")\n",
    "sns.set_context('paper')\n",
    "import string\n",
    "alphabet = list(string.ascii_lowercase)\n",
    "\n",
    "# -------------------------------------------------------------------------------------------------------\n",
    "# Directories\n",
    "if 'linux' in sys.platform:\n",
    "    dir_pre = '/home/lapok/gdrive/'\n",
    "elif 'darwin' in sys.platform:\n",
    "    dir_pre = '/Users/karllapo/gdrive/'\n",
    "\n",
    "dirProj = dir_pre+'SnowHydrology/proj/TurbulenceFeedbacks/'\n",
    "dirPrint = dir_pre+'SnowHydrology/proj/TurbulenceFeedbacks/Graphics'\n",
    "dirDataSCP = dir_pre+'SnowHydrology/proj/TurbulenceFeedbacks/data/SCP'\n",
    "dirDataSNQ = dir_pre+'SnowHydrology/proj/TurbulenceFeedbacks/data/SNQ'"
   ]
  },
  {
   "cell_type": "markdown",
   "metadata": {},
   "source": [
    "### Surface observations"
   ]
  },
  {
   "cell_type": "code",
   "execution_count": 28,
   "metadata": {
    "collapsed": false
   },
   "outputs": [
    {
     "name": "stderr",
     "output_type": "stream",
     "text": [
      "//anaconda/lib/python3.5/site-packages/xarray/core/variable.py:1131: RuntimeWarning: divide by zero encountered in true_divide\n",
      "  else f(other_data, self_data))\n",
      "//anaconda/lib/python3.5/site-packages/xarray/core/variable.py:1130: RuntimeWarning: invalid value encountered in greater\n",
      "  if not reflexive\n"
     ]
    }
   ],
   "source": [
    "# -------------------------------------------------------------------------------------------------------\n",
    "# SNQ\n",
    "os.chdir(dirDataSNQ)\n",
    "SNQ = xr.open_dataset('SnoqualmieObs.SupportData.wy2013_wy2015.nc')\n",
    "\n",
    "# Indices of simulated turbulence times (observations exist, wind > 2m/s, snow is present)\n",
    "# SNQind = np.nonzero((SNQ.SP == 1).values &\n",
    "#                     (SNQ.WIND > 2).values &\n",
    "#                     (~(np.isnan(SNQ.SensFlux)).values |\n",
    "#                     ~(np.isnan(SNQ.LatFlux)).values))\n",
    "RiBulk_SNQ, _, _ = turbpy.bulkRichardson(SNQ.T6 + 273.15, SNQ.Tsrf + 273.15,SNQ.WIND, 6.)\n",
    "SNQ['RiBulk'] = RiBulk_SNQ\n",
    "SNQind = np.nonzero((SNQ.WIND > .2).values & (~(np.isnan(SNQ.SensFlux)).values) & (SNQ.RiBulk > 0).values)\n",
    "\n",
    "# -------------------------------------------------------------------------------------------------------\n",
    "# SCP\n",
    "os.chdir(dirDataSCP)\n",
    "radObs = xr.open_dataset('SCP.rad_obs.netcdf')\n",
    "SCP = xr.open_dataset('SCP.Mtower.netcdf')\n",
    "fluxObs = xr.open_dataset('SCP.flux_obs.netcdf')\n",
    "\n",
    "# Turbulence\n",
    "SCP['w_tc__2m'] = fluxObs.w_tc__2m_M\n",
    "SCP['w_tc_10m'] = fluxObs.w_tc__10m_M\n",
    "\n",
    "# Surface temperature from upwelling longwave\n",
    "sigma = 5.67*10**-8.\n",
    "Tsfc = (radObs.Rlw_out / sigma) ** (1 / 4)\n",
    "SCP['Tsfc'] = (('time'), Tsfc - 273.15)\n",
    "\n",
    "# Wind speed magnitude\n",
    "SCP['UBar_15m'] = (('time'), (SCP.U_15m_M**2 + SCP.V_15m_M**2) ** (1 / 2))\n",
    "SCP.UBar_15m[SCP.UBar_15m > 10] = np.nan\n",
    "SCP['UBar_2m'] = (('time'), (SCP.u_2m_M**2 + SCP.v_2m_M**2) ** (1 / 2))\n",
    "SCP.UBar_15m[SCP.UBar_2m > 10] = np.nan\n",
    "\n",
    "# Bulk Richardson number\n",
    "RiBulk_15m,_,_ = turbpy.bulkRichardson(SCP.T_15m_M + 273.15, SCP.Tsfc + 273.15, SCP.UBar_15m, 15.)\n",
    "SCP['RiBulk_15m'] = RiBulk_15m\n",
    "RiBulk_2m,_,_ = turbpy.bulkRichardson(SCP.T_1m_M + 273.15, SCP.Tsfc + 273.15, SCP.UBar_2m, 2.)\n",
    "SCP['RiBulk_2m'] = RiBulk_2m\n",
    "\n",
    "# Indices of stable periods (simulated)\n",
    "SCPind = np.nonzero((SCP.RiBulk_15m > 0.).values)"
   ]
  },
  {
   "cell_type": "markdown",
   "metadata": {},
   "source": [
    "## Offline Turbulence results\n",
    "\n",
    "#### SCP\n",
    "- Run in the script TF.SUMMATurbConversion_SCP.py script on j-lundquist-3\n",
    "- Results saved to OfflineTurb.SCP.sensible_1m.ALL.nc. The \"ALL\" refers to doing offline simulations on all stable conditions, instead of just a 5% sample, as in previous iterations.\n",
    "- The criteria for stable conditions comes from the 15m observations\n",
    "\n",
    "#### SNQ\n",
    "- Simulation run in TF.OfflineTurb.SNQ\n",
    "- the resulting netcdf was copied from the SNQ data directory to the project level directory. Re-running the script won't change the results in this script unless explicitly moved again.\n",
    "- Simulations only run for periods of wind > 2m/s"
   ]
  },
  {
   "cell_type": "code",
   "execution_count": 29,
   "metadata": {
    "collapsed": false
   },
   "outputs": [],
   "source": [
    "os.chdir(dirProj)\n",
    "ixStability = ('standard','louisInversePower','mahrtExponential','moninObukhov')\n",
    "ixStabilityTitles = ('Anderson', 'Louis', 'Mahrt', 'Monin-Obukhov')\n",
    "\n",
    "# -------------------------------------------------------------------------------------------------------\n",
    "# SNQ Offline Turbulence results\n",
    "SNQ_sensible = xr.open_dataset('TF.SNQ_wind2msSP.OfflineTurb.sensible.nc')\n",
    "SNQ_latent = xr.open_dataset('TF.SNQ_wind2msSP.OfflineTurb.latent.nc')\n",
    "\n",
    "# -------------------------------------------------------------------------------------------------------\n",
    "# SCP Offline Turbulence results\n",
    "SCP_sensible_1m = xr.open_dataset('OfflineTurb.SCP.sensible_1m.ALL.nc')\n",
    "SCP_sensible_15m = xr.open_dataset('OfflineTurb.SCP.sensible_15m.ALL.nc')\n",
    "SCP_latent_1m = xr.open_dataset('OfflineTurb.SCP.latent_1m.ALL.nc')\n",
    "SCP_latent_15m = xr.open_dataset('OfflineTurb.SCP.latent_15m.ALL.nc')\n",
    "\n",
    "os.chdir(dirPrint)"
   ]
  },
  {
   "cell_type": "markdown",
   "metadata": {},
   "source": [
    "# Temperature Gradient"
   ]
  },
  {
   "cell_type": "code",
   "execution_count": 42,
   "metadata": {
    "collapsed": false
   },
   "outputs": [
    {
     "name": "stderr",
     "output_type": "stream",
     "text": [
      "//anaconda/lib/python3.5/site-packages/numpy/lib/function_base.py:804: RuntimeWarning: invalid value encountered in greater_equal\n",
      "  not_smaller_than_edge = (sample[:, i] >= edges[i][-1])\n"
     ]
    },
    {
     "data": {
      "image/png": "[encoded data removed]",
      "text/plain": [
       "<matplotlib.figure.Figure at 0x1270d66d8>"
      ]
     },
     "metadata": {},
     "output_type": "display_data"
    }
   ],
   "source": [
    "# -------------------------------------------------------------------------------------------------------\n",
    "# SCP\n",
    "ymin = -45\n",
    "ymax = 125\n",
    "xmin = 0\n",
    "xmax = 10\n",
    "dy = 10\n",
    "dx = .5\n",
    "\n",
    "# Format figure\n",
    "## General colorbar arguments\n",
    "cmin = 0\n",
    "cmax = 100\n",
    "ncol = 11\n",
    "dcol = (cmax - cmin) / (ncol - 1)\n",
    "cmap = sns.cubehelix_palette(11, start=2.6, rot=.075, light=0.8, as_cmap=True)\n",
    "cmap = kgraph.cmap_discretize(cmap, ncol)\n",
    "fig, axes = plt.subplots(1, 5, figsize=(12, 3), sharex='col', sharey='row')\n",
    "axes = axes.flatten()\n",
    "\n",
    "# Observed turbulence\n",
    "ax = axes[0]\n",
    "\n",
    "# Build my own histogram\n",
    "X = (SCP.T_15m_M[SCPind] - SCP.Tsfc[SCPind]).values.flatten()\n",
    "Y = -SCP.w_tc_10m[SCPind].values.flatten()  \n",
    "H, xedges, yedges = np.histogram2d(X, Y, bins=(np.arange(xmin, xmax, dx),\n",
    "                                               np.arange(ymin, ymax, dy)))\n",
    "H = np.ma.masked_array(H, H < cmin + dcol)\n",
    "# Plot my 2D histogram\n",
    "X, Y = np.meshgrid(xedges, yedges)\n",
    "im = ax.pcolormesh(X.T, Y.T, H, cmap=cmap, vmin=cmin, vmax=cmax, linewidth=0, rasterized=True)\n",
    "\n",
    "ax.plot([xmin, xmax], [0, 0], '--', color='0.8', linewidth=.5)\n",
    "ax.set_title('a) Observations (10m)')\n",
    "ax.set_ylim(ymin, ymax)\n",
    "ax.set_xlim(xmin, xmax)\n",
    "ax.set_xlabel('$T_{air} - T_{sfc} (^{\\circ} C)$')\n",
    "ax.grid()\n",
    "axes[0].set_ylabel('Sensible Flux, $Q_h (Wm^{-2})$')\n",
    "\n",
    "# Simulated turbulence\n",
    "for ix, stab in enumerate(ixStability):\n",
    "    ax = axes[ix + 1]\n",
    "    \n",
    "    # Build my own histogram\n",
    "    X = (SCP.T_15m_M[SCPind] - SCP.Tsfc[SCPind]).values.flatten()\n",
    "    Y = SCP_sensible_15m[stab].values.flatten()  \n",
    "    H, xedges, yedges = np.histogram2d(X, Y, bins=(np.arange(xmin, xmax, dx),\n",
    "                                                   np.arange(ymin, ymax, dy)))\n",
    "    H = np.ma.masked_array(H, H < cmin + dcol)\n",
    "    # Plot my 2D histogram\n",
    "    X, Y = np.meshgrid(xedges, yedges)\n",
    "    im = ax.pcolormesh(X.T, Y.T, H, cmap=cmap, vmin=cmin, vmax=cmax, linewidth=0, rasterized=True)\n",
    "\n",
    "    ax.plot([xmin, xmax], [0, 0], '--', color='0.8', linewidth=.5)\n",
    "    ax.set_title(alphabet[ix + 1] + ') ' + ixStabilityTitles[ix])\n",
    "    ax.set_ylim(ymin, ymax)\n",
    "    ax.set_xlim(xmin, xmax)\n",
    "    ax.set_xlabel('$T_{air} - T_{sfc} (^{\\circ}C)$')\n",
    "    ax.grid()\n",
    "fig.savefig('OfflineTurb.SCP_15m.2dHist_TempGrad.pdf')\n",
    "\n",
    "# -------------------------------------------------------------------------------------------------------\n",
    "# SNQ\n",
    "# This broke when re-running (03/10/17). The existing figure is still there. Probably something to do with not \n",
    "# indexing the data correctly. Definitely not a high priority fix.\n",
    "# ymin = -50\n",
    "# ymax = 100\n",
    "# dy = 10\n",
    "# xmin = 0\n",
    "# xmax = 10\n",
    "# dx = .5\n",
    "\n",
    "# fig, axes = plt.subplots(1, 5, figsize=(12, 3), sharex='col', sharey='row')\n",
    "# axes = axes.flatten()\n",
    "# # Simulated turbulence\n",
    "# for ix, stab in enumerate(ixStability):\n",
    "#     ax = axes[ix]\n",
    "#     ax.hist2d(SNQ.T6[SNQind] - SNQ.Tsrf[SNQind], SNQ_sensible[stab].values,\n",
    "#               bins=(np.arange(xmin, xmax, dx), np.arange(ymin, ymax, dy)),\n",
    "#               cmap=cmap, vmin=5, vmax=20)\n",
    "#     ax.plot([xmin, xmax], [0, 0], 'k--', linewidth=.5)\n",
    "#     ax.set_title(stab)\n",
    "#     ax.set_ylim(ymin, ymax)\n",
    "#     ax.set_xlabel('$T_{air} - T_{sfc} (\\circ^{C})$')\n",
    "# # Observed turbulence\n",
    "# ax = axes[-1]\n",
    "# ax.hist2d(SNQ.T6[SNQind] - SNQ.Tsrf[SNQind], SNQ.SensFlux[SNQind],\n",
    "#           bins=(np.arange(xmin, xmax, dx), np.arange(ymin, ymax, dy)),\n",
    "#           cmap=cmap, vmin=5, vmax=20)\n",
    "# ax.plot([xmin, xmax], [0, 0], 'k--', linewidth=.5)\n",
    "# ax.set_title('Observations (2m)')\n",
    "# ax.set_xlabel('$T_{air} - T_{sfc} (^{\\circ}C)$')\n",
    "# fig.savefig('OfflineTurb.SNQ.2dHist_TempGrad.pdf')\n"
   ]
  },
  {
   "cell_type": "markdown",
   "metadata": {},
   "source": [
    "# Wind"
   ]
  },
  {
   "cell_type": "markdown",
   "metadata": {
    "collapsed": true
   },
   "source": [
    "#### Notes:\n",
    "- No obvious functional relationship between observed turbulence and wind\n",
    "- Assumed form of relationship between simulated turbulence and wind in the bulk aerodynamic formulas does not appear in the observations\n",
    "- SNQ has the same pattern between simulations and observations"
   ]
  },
  {
   "cell_type": "code",
   "execution_count": 44,
   "metadata": {
    "collapsed": false
   },
   "outputs": [
    {
     "name": "stderr",
     "output_type": "stream",
     "text": [
      "//anaconda/lib/python3.5/site-packages/numpy/lib/function_base.py:804: RuntimeWarning: invalid value encountered in greater_equal\n",
      "  not_smaller_than_edge = (sample[:, i] >= edges[i][-1])\n"
     ]
    },
    {
     "data": {
      "image/png": "[encoded data removed]",
      "text/plain": [
       "<matplotlib.figure.Figure at 0x11b6d2ef0>"
      ]
     },
     "metadata": {},
     "output_type": "display_data"
    }
   ],
   "source": [
    "# -------------------------------------------------------------------------------------------------------\n",
    "# SCP\n",
    "ymin = -45\n",
    "ymax = 125\n",
    "xmin = 0\n",
    "xmax = 10\n",
    "\n",
    "# Figure formatting\n",
    "fig, axes = plt.subplots(1, 5, figsize=(12, 3), sharex='col', sharey='row')\n",
    "axes = axes.flatten()\n",
    "cmap = sns.cubehelix_palette(11, start=2.6, rot=.075, light=0.8, as_cmap=True)\n",
    "cmap = kgraph.cmap_discretize(cmap, ncol)\n",
    "\n",
    "# Observed turbulence\n",
    "ax = axes[0]\n",
    "\n",
    "# Build my own histogram\n",
    "X = SCP.UBar_15m[SCPind].values.flatten()\n",
    "Y = -SCP.w_tc_10m[SCPind].values.flatten()  \n",
    "H, xedges, yedges = np.histogram2d(X, Y, bins=(np.arange(xmin, xmax, dx),\n",
    "                                               np.arange(ymin, ymax, dy)))\n",
    "H = np.ma.masked_array(H, H < cmin + dcol)\n",
    "\n",
    "# Plot my 2D histogram\n",
    "X, Y = np.meshgrid(xedges, yedges)\n",
    "im = ax.pcolormesh(X.T, Y.T, H, cmap=cmap, vmin=cmin, vmax=cmax, linewidth=0, rasterized=True)\n",
    "\n",
    "\n",
    "ax.plot([xmin, xmax], [0, 0], 'k--')\n",
    "ax.set_title('a) Observations (10m)')\n",
    "ax.set_ylim(ymin, ymax)\n",
    "ax.set_xlim(xmin, xmax)\n",
    "ax.set_xlabel('Wind Speed (m/s)')\n",
    "ax.plot([xmin, xmax], [0, 0], '--', color='0.8', linewidth=.5)\n",
    "ax.grid()\n",
    "axes[0].set_ylabel('Sensible Flux, $Q_h (Wm^{-2})$')\n",
    "\n",
    "# Simulated turbulence\n",
    "for ix, stab in enumerate(ixStability):\n",
    "    ax = axes[ix + 1]\n",
    "\n",
    "    # Build my own histogram\n",
    "    X = SCP.UBar_15m[SCPind].values.flatten()\n",
    "    Y = SCP_sensible_15m[stab].values.flatten()  \n",
    "    H, xedges, yedges = np.histogram2d(X, Y, bins=(np.arange(xmin, xmax, dx),\n",
    "                                                   np.arange(ymin, ymax, dy)))\n",
    "    H = np.ma.masked_array(H, H < cmin + dcol)\n",
    "    # Plot my 2D histogram\n",
    "    X, Y = np.meshgrid(xedges, yedges)\n",
    "    im = ax.pcolormesh(X.T, Y.T, H, cmap=cmap, vmin=cmin, vmax=cmax, linewidth=0, rasterized=True)\n",
    "\n",
    "    ax.plot([xmin, xmax], [0, 0], '--', color='0.8', linewidth=.5)\n",
    "    ax.set_title(alphabet[ix + 1] + ') ' + ixStabilityTitles[ix])\n",
    "    ax.set_ylim(ymin, ymax)\n",
    "    ax.set_xlim(xmin, xmax)\n",
    "    ax.set_xlabel('Wind Speed (m/s)')\n",
    "    ax.grid()\n",
    "fig.savefig('OfflineTurb.SCP_15m.2dHist_Shear.pdf')\n",
    "\n",
    "# -------------------------------------------------------------------------------------------------------\n",
    "# SNQ\n",
    "# ymin = -50\n",
    "# ymax = 100\n",
    "# dy = 10\n",
    "# xmin = 2\n",
    "# xmax = 4\n",
    "# dx = .2\n",
    "\n",
    "# fig, axes = plt.subplots(1, 5, figsize=(12, 3), sharex='col', sharey='row')\n",
    "# axes = axes.flatten()\n",
    "# # Simulated turbulence\n",
    "# for ix, stab in enumerate(ixStability):\n",
    "#     ax = axes[ix]\n",
    "#     ax.hist2d(SNQ.WIND[SNQind], SNQ_sensible[stab].values,\n",
    "#               bins=(np.arange(xmin, xmax, dx), np.arange(ymin, ymax, dy)),\n",
    "#               cmap=cmap, vmin=5, vmax=20)\n",
    "#     ax.plot([xmin, xmax], [0, 0], 'k--', linewidth=.5)\n",
    "#     ax.set_title(stab)\n",
    "#     ax.set_ylim(ymin, ymax)\n",
    "#     ax.set_xlim(xmin, xmax)\n",
    "#     ax.set_xlabel('Wind Speed (m/s)')\n",
    "# # Observed turbulence\n",
    "# ax = axes[-1]\n",
    "# ax.hist2d(SNQ.WIND[SNQind], SNQ.SensFlux[SNQind].values,\n",
    "#           bins=(np.arange(xmin, xmax, dx), np.arange(ymin, ymax, dy)),\n",
    "#           cmap=cmap, vmin=5, vmax=20)\n",
    "# ax.plot([xmin, xmax], [0, 0], 'k--', linewidth=.5)\n",
    "# ax.set_title('Observations (2m)')\n",
    "# ax.set_xlabel('Wind Speed (m/s)')\n",
    "# ax.set_xlim(xmin, xmax)\n",
    "# axes[0].set_ylabel('Sensible Flux (Wm-2)')\n",
    "# fig.savefig('OfflineTurb.SNQ.2dHist_Shear.pdf')"
   ]
  }
 ],
 "metadata": {
  "anaconda-cloud": {},
  "kernelspec": {
   "display_name": "Python [Root]",
   "language": "python",
   "name": "Python [Root]"
  },
  "language_info": {
   "codemirror_mode": {
    "name": "ipython",
    "version": 3
   },
   "file_extension": ".py",
   "mimetype": "text/x-python",
   "name": "python",
   "nbconvert_exporter": "python",
   "pygments_lexer": "ipython3",
   "version": "3.5.2"
  }
 },
 "nbformat": 4,
 "nbformat_minor": 0
}
