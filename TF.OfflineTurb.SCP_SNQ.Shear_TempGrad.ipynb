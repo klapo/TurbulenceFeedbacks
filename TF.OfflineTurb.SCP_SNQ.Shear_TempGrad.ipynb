{
 "cells": [
  {
   "cell_type": "markdown",
   "metadata": {},
   "source": [
    "# Compare offline turbulence to observations\n",
    "### function of wind shear and temperature gradient"
   ]
  },
  {
   "cell_type": "code",
   "execution_count": 6,
   "metadata": {
    "collapsed": false
   },
   "outputs": [],
   "source": [
    "# -------------------------------------------------------------------------------------------------------\n",
    "import numpy as np\n",
    "from datetime import datetime, timedelta\n",
    "import pandas as pd\n",
    "import xarray as xr\n",
    "from scipy.stats.stats import pearsonr\n",
    "\n",
    "# -------------------------------------------------------------------------------------------------------\n",
    "# OS interaction\n",
    "import sys, pickle, os\n",
    "\n",
    "# -------------------------------------------------------------------------------------------------------\n",
    "# plotting packages\n",
    "import seaborn as sns\n",
    "import matplotlib\n",
    "from matplotlib.pyplot import subplots\n",
    "import matplotlib.pyplot as plt\n",
    "from matplotlib import cm\n",
    "from mpl_toolkits.basemap import Basemap\n",
    "\n",
    "# -------------------------------------------------------------------------------------------------------\n",
    "# Custom packages\n",
    "import kgraph\n",
    "import turbpy\n",
    "import turbpy.multiConst as mc\n",
    "\n",
    "\n",
    "# -------------------------------------------------------------------------------------------------------\n",
    "# Customize\n",
    "%matplotlib inline\n",
    "sns.set_style(\"whitegrid\")\n",
    "sns.set_context('paper')\n",
    "import string\n",
    "alphabet = list(string.ascii_lowercase)\n",
    "\n",
    "# -------------------------------------------------------------------------------------------------------\n",
    "# Directories\n",
    "if 'linux' in sys.platform:\n",
    "    dir_pre = '/home/lapok/gdrive/'\n",
    "elif 'darwin' in sys.platform:\n",
    "    dir_pre = '/Users/karllapo/gdrive/'\n",
    "\n",
    "dirProj = dir_pre+'SnowHydrology/proj/TurbulenceFeedbacks/'\n",
    "dirPrint = dir_pre+'SnowHydrology/proj/TurbulenceFeedbacks/Graphics'\n",
    "dirDataSCP = dir_pre+'SnowHydrology/proj/TurbulenceFeedbacks/data/SCP'\n",
    "dirDataSNQ = dir_pre+'SnowHydrology/proj/TurbulenceFeedbacks/data/SNQ'"
   ]
  },
  {
   "cell_type": "markdown",
   "metadata": {},
   "source": [
    "### Surface observations"
   ]
  },
  {
   "cell_type": "code",
   "execution_count": 3,
   "metadata": {
    "collapsed": false
   },
   "outputs": [],
   "source": [
    "# -------------------------------------------------------------------------------------------------------\n",
    "# SNQ\n",
    "os.chdir(dirDataSNQ)\n",
    "SNQ = xr.open_dataset('SnoqualmieObs.SupportData.wy2013_wy2015.nc')\n",
    "\n",
    "# Indices of simulated turbulence times (observations exist, wind > 2m/s, snow is present)\n",
    "# SNQind = np.nonzero((SNQ.SP == 1).values &\n",
    "#                     (SNQ.WIND > 2).values &\n",
    "#                     (~(np.isnan(SNQ.SensFlux)).values |\n",
    "#                     ~(np.isnan(SNQ.LatFlux)).values))\n",
    "RiBulk_SNQ, _, _ = turbpy.bulkRichardson(SNQ.T6 + 273.15, SNQ.Tsrf + 273.15,SNQ.WIND, 6.)\n",
    "SNQ['RiBulk'] = RiBulk_SNQ\n",
    "SNQind = np.nonzero((SNQ.WIND > .2).values & (~(np.isnan(SNQ.SensFlux)).values) & (SNQ.RiBulk > 0).values)\n",
    "\n",
    "# -------------------------------------------------------------------------------------------------------\n",
    "# SCP\n",
    "os.chdir(dirDataSCP)\n",
    "radObs = xr.open_dataset('SCP.rad_obs.netcdf')\n",
    "SCP = xr.open_dataset('SCP.Mtower.netcdf')\n",
    "fluxObs = xr.open_dataset('SCP.flux_obs.netcdf')\n",
    "\n",
    "# Turbulence\n",
    "SCP['w_tc__2m'] = fluxObs.w_tc__2m_M\n",
    "SCP['w_tc_10m'] = fluxObs.w_tc__10m_M\n",
    "\n",
    "# Surface temperature from upwelling longwave\n",
    "sigma = 5.67*10**-8.\n",
    "Tsfc = (radObs.Rlw_out / sigma) ** (1 / 4)\n",
    "SCP['Tsfc'] = (('time'), Tsfc - 273.15)\n",
    "\n",
    "# Wind speed magnitude\n",
    "SCP['UBar_15m'] = (('time'), (SCP.U_15m_M**2 + SCP.V_15m_M**2) ** (1 / 2))\n",
    "SCP.UBar_15m[SCP.UBar_15m > 10] = np.nan\n",
    "SCP['UBar_2m'] = (('time'), (SCP.u_2m_M**2 + SCP.v_2m_M**2) ** (1 / 2))\n",
    "SCP.UBar_15m[SCP.UBar_2m > 10] = np.nan\n",
    "\n",
    "# Bulk Richardson number\n",
    "RiBulk_15m,_,_ = turbpy.bulkRichardson(SCP.T_15m_M + 273.15, SCP.Tsfc + 273.15, SCP.UBar_15m, 15.)\n",
    "SCP['RiBulk_15m'] = RiBulk_15m\n",
    "RiBulk_2m,_,_ = turbpy.bulkRichardson(SCP.T_1m_M + 273.15, SCP.Tsfc + 273.15, SCP.UBar_2m, 2.)\n",
    "SCP['RiBulk_2m'] = RiBulk_2m\n",
    "\n",
    "# Indices of stable periods (simulated)\n",
    "SCPind = np.nonzero((SCP.RiBulk_15m > 0.).values)"
   ]
  },
  {
   "cell_type": "markdown",
   "metadata": {},
   "source": [
    "## Offline Turbulence results\n",
    "\n",
    "#### SCP\n",
    "- Run in the script TF.SUMMATurbConversion_SCP.py script on j-lundquist-3\n",
    "- Results saved to OfflineTurb.SCP.sensible_1m.ALL.nc. The \"ALL\" refers to doing offline simulations on all stable conditions, instead of just a 5% sample, as in previous iterations.\n",
    "- The criteria for stable conditions comes from the 15m observations\n",
    "\n",
    "#### SNQ\n",
    "- Simulation run in TF.OfflineTurb.SNQ\n",
    "- the resulting netcdf was copied from the SNQ data directory to the project level directory. Re-running the script won't change the results in this script unless explicitly moved again.\n",
    "- Simulations only run for periods of wind > 2m/s"
   ]
  },
  {
   "cell_type": "code",
   "execution_count": 4,
   "metadata": {
    "collapsed": false
   },
   "outputs": [],
   "source": [
    "os.chdir(dirProj)\n",
    "ixStability = ('standard','louisInversePower','mahrtExponential','moninObukhov')\n",
    "ixStabilityTitles = ('Anderson', 'Louis', 'Mahrt', 'Monin-Obukhov')\n",
    "\n",
    "# -------------------------------------------------------------------------------------------------------\n",
    "# SNQ Offline Turbulence results\n",
    "SNQ_sensible = xr.open_dataset('TF.SNQ_wind2msSP.OfflineTurb.sensible.nc')\n",
    "SNQ_latent = xr.open_dataset('TF.SNQ_wind2msSP.OfflineTurb.latent.nc')\n",
    "\n",
    "# -------------------------------------------------------------------------------------------------------\n",
    "# SCP Offline Turbulence results\n",
    "SCP_sensible_1m = xr.open_dataset('OfflineTurb.SCP.sensible_1m.ALL.nc')\n",
    "SCP_sensible_15m = xr.open_dataset('OfflineTurb.SCP.sensible_15m.ALL.nc')\n",
    "SCP_latent_1m = xr.open_dataset('OfflineTurb.SCP.latent_1m.ALL.nc')\n",
    "SCP_latent_15m = xr.open_dataset('OfflineTurb.SCP.latent_15m.ALL.nc')\n",
    "\n",
    "os.chdir(dirPrint)"
   ]
  },
  {
   "cell_type": "markdown",
   "metadata": {},
   "source": [
    "# Temperature Gradient"
   ]
  },
  {
   "cell_type": "code",
   "execution_count": 9,
   "metadata": {
    "collapsed": false
   },
   "outputs": [
    {
     "data": {
      "image/png": "[encoded data removed]",
      "text/plain": [
       "<matplotlib.figure.Figure at 0x11bf8c6a0>"
      ]
     },
     "metadata": {},
     "output_type": "display_data"
    }
   ],
   "source": [
    "# -------------------------------------------------------------------------------------------------------\n",
    "# SCP\n",
    "ymin = -50\n",
    "ymax = 100\n",
    "xmin = 0\n",
    "xmax = 10\n",
    "dy = 10\n",
    "dx = .5\n",
    "\n",
    "# Format figure\n",
    "cmap = kgraph.cmap_discretize(cm.Blues, 15)\n",
    "fig, axes = plt.subplots(1, 5, figsize=(12, 3), sharex='col', sharey='row')\n",
    "axes = axes.flatten()\n",
    "\n",
    "# Observed turbulence\n",
    "ax = axes[0]\n",
    "ax.hist2d(SCP.T_15m_M[SCPind] - SCP.Tsfc[SCPind], -SCP.w_tc_10m[SCPind],\n",
    "          bins=(np.arange(xmin, xmax, dx), np.arange(ymin, ymax, dy)),\n",
    "          cmap=cmap, vmin=5, vmax=100)\n",
    "ax.plot([xmin, xmax], [0, 0], 'k--', linewidth=.5)\n",
    "ax.set_title('a) Observations (10m)')\n",
    "ax.set_ylim(ymin, ymax)\n",
    "ax.set_xlim(xmin, xmax)\n",
    "ax.set_xlabel('$T_{air} - T_{sfc} (\\circ^{C})$')\n",
    "axes[0].set_ylabel('Sensible Flux (Wm-2)')\n",
    "\n",
    "# Simulated turbulence\n",
    "for ix, stab in enumerate(ixStability):\n",
    "    ax = axes[ix + 1]\n",
    "    ax.hist2d(SCP.T_15m_M[SCPind] - SCP.Tsfc[SCPind], SCP_sensible_15m[stab].values,\n",
    "              bins=(np.arange(xmin, xmax, dx), np.arange(ymin, ymax, dy)),\n",
    "              cmap=cmap, vmin=5, vmax=100)\n",
    "    ax.plot([xmin, xmax], [0, 0], 'k--', linewidth=.5)\n",
    "    ax.set_title(alphabet[ix + 1] + ') ' + ixStabilityTitles[ix])\n",
    "    ax.set_ylim(ymin, ymax)\n",
    "    ax.set_xlim(xmin, xmax)\n",
    "    ax.set_xlabel('$T_{air} - T_{sfc} (^{\\circ}C)$')\n",
    "fig.savefig('OfflineTurb.SCP_15m.2dHist_TempGrad.pdf')\n",
    "\n",
    "# -------------------------------------------------------------------------------------------------------\n",
    "# SNQ\n",
    "# This broke when re-running (03/10/17). The existing figure is still there. Probably something to do with not \n",
    "# indexing the data correctly. Definitely not a high priority fix.\n",
    "# ymin = -50\n",
    "# ymax = 100\n",
    "# dy = 10\n",
    "# xmin = 0\n",
    "# xmax = 10\n",
    "# dx = .5\n",
    "\n",
    "# fig, axes = plt.subplots(1, 5, figsize=(12, 3), sharex='col', sharey='row')\n",
    "# axes = axes.flatten()\n",
    "# # Simulated turbulence\n",
    "# for ix, stab in enumerate(ixStability):\n",
    "#     ax = axes[ix]\n",
    "#     ax.hist2d(SNQ.T6[SNQind] - SNQ.Tsrf[SNQind], SNQ_sensible[stab].values,\n",
    "#               bins=(np.arange(xmin, xmax, dx), np.arange(ymin, ymax, dy)),\n",
    "#               cmap=cmap, vmin=5, vmax=20)\n",
    "#     ax.plot([xmin, xmax], [0, 0], 'k--', linewidth=.5)\n",
    "#     ax.set_title(stab)\n",
    "#     ax.set_ylim(ymin, ymax)\n",
    "#     ax.set_xlabel('$T_{air} - T_{sfc} (\\circ^{C})$')\n",
    "# # Observed turbulence\n",
    "# ax = axes[-1]\n",
    "# ax.hist2d(SNQ.T6[SNQind] - SNQ.Tsrf[SNQind], SNQ.SensFlux[SNQind],\n",
    "#           bins=(np.arange(xmin, xmax, dx), np.arange(ymin, ymax, dy)),\n",
    "#           cmap=cmap, vmin=5, vmax=20)\n",
    "# ax.plot([xmin, xmax], [0, 0], 'k--', linewidth=.5)\n",
    "# ax.set_title('Observations (2m)')\n",
    "# ax.set_xlabel('$T_{air} - T_{sfc} (^{\\circ}C)$')\n",
    "# fig.savefig('OfflineTurb.SNQ.2dHist_TempGrad.pdf')\n"
   ]
  },
  {
   "cell_type": "markdown",
   "metadata": {},
   "source": [
    "# Wind"
   ]
  },
  {
   "cell_type": "markdown",
   "metadata": {
    "collapsed": true
   },
   "source": [
    "#### Notes:\n",
    "- No obvious functional relationship between observed turbulence and wind\n",
    "- Assumed form of relationship between simulated turbulence and wind in the bulk aerodynamic formulas does not appear in the observations\n",
    "- SNQ has the same pattern between simulations and observations"
   ]
  },
  {
   "cell_type": "code",
   "execution_count": 8,
   "metadata": {
    "collapsed": false
   },
   "outputs": [
    {
     "data": {
      "image/png": "[encoded data removed]",
      "text/plain": [
       "<matplotlib.figure.Figure at 0x126e9a208>"
      ]
     },
     "metadata": {},
     "output_type": "display_data"
    }
   ],
   "source": [
    "# -------------------------------------------------------------------------------------------------------\n",
    "# SCP\n",
    "ymin = -50\n",
    "ymax = 100\n",
    "xmin = 0\n",
    "xmax = 10\n",
    "\n",
    "# Figure formatting\n",
    "fig, axes = plt.subplots(1, 5, figsize=(12, 3), sharex='col', sharey='row')\n",
    "axes = axes.flatten()\n",
    "cmap = kgraph.cmap_discretize(cm.Blues, 15)\n",
    "\n",
    "# Observed turbulence\n",
    "ax = axes[0]\n",
    "ax.hist2d(SCP.UBar_15m[SCPind], -SCP.w_tc_10m[SCPind],\n",
    "          bins=(np.arange(xmin, xmax, .5), np.arange(ymin, ymax, 10)),\n",
    "          cmap=cmap, vmin=5, vmax=100)\n",
    "ax.plot([xmin, xmax], [0, 0], 'k--')\n",
    "ax.set_title('a) Observations (10m)')\n",
    "ax.set_ylim(ymin, ymax)\n",
    "ax.set_xlim(xmin, xmax)\n",
    "ax.set_xlabel('Wind Speed (m/s)')\n",
    "axes[0].set_ylabel('Sensible Flux (Wm-2)')\n",
    "\n",
    "# Simulated turbulence\n",
    "for ix, stab in enumerate(ixStability):\n",
    "    ax = axes[ix + 1]\n",
    "    ax.hist2d(SCP.UBar_15m[SCPind].values, SCP_sensible_15m[stab].values,\n",
    "              bins=(np.arange(xmin, xmax, .5), np.arange(ymin, ymax, 10)),\n",
    "              cmap=cmap, vmin=5, vmax=100)\n",
    "    ax.plot([xmin, xmax], [0, 0], 'k--')\n",
    "    ax.set_title(alphabet[ix + 1] + ') ' + ixStabilityTitles[ix])\n",
    "    ax.set_ylim(ymin, ymax)\n",
    "    ax.set_xlim(xmin, xmax)\n",
    "    ax.set_xlabel('Wind Speed (m/s)')\n",
    "fig.savefig('OfflineTurb.SCP_15m.2dHist_Shear.pdf')\n",
    "\n",
    "# -------------------------------------------------------------------------------------------------------\n",
    "# SNQ\n",
    "# ymin = -50\n",
    "# ymax = 100\n",
    "# dy = 10\n",
    "# xmin = 2\n",
    "# xmax = 4\n",
    "# dx = .2\n",
    "\n",
    "# fig, axes = plt.subplots(1, 5, figsize=(12, 3), sharex='col', sharey='row')\n",
    "# axes = axes.flatten()\n",
    "# # Simulated turbulence\n",
    "# for ix, stab in enumerate(ixStability):\n",
    "#     ax = axes[ix]\n",
    "#     ax.hist2d(SNQ.WIND[SNQind], SNQ_sensible[stab].values,\n",
    "#               bins=(np.arange(xmin, xmax, dx), np.arange(ymin, ymax, dy)),\n",
    "#               cmap=cmap, vmin=5, vmax=20)\n",
    "#     ax.plot([xmin, xmax], [0, 0], 'k--', linewidth=.5)\n",
    "#     ax.set_title(stab)\n",
    "#     ax.set_ylim(ymin, ymax)\n",
    "#     ax.set_xlim(xmin, xmax)\n",
    "#     ax.set_xlabel('Wind Speed (m/s)')\n",
    "# # Observed turbulence\n",
    "# ax = axes[-1]\n",
    "# ax.hist2d(SNQ.WIND[SNQind], SNQ.SensFlux[SNQind].values,\n",
    "#           bins=(np.arange(xmin, xmax, dx), np.arange(ymin, ymax, dy)),\n",
    "#           cmap=cmap, vmin=5, vmax=20)\n",
    "# ax.plot([xmin, xmax], [0, 0], 'k--', linewidth=.5)\n",
    "# ax.set_title('Observations (2m)')\n",
    "# ax.set_xlabel('Wind Speed (m/s)')\n",
    "# ax.set_xlim(xmin, xmax)\n",
    "# axes[0].set_ylabel('Sensible Flux (Wm-2)')\n",
    "# fig.savefig('OfflineTurb.SNQ.2dHist_Shear.pdf')"
   ]
  },
  {
   "cell_type": "markdown",
   "metadata": {
    "collapsed": true
   },
   "source": [
    "# Bias by Richardson number (all)"
   ]
  },
  {
   "cell_type": "code",
   "execution_count": 4,
   "metadata": {
    "collapsed": false
   },
   "outputs": [
    {
     "data": {
      "image/png": "[encoded data removed]",
      "text/plain": [
       "<matplotlib.figure.Figure at 0x11bee64a8>"
      ]
     },
     "metadata": {},
     "output_type": "display_data"
    }
   ],
   "source": [
    "# -------------------------------------------------------------------------------------------------------\n",
    "# SCP\n",
    "ymin = -50\n",
    "ymax = 100\n",
    "dy = 5\n",
    "xmin = 0\n",
    "xmax = 2\n",
    "dx = .1\n",
    "\n",
    "# Figure formatting\n",
    "fig, axes = plt.subplots(1, 5, figsize=(12, 3), sharex='col', sharey='row')\n",
    "axes = axes.flatten()\n",
    "cmap = kgraph.cmap_discretize(cm.Blues, 15)\n",
    "\n",
    "# Simulated turbulence\n",
    "for ix, stab in enumerate(ixStability):\n",
    "    ax = axes[ix]\n",
    "    ax.hist2d(SCP.RiBulk_15m[SCPind].values, SCP_sensible_15m[stab].values,\n",
    "              bins=(np.arange(xmin, xmax, dx), np.arange(ymin, ymax, dy)),\n",
    "              cmap=cmap, vmin=5, vmax=100)\n",
    "    ax.plot([xmin, xmax], [0, 0], 'k--')\n",
    "    ax.set_title(stab)\n",
    "    ax.set_ylim(ymin, ymax)\n",
    "    ax.set_xlim(xmin, xmax)\n",
    "    ax.set_xlabel('Ri # (m/s)')\n",
    "\n",
    "# Observed turbulence\n",
    "ax = axes[-1]\n",
    "ax.hist2d(SCP.RiBulk_15m[SCPind], -SCP.w_tc_10m[SCPind],\n",
    "          bins=(np.arange(xmin, xmax, dx), np.arange(ymin, ymax, dy)),\n",
    "          cmap=cmap, vmin=5, vmax=100)\n",
    "ax.plot([xmin, xmax], [0, 0], 'k--')\n",
    "ax.set_title('Observations (10m)')\n",
    "ax.set_ylim(ymin, ymax)\n",
    "ax.set_xlim(xmin, xmax)\n",
    "ax.set_xlabel('Ri #')\n",
    "axes[0].set_ylabel('Sensible Flux (Wm-2)')\n",
    "fig.savefig('OfflineTurb.SCP_15m.2dHist_Ri.pdf')"
   ]
  },
  {
   "cell_type": "markdown",
   "metadata": {},
   "source": [
    "# Bias by Richardson number"
   ]
  },
  {
   "cell_type": "code",
   "execution_count": 14,
   "metadata": {
    "collapsed": false
   },
   "outputs": [
    {
     "data": {
      "image/png": "[encoded data removed]",
      "text/plain": [
       "<matplotlib.figure.Figure at 0x11f78a518>"
      ]
     },
     "metadata": {},
     "output_type": "display_data"
    }
   ],
   "source": [
    "# -------------------------------------------------------------------------------------------------------\n",
    "# Synthetic Qh set up\n",
    "ixStability = ('standard', 'louisInversePower', 'mahrtExponential', 'moninObukhov')\n",
    "ixStabilityTitles = ('Anderson', 'Louis', 'Mahrt', 'Monin-Obukhov', 'Monin-Obukhov (no cap)')\n",
    "\n",
    "# Dictionary of colors\n",
    "colr = np.append(kgraph.SRON(4), sns.color_palette([\"#9b59b6\"]), axis=0)\n",
    "colr = dict(zip(ixStabilityTitles, colr))\n",
    "\n",
    "# Met variables\n",
    "sfcTemp = 265\n",
    "airTemp = np.arange(243, 295)\n",
    "windspd = 1\n",
    "mHeight = 2.\n",
    "z0Ground = .005\n",
    "snowDepth = 0.\n",
    "scalarGroundSnowFraction  = 1.\n",
    "(airVaporPress, _) = turbpy.satVapPress(airTemp - 273.)\n",
    "(sfcVaporPress, _) = turbpy.satVapPress(sfcTemp - 273.)\n",
    "airPressure = 101000.\n",
    "\n",
    "RiBulk,_,_ = turbpy.bulkRichardson(airTemp, sfcTemp, windspd, mHeight)\n",
    "\n",
    "stabilitySchemes = {\n",
    "    ixStabilityTitles[0]:np.zeros_like(RiBulk),\n",
    "    ixStabilityTitles[1]:np.zeros_like(RiBulk),\n",
    "    ixStabilityTitles[2]:np.zeros_like(RiBulk),\n",
    "    ixStabilityTitles[3]:np.zeros_like(RiBulk),\n",
    "    }\n",
    "conductanceSensible = {\n",
    "    ixStabilityTitles[0]:np.zeros_like(RiBulk),\n",
    "    ixStabilityTitles[1]:np.zeros_like(RiBulk),\n",
    "    ixStabilityTitles[2]:np.zeros_like(RiBulk),\n",
    "    ixStabilityTitles[3]:np.zeros_like(RiBulk),\n",
    "    }\n",
    "senHeatGround = {\n",
    "    ixStabilityTitles[0]: np.zeros_like(RiBulk),\n",
    "    ixStabilityTitles[1]: np.zeros_like(RiBulk),\n",
    "    ixStabilityTitles[2]: np.zeros_like(RiBulk),\n",
    "    ixStabilityTitles[3]: np.zeros_like(RiBulk),\n",
    "    }\n",
    "\n",
    "# -------------------------------------------------------------------------------------------------------\n",
    "# turbpy\n",
    "for stab, stabTitle in zip(ixStability, ixStabilityTitles):\n",
    "    for n, (tair, vp) in enumerate(zip(airTemp, airVaporPress)):\n",
    "        # Check for MO capping\n",
    "        if 'no cap' in stabTitle:\n",
    "            windlessExchange = False\n",
    "        else:\n",
    "            windlessExchange = True\n",
    "\n",
    "        # Offline Turbulence Package\n",
    "        (conductanceSensible[stabTitle][n], _, senHeatGround[stabTitle][n], _, _, stabOutput, _, _) \\\n",
    "            = turbpy.turbFluxes(tair, airPressure, vp, windspd, sfcTemp, sfcVaporPress, snowDepth, mHeight,\n",
    "                                groundSnowFraction=1,\n",
    "                                ixDerivMethod=False,\n",
    "                                ixStability=stab,\n",
    "                                ixStabParam=mc.stabParams,\n",
    "                                z0Ground=.005,\n",
    "                                windlessExchange=windlessExchange)\n",
    "        \n",
    "        # Unpack stability parameters dictionary\n",
    "        if not 'moninObukhov' in stab:\n",
    "            stabilitySchemes[stabTitle][n] = stabOutput['stabilityCorrection']\n",
    "        else:\n",
    "            stabilitySchemes[stabTitle][n] = np.nan\n",
    "\n",
    "\n",
    "# -------------------------------------------------------------------------------------------------------\n",
    "# SCP observations\n",
    "# Y axis\n",
    "ymin = -10\n",
    "ymax = 30\n",
    "dy = 5\n",
    "# X axis\n",
    "xmin = 0\n",
    "xmax = 1\n",
    "dx = .025\n",
    "# Colors\n",
    "cmin = 0\n",
    "cmax = 55\n",
    "ncol = 11\n",
    "dcol = (cmax - cmin) / (ncol - 1)\n",
    "cmap = kgraph.cmap_discretize(cm.Blues, ncol)\n",
    "\n",
    "# Re-filter for low wind speeds to better match with idealized synthetic results\n",
    "SCPWindex = np.nonzero((SCP.RiBulk_15m > 0.).values & (SCP.UBar_15m < 3).values)\n",
    "SCP_sensible_15m_plot = SCP_sensible_15m.reindex_like(SCP)\n",
    "SCP_sensible_1m_plot = SCP_sensible_1m.reindex_like(SCP)\n",
    "\n",
    "# Figure formatting\n",
    "fig, axes = plt.subplots(4, 1, figsize=(4, 4), sharex='col', sharey='row')\n",
    "axes = axes.flatten()\n",
    "cmap = kgraph.cmap_discretize(cm.Blues, 15)\n",
    "\n",
    "# Simulated turbulence\n",
    "for (ix, stab), stabTitle in zip(enumerate(ixStability), ixStabilityTitles):\n",
    "    ax = axes[ix]\n",
    "\n",
    "    # Manual histogram\n",
    "    X = np.concatenate((SCP.RiBulk_15m.values[SCPWindex],\n",
    "                        SCP.RiBulk_2m.values[SCPWindex]), axis=0)\n",
    "    Y = np.concatenate((SCP_sensible_15m_plot[stab].values[SCPWindex],\n",
    "                        SCP_sensible_1m_plot[stab].values[SCPWindex]), axis=0)\n",
    "    H, xedges, yedges = np.histogram2d(X, Y, bins=(np.arange(xmin, xmax, dx),\n",
    "                                                   np.arange(ymin, ymax, dy)))\n",
    "    H = np.ma.masked_array(H, H < cmin + dcol)\n",
    "    X, Y = np.meshgrid(xedges, yedges)\n",
    "    im = ax.pcolormesh(X.T, Y.T, H,cmap=cmap,vmin=cmin,vmax=cmax)\n",
    "    \n",
    "    # Synthetic turbulence\n",
    "    ax.plot(RiBulk, senHeatGround[stabTitle], color='r')\n",
    "    \n",
    "    # Formatting\n",
    "    ax.plot([xmin, xmax], [0, 0], 'k--')\n",
    "    ax.set_title(stabTitle)\n",
    "    ax.set_ylim(ymin, ymax)\n",
    "    ax.set_xlim(xmin, xmax)\n",
    "    ax.set_ylabel('$Q_h (Wm^{-2})$')\n",
    "    ax.grid()\n",
    "\n",
    "fig.autofmt_xdate()\n",
    "fig.tight_layout()\n",
    "fig.savefig('OfflineTurb.SCP_15m.2dHist_Ri.LowWind.pdf')"
   ]
  },
  {
   "cell_type": "markdown",
   "metadata": {},
   "source": [
    "Lower Ri conditions = generally higher windspeed, higher Ri = lower windspeed. So all of the curves are shifted to larger Qh at low Ri and smaller Qh at high Ri. This is probably related to the unrealistic wind scaling seen in the above plots. See below for wind as a function of Ri.\n",
    "\n",
    "I can't explain why the Anderson method doesn't go to zero at Ric = 0.2 like I expect. That's bizarre."
   ]
  },
  {
   "cell_type": "code",
   "execution_count": 18,
   "metadata": {
    "collapsed": false
   },
   "outputs": [
    {
     "data": {
      "image/png": "[encoded data removed]",
      "text/plain": [
       "<matplotlib.figure.Figure at 0x11f4b2ba8>"
      ]
     },
     "metadata": {},
     "output_type": "display_data"
    }
   ],
   "source": [
    "SCP.UBar_15m[SCPWindex].mean(dim='time')\n",
    "\n",
    "# -------------------------------------------------------------------------------------------------------\n",
    "# SCP - 2D histogram of Qh vs Ri\n",
    "# Y axis\n",
    "ymin = 0\n",
    "ymax = 3\n",
    "dy = 0.1\n",
    "# X axis\n",
    "xmin = 0\n",
    "xmax = 1\n",
    "dx = .025\n",
    "# Colors\n",
    "cmin = 0\n",
    "cmax = 55\n",
    "ncol = 11\n",
    "dcol = (cmax - cmin) / (ncol - 1)\n",
    "cmap = kgraph.cmap_discretize(cm.Blues, ncol)\n",
    "\n",
    "# Re-filter for low wind speeds to better match with idealized synthetic results\n",
    "SCPWindex = np.nonzero((SCP.RiBulk_15m > 0.).values & (SCP.UBar_15m < 3).values & (SCP.UBar_2m < 3).values)\n",
    "\n",
    "# Figure formatting\n",
    "fig, axes = plt.subplots(1, 1, figsize=(4, 1.2))\n",
    "cmap = kgraph.cmap_discretize(cm.Blues, 15)\n",
    "\n",
    "# Manual histogram for pcolormesh\n",
    "X = np.concatenate((SCP.RiBulk_15m.values[SCPWindex],\n",
    "                    SCP.RiBulk_2m.values[SCPWindex]), axis=0)\n",
    "Y = np.concatenate((SCP.UBar_15m.values[SCPWindex],\n",
    "                    SCP.UBar_2m.values[SCPWindex]), axis = 0)\n",
    "H, xedges, yedges = np.histogram2d(X, Y, bins=(np.arange(xmin, xmax, dx),\n",
    "                                               np.arange(ymin, ymax, dy)))\n",
    "H = np.ma.masked_array(H, H < cmin + dcol)\n",
    "X, Y = np.meshgrid(xedges, yedges)\n",
    "\n",
    "# Binned observations\n",
    "ax = axes\n",
    "im = ax.pcolormesh(X.T, Y.T, H,cmap=cmap,vmin=cmin,vmax=cmax)\n",
    "\n",
    "ax.plot([xmin, xmax], [0, 0], 'k--')\n",
    "ax.set_ylim(ymin, ymax)\n",
    "ax.set_xlim(xmin, xmax)\n",
    "ax.set_xlabel('Ri #')\n",
    "ax.set_ylabel('$U (ms^{-1}$)')\n",
    "ax.grid()\n",
    "fig.tight_layout()\n",
    "fig.savefig('OfflineTurb.SCP_15m.2dHist_U.pdf')"
   ]
  },
  {
   "cell_type": "code",
   "execution_count": 19,
   "metadata": {
    "collapsed": false
   },
   "outputs": [
    {
     "data": {
      "image/png": "[encoded data removed]",
      "text/plain": [
       "<matplotlib.figure.Figure at 0x11b7d7710>"
      ]
     },
     "metadata": {},
     "output_type": "display_data"
    }
   ],
   "source": [
    "SCP.UBar_15m[SCPWindex].mean(dim='time')\n",
    "\n",
    "# -------------------------------------------------------------------------------------------------------\n",
    "# SCP - 2D histogram of Qh vs Ri\n",
    "# Y axis\n",
    "ymin = 0\n",
    "ymax = 10\n",
    "dy = 0.5\n",
    "# X axis\n",
    "xmin = 0\n",
    "xmax = 1\n",
    "dx = .025\n",
    "# Colors\n",
    "cmin = 0\n",
    "cmax = 55\n",
    "ncol = 11\n",
    "dcol = (cmax - cmin) / (ncol - 1)\n",
    "cmap = kgraph.cmap_discretize(cm.Blues, ncol)\n",
    "\n",
    "# Re-filter for low wind speeds to better match with idealized synthetic results\n",
    "SCPWindex = np.nonzero((SCP.RiBulk_15m > 0.).values & (SCP.UBar_15m < 3).values)\n",
    "\n",
    "# Figure formatting\n",
    "fig, axes = plt.subplots(1, 1, figsize=(4, 1.2))\n",
    "cmap = kgraph.cmap_discretize(cm.Blues, 15)\n",
    "\n",
    "# Manual histogram for pcolormesh\n",
    "X = np.concatenate((SCP.RiBulk_15m.values[SCPWindex],\n",
    "                    SCP.RiBulk_2m.values[SCPWindex]), axis=0)\n",
    "Y = np.concatenate(((SCP.T_15m_M - SCP.Tsfc).values[SCPWindex],\n",
    "                    (SCP.T_15m_M - SCP.Tsfc).values[SCPWindex]), axis=0)\n",
    "H, xedges, yedges = np.histogram2d(X, Y, bins=(np.arange(xmin, xmax, dx),\n",
    "                                               np.arange(ymin, ymax, dy)))\n",
    "H = np.ma.masked_array(H, H < cmin + dcol)\n",
    "X, Y = np.meshgrid(xedges, yedges)\n",
    "\n",
    "# Binned observations\n",
    "ax = axes\n",
    "im = ax.pcolormesh(X.T, Y.T, H, cmap=cmap, vmin=cmin, vmax=cmax)\n",
    "\n",
    "ax.plot([xmin, xmax], [0, 0], 'k--')\n",
    "ax.set_ylim(ymin, ymax)\n",
    "ax.set_xlim(xmin, xmax)\n",
    "ax.set_xlabel('Ri #')\n",
    "ax.set_ylabel('$T_{air} - T_{sfc} (^{\\circ} C$)')\n",
    "ax.grid()\n",
    "fig.tight_layout()\n",
    "fig.savefig('OfflineTurb.SCP_15m.2dHist_Tgrad.pdf')"
   ]
  },
  {
   "cell_type": "code",
   "execution_count": 20,
   "metadata": {
    "collapsed": false
   },
   "outputs": [
    {
     "data": {
      "image/png": "[encoded data removed]",
      "text/plain": [
       "<matplotlib.figure.Figure at 0x12096e9e8>"
      ]
     },
     "metadata": {},
     "output_type": "display_data"
    }
   ],
   "source": [
    "# -------------------------------------------------------------------------------------------------------\n",
    "# SCP - 2D histogram of Qh vs Ri\n",
    "# Y axis\n",
    "ymin = -10\n",
    "ymax = 30\n",
    "dy = 5\n",
    "# X axis\n",
    "xmin = 0\n",
    "xmax = 1\n",
    "dx = .025\n",
    "# Colors\n",
    "cmin = 0\n",
    "cmax = 55\n",
    "ncol = 11\n",
    "dcol = (cmax - cmin) / (ncol - 1)\n",
    "cmap = kgraph.cmap_discretize(cm.Blues, ncol)\n",
    "\n",
    "# Re-filter for low wind speeds to better match with idealized synthetic results\n",
    "SCPWindex = np.nonzero((SCP.RiBulk_15m > 0.).values & (SCP.UBar_15m < 3).values)\n",
    "\n",
    "# Figure formatting\n",
    "fig, axes = plt.subplots(1, 1, figsize=(4, 1.2))\n",
    "cmap = kgraph.cmap_discretize(cm.Blues, 15)\n",
    "\n",
    "# Manual histogram for pcolormesh\n",
    "X = np.concatenate((SCP.RiBulk_15m.values[SCPWindex],\n",
    "                    SCP.RiBulk_2m.values[SCPWindex]), axis=0)\n",
    "Y = np.concatenate((-SCP.w_tc_10m.values[SCPWindex],\n",
    "                    -SCP.w_tc__2m.values[SCPWindex]), axis = 0)\n",
    "H, xedges, yedges = np.histogram2d(X, Y, bins=(np.arange(xmin, xmax, dx),\n",
    "                                               np.arange(ymin, ymax, dy)))\n",
    "H = np.ma.masked_array(H, H < cmin + dcol)\n",
    "X, Y = np.meshgrid(xedges, yedges)\n",
    "\n",
    "# Binned observations\n",
    "ax = axes\n",
    "im = ax.pcolormesh(X.T, Y.T, H,cmap=cmap,vmin=cmin,vmax=cmax)\n",
    "\n",
    "ax.plot([xmin, xmax], [0, 0], 'k--')\n",
    "ax.set_ylim(ymin, ymax)\n",
    "ax.set_xlim(xmin, xmax)\n",
    "ax.set_title('Observations')\n",
    "ax.set_xlabel('Ri #')\n",
    "ax.set_ylabel('$Q_h (Wm^{-2}$)')\n",
    "ax.grid()\n",
    "fig.tight_layout()\n",
    "fig.autofmt_xdate()\n",
    "fig.savefig('OfflineTurb.SCP_15m.2dHist_Ri.ObsOnly.pdf')"
   ]
  },
  {
   "cell_type": "code",
   "execution_count": 12,
   "metadata": {
    "collapsed": false
   },
   "outputs": [
    {
     "name": "stdout",
     "output_type": "stream",
     "text": [
      "<xarray.Dataset>\n",
      "Dimensions:            ()\n",
      "Coordinates:\n",
      "    *empty*\n",
      "Data variables:\n",
      "    moninObukhov       float64 10.7\n",
      "    standard           float64 16.19\n",
      "    louisInversePower  float64 26.46\n",
      "    mahrtExponential   float64 54.35\n",
      "<xarray.Dataset>\n",
      "Dimensions:            ()\n",
      "Coordinates:\n",
      "    *empty*\n",
      "Data variables:\n",
      "    moninObukhov       float64 8.947\n",
      "    standard           float64 41.8\n",
      "    louisInversePower  float64 43.93\n",
      "    mahrtExponential   float64 51.82\n",
      "<xarray.Dataset>\n",
      "Dimensions:            ()\n",
      "Coordinates:\n",
      "    *empty*\n",
      "Data variables:\n",
      "    standard           float64 9.491\n",
      "    louisInversePower  float64 21.46\n",
      "    mahrtExponential   float64 54.91\n",
      "    moninObukhov       float64 27.29\n"
     ]
    }
   ],
   "source": [
    "print(SCP_sensible_15m.mean(dim='time'))\n",
    "print(SCP_sensible_1m.mean(dim='time'))\n",
    "print(SNQ_sensible.mean(dim='time'))\n"
   ]
  },
  {
   "cell_type": "code",
   "execution_count": 17,
   "metadata": {
    "collapsed": false
   },
   "outputs": [
    {
     "name": "stdout",
     "output_type": "stream",
     "text": [
      "<xarray.DataArray 'SensFlux' ()>\n",
      "array(6.03619084795894)\n",
      "<xarray.DataArray 'w_tc_10m' ()>\n",
      "array(8.77803941295555)\n",
      "Coordinates:\n",
      "    altitude   float64 1.645e+03\n",
      "    station    |S3 b'M21'\n",
      "    longitude  float64 -104.8\n",
      "    latitude   float64 40.81\n",
      "<xarray.DataArray 'w_tc__2m' ()>\n",
      "array(12.321427601635806)\n",
      "Coordinates:\n",
      "    altitude   float64 1.645e+03\n",
      "    station    |S3 b'M21'\n",
      "    longitude  float64 -104.8\n",
      "    latitude   float64 40.81\n"
     ]
    }
   ],
   "source": [
    "print(SNQ.SensFlux[SNQind].mean(dim='time'))\n",
    "print(-SCP.w_tc_10m[SCPind].mean(dim='time'))\n",
    "print(-SCP.w_tc__2m[SCPind].mean(dim='time'))"
   ]
  },
  {
   "cell_type": "code",
   "execution_count": 48,
   "metadata": {
    "collapsed": false
   },
   "outputs": [
    {
     "data": {
      "image/png": "[encoded data removed]",
      "text/plain": [
       "<matplotlib.figure.Figure at 0x11c686908>"
      ]
     },
     "metadata": {},
     "output_type": "display_data"
    }
   ],
   "source": [
    "SCP.UBar_15m[SCPWindex].mean(dim='time')\n",
    "\n",
    "# -------------------------------------------------------------------------------------------------------\n",
    "# SCP - 2D histogram of Qh vs Ri\n",
    "# Y axis\n",
    "ymin = 0\n",
    "ymax = 3\n",
    "dy = 0.1\n",
    "# X axis\n",
    "xmin = 0\n",
    "xmax = 15\n",
    "dx = .5\n",
    "# Colors\n",
    "cmin = 0\n",
    "cmax = 55\n",
    "ncol = 11\n",
    "dcol = (cmax - cmin) / (ncol - 1)\n",
    "cmap = kgraph.cmap_discretize(cm.Blues, ncol)\n",
    "\n",
    "# Re-filter for low wind speeds to better match with idealized synthetic results\n",
    "SCPWindex = np.nonzero((SCP.RiBulk_15m > 0.).values & (SCP.UBar_15m < 2).values)\n",
    "\n",
    "# Figure formatting\n",
    "fig, axes = plt.subplots(1, 1, figsize=(6, 1.5))\n",
    "cmap = kgraph.cmap_discretize(cm.Blues, 15)\n",
    "\n",
    "# Manual histogram for pcolormesh\n",
    "X = np.concatenate(((SCP.T_15m_M - SCP.Tsfc).values[SCPWindex],\n",
    "                    (SCP.T_15m_M - SCP.Tsfc).values[SCPWindex]), axis=0)\n",
    "Y = np.concatenate((SCP.UBar_15m.values[SCPWindex],\n",
    "                    SCP.UBar_2m.values[SCPWindex]), axis = 0)\n",
    "H, xedges, yedges = np.histogram2d(X, Y, bins=(np.arange(xmin, xmax, dx),\n",
    "                                               np.arange(ymin, ymax, dy)))\n",
    "H = np.ma.masked_array(H, H < cmin + dcol)\n",
    "X, Y = np.meshgrid(xedges, yedges)\n",
    "\n",
    "# Binned observations\n",
    "ax = axes\n",
    "im = ax.pcolormesh(X.T, Y.T, H,cmap=cmap,vmin=cmin,vmax=cmax)\n",
    "\n",
    "ax.plot([xmin, xmax], [0, 0], 'k--')\n",
    "ax.set_ylim(ymin, ymax)\n",
    "ax.set_xlim(xmin, xmax)\n",
    "ax.set_xlabel('Ri #')\n",
    "ax.set_ylabel('$U (ms^{-1}$)')\n",
    "ax.grid()\n",
    "fig.tight_layout()\n",
    "# fig.savefig('OfflineTurb.SCP_15m.2dHist_U.pdf')"
   ]
  }
 ],
 "metadata": {
  "anaconda-cloud": {},
  "kernelspec": {
   "display_name": "Python [Root]",
   "language": "python",
   "name": "Python [Root]"
  },
  "language_info": {
   "codemirror_mode": {
    "name": "ipython",
    "version": 3
   },
   "file_extension": ".py",
   "mimetype": "text/x-python",
   "name": "python",
   "nbconvert_exporter": "python",
   "pygments_lexer": "ipython3",
   "version": "3.5.2"
  }
 },
 "nbformat": 4,
 "nbformat_minor": 0
}
