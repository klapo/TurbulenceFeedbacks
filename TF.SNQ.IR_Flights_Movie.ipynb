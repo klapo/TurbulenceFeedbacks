{
 "cells": [
  {
   "cell_type": "markdown",
   "metadata": {},
   "source": [
    "# Read/process relevant IR images\n",
    "- Initial attempt at reading IR camera dataset\n",
    "- Make movie of the IR images\n",
    "- Includes histogram of IR images, showing double gaussian"
   ]
  },
  {
   "cell_type": "code",
   "execution_count": 1,
   "metadata": {
    "collapsed": false
   },
   "outputs": [],
   "source": [
    "import numpy as np\n",
    "from datetime import datetime, timedelta\n",
    "import pandas as pd\n",
    "import xarray as xr\n",
    "import kray\n",
    "# OS interaction\n",
    "import sys, pickle, os\n",
    "# import subplots function for plotting\n",
    "import seaborn as sns\n",
    "import matplotlib\n",
    "from matplotlib.pyplot import subplots\n",
    "import matplotlib.pyplot as plt\n",
    "from matplotlib import cm\n",
    "from mpl_toolkits.basemap import Basemap\n",
    "import kgraph\n",
    "import matplotlib.gridspec as gridspec\n",
    "from moviepy.editor import *\n",
    "\n",
    "# --------------------------------------------------------------------------------------------\n",
    "# Directory Lists\n",
    "# Unix\n",
    "if 'linux' in sys.platform:\n",
    "    dirPre = '/home/lapok/gdrive/'\n",
    "# Mac\n",
    "elif 'darwin' in sys.platform:\n",
    "    dirPre = '/Users/karllapo/gdrive/'\n",
    "# Directory for printing figures\n",
    "dirPrint = dirPre + 'SnowHydrology/proj/TurbulenceFeedbacks/Graphics/IR_SnoqualmieFlights'\n",
    "# Met data directory\n",
    "dirData = dirPre + 'SnowHydrology/proj/TurbulenceFeedbacks/data/SNQ/IR_SnoqualmieFlights'\n",
    "\n",
    "# --------------------------------------------------------------------------------------------\n",
    "# Global formatting\n",
    "sns.set_context('paper')\n",
    "sns.set_style('whitegrid')\n",
    "# must insert this statement to render the plots within the notebook\n",
    "%matplotlib inline"
   ]
  },
  {
   "cell_type": "code",
   "execution_count": 2,
   "metadata": {
    "collapsed": true
   },
   "outputs": [],
   "source": [
    "# --------------------------------------------------------------------------------------------\n",
    "# Functions/classes for reading binary files in python\n",
    "# From: http://code.activestate.com/recipes/577610-decoding-binary-files/\n",
    "import struct\n",
    "\n",
    "class BinaryReaderEOFException(Exception):\n",
    "    def __init__(self):\n",
    "        pass\n",
    "    def __str__(self):\n",
    "        return 'Not enough bytes in file to satisfy read request'\n",
    "\n",
    "class BinaryReader:\n",
    "    # Map well-known type names into struct format characters.\n",
    "    typeNames = {\n",
    "        'int8'   :'b',\n",
    "        'uint8'  :'B',\n",
    "        'int16'  :'h',\n",
    "        'uint16' :'H',\n",
    "        'int32'  :'i',\n",
    "        'uint32' :'I',\n",
    "        'int64'  :'q',\n",
    "        'uint64' :'Q',\n",
    "        'float'  :'f',\n",
    "        'double' :'d',\n",
    "        'char'   :'s'}\n",
    "\n",
    "    def __init__(self, fileName):\n",
    "        self.file = open(fileName, 'rb')\n",
    "        \n",
    "    def seek(self, seekLocation):\n",
    "        self.file.seek(seekLocation)\n",
    "\n",
    "    def read(self, typeName):\n",
    "        typeFormat = BinaryReader.typeNames[typeName.lower()]\n",
    "        typeSize = struct.calcsize(typeFormat)\n",
    "        value = self.file.read(typeSize)\n",
    "        if typeSize != len(value):\n",
    "            raise BinaryReaderEOFException\n",
    "        return struct.unpack(typeFormat, value)[0]\n",
    "\n",
    "    def __del__(self):\n",
    "        self.file.close()"
   ]
  },
  {
   "cell_type": "code",
   "execution_count": 56,
   "metadata": {
    "collapsed": false
   },
   "outputs": [],
   "source": [
    "os.chdir(dirData)\n",
    "fname = '1368575242_2013MAY14_2347CUT_PLANE_DRS-IR_0_STACK.dat'\n",
    "# fname = '1368566727_2013MAY14_2125CUT_PLANE_DRS-IR_02_STACK.dat'\n",
    "\n",
    "#  $eplace these with the appropriate paths and filenames\n",
    "# I'm not clear on what each file actually is at the moment\n",
    "# fn1 = '1368575242_2013MAY14_2347CUT_PLANE_DRS-IR_1_STACK.dat'\n",
    "# fn0 = '1368575242_2013MAY14_2347CUT_PLANE_DRS-IR_0_STACK.dat'\n",
    "# fnP = '1368575242_2013MAY14_2347CUT_PLANE-INS.DAT'\n",
    "# fnE = '1368575246_2013MAY14_2347CUT_PLANE_DRS-IR_02_STACK.dat'"
   ]
  },
  {
   "cell_type": "code",
   "execution_count": 57,
   "metadata": {
    "collapsed": false
   },
   "outputs": [],
   "source": [
    "# --------------------------------------------------------------------------------------------\n",
    "# Variables to pass to the read function:\n",
    "# params - [bit_header_offset bit_spacer bit_depth width height]\n",
    "# findex - specific frames to read in\n",
    "# infoOnlyFlag - if True only return info on IR images\n",
    "params = np.array([1904, 1904, 16, 640, 480])\n",
    "# paramsE = [0 0 8 1280 960];  % parameter for reading in the EO images\n",
    "\n",
    "# Converting camera data to brightness temperature:\n",
    "# \n",
    "\n",
    "# fIndex = np.arange(0, 2000, 5)\n",
    "fIndex = np.arange(3890, 6500, 10)\n",
    "fIndex = np.atleast_1d(fIndex)\n",
    "infoOnlyFlag = False\n",
    "\n",
    "# get params for reading in and making data output\n",
    "info = {}\n",
    "info['hbit'] = params[0]\n",
    "info['obit'] = params[1]\n",
    "info['bit'] = params[2]\n",
    "info['bitdepth'] = info['bit']\n",
    "info['width'] = params[3]\n",
    "info['height'] = params[4]"
   ]
  },
  {
   "cell_type": "markdown",
   "metadata": {},
   "source": [
    "## Read IR Function"
   ]
  },
  {
   "cell_type": "code",
   "execution_count": 59,
   "metadata": {
    "collapsed": false
   },
   "outputs": [
    {
     "name": "stdout",
     "output_type": "stream",
     "text": [
      " 261 of 261"
     ]
    }
   ],
   "source": [
    "# --------------------------------------------------------------------------------------------\n",
    "# Image information\n",
    "fInfo = os.stat(fname)\n",
    "\n",
    "# calculated frame number\n",
    "nFrames = round((fInfo.st_size - (info['hbit'] -info['obit'])/8)\n",
    "                /((info['width'] * info['height'] * info['bitdepth'] + info['obit']) / 8)) \n",
    "info['nframes'] = nFrames\n",
    "\n",
    "# --------------------------------------------------------------------------------------------\n",
    "# read time and temp from timesFile\n",
    "# Time files have the same file name as the corresponding '*.dat' files\n",
    "timeFilename = fname.split('.')[0]\n",
    "timeFilename = timeFilename + '.txt'\n",
    "\n",
    "# Check to see that the time file exists (nothing here yet)\n",
    "# I think the best solution here is to throw an error if no file is found.\n",
    "# The pandas 'read_csv' (below) should already give us this desired behavior\n",
    "\n",
    "# Read the file with time stamps and camera temperatures for each image\n",
    "timeFile = pd.read_csv(timeFilename,\n",
    "                       header=None,\n",
    "                       names=['epochTime',\n",
    "                              'weirdRepeatedLine1', 'probeTemp1',\n",
    "                              'weirdRepeatedLine2', 'probeTemp2'], \n",
    "                       index_col='epochTime')\n",
    "\n",
    "# Assumes we are reading a csv with this form:\n",
    "# 5 columnes: 1 time stamp, 4 giving camera temperatures (label1, temp1, label2, temp2)\n",
    "# \"1368578461.593, 280F9A5403000002 , 8.63 , 287FE81C040000F2 , 9.19\"\n",
    "# OR\n",
    "# 1 column: time stamp\n",
    "# \"1368578461.593\"\n",
    "#\n",
    "# Something about the temp probes was changed after April 2013 resulting in two different code\n",
    "# blocks to handle each in the original matlab code. Since all of the data I'm using is after\n",
    "# that date, I am going to ignore the code for data prior to that date\n",
    "\n",
    "# exit on infoFlag\n",
    "# if infoOnlyFlag:\n",
    "#     return(info, probeTemp, timeFile)\n",
    "\n",
    "# Each time stamp corresponds to an IR image.\n",
    "numImages = timeFile.index.size\n",
    "# Convert to numpy64 datetime objects (epochTime is in seconds since 1970)\n",
    "timeFile.index = [datetime.fromtimestamp(d) for d in timeFile.index.values]\n",
    "\n",
    "# Passing to output DataFrame\n",
    "probeTemp = pd.DataFrame()\n",
    "if timeFile.columns.size > 1 and timeFile.columns.size == 4:\n",
    "    probeTemp['camTemp'] = timeFile.probeTemp1\n",
    "    probeTemp['refTemp'] = timeFile.probeTemp2\n",
    "elif timeFile.columns.size == 1:\n",
    "    probeTemp = timeFile.index\n",
    "\n",
    "# --------------------------------------------------------------------------------------------\n",
    "# Acquire IR camera images\n",
    "numFrames = fIndex.size\n",
    "info['nFrames'] = numFrames\n",
    "\n",
    "# There is this 'uvs' argument in the original matlab read script, but it isn't defined. This\n",
    "# variable is never used in the 'snowIR_example.m' script, so I'm going to ignore the code block\n",
    "# that handles it.\n",
    "binDataOut = np.zeros([info['height'], info['width'], info['nFrames']])\n",
    "imageSize = info['width'] * info['height']\n",
    "nandex = []\n",
    "\n",
    "for j in np.arange(0, numFrames):\n",
    "    # Update progress\n",
    "    if numFrames > 1:\n",
    "        print(\"\\r\", '%d of %d' % (j + 1, numFrames), end=\"\")\n",
    "\n",
    "    # Discover next position in binary file\n",
    "    seekBitLoc = (info['width'] * info['height'] * (info['bit'] / 8) + info['obit'] / 8) \\\n",
    "                 * (fIndex[j]) + info['hbit'] / 8\n",
    "    seekBitLoc = int(seekBitLoc)\n",
    "\n",
    "    # Ready binary file\n",
    "    binaryReader = BinaryReader(fname)\n",
    "    # Point python to the desired location in the binary file (0 means seek from beginning of file)\n",
    "    binaryReader.seek(seekBitLoc)\n",
    "    try:\n",
    "        numBinaryItems = imageSize\n",
    "        data = np.empty(numBinaryItems)\n",
    "        for binIndex in np.arange(numBinaryItems):\n",
    "            data[binIndex] = binaryReader.read('uint16')\n",
    "        if np.std(data.flatten()/ 250 + 194) < 2:\n",
    "            nandex = np.append(nandex, j)\n",
    "            binDataOut[:, :, j] = data.reshape(info['height'], info['width']) * np.nan\n",
    "        else:\n",
    "            binDataOut[:, :, j] = data.reshape(info['height'], info['width'])\n",
    "\n",
    "    except BinaryReaderEOFException:\n",
    "        # One of our attempts to read a field went beyond the end of the file.\n",
    "        print(\"Error: File seems to be corrupted.\")\n"
   ]
  },
  {
   "cell_type": "code",
   "execution_count": 123,
   "metadata": {
    "collapsed": false
   },
   "outputs": [],
   "source": [
    "for j in np.arange(numFrames):\n",
    "    temp = binDataOut[:, :, j]\n",
    "    if np.std(temp.flatten()/ 250 + 194) < 2:\n",
    "        binDataOut[:, :, j] = np.ones((info['height'], info['width'])) * np.nan\n",
    "    else:\n",
    "        continue"
   ]
  },
  {
   "cell_type": "code",
   "execution_count": 60,
   "metadata": {
    "collapsed": false
   },
   "outputs": [
    {
     "data": {
      "image/png": "[encoded data removed]",
      "text/plain": [
       "<matplotlib.figure.Figure at 0x1420717b8>"
      ]
     },
     "metadata": {},
     "output_type": "display_data"
    }
   ],
   "source": [
    "for j in np.arange(numFrames):\n",
    "    plt.plot(j, np.std(binDataOut[:, :, j].flatten() / 250 + 194),'b.')"
   ]
  },
  {
   "cell_type": "code",
   "execution_count": 45,
   "metadata": {
    "collapsed": false
   },
   "outputs": [
    {
     "name": "stdout",
     "output_type": "stream",
     "text": [
      "0.28194173516\n",
      "[[ 281.408  281.52   281.04  ...,  280.352  280.272  280.368]\n",
      " [ 281.104  281.392  281.648 ...,  280.096  280.336  280.16 ]\n",
      " [ 281.296  281.2    281.184 ...,  280.528  280.208  280.56 ]\n",
      " ..., \n",
      " [ 281.184  281.168  281.216 ...,  280.768  280.848  280.944]\n",
      " [ 280.896  281.344  281.232 ...,  280.88   281.04   281.168]\n",
      " [ 281.456  281.376  281.072 ...,  280.784  280.736  280.96 ]]\n"
     ]
    },
    {
     "data": {
      "image/png": "[encoded data removed]",
      "text/plain": [
       "<matplotlib.figure.Figure at 0x142035160>"
      ]
     },
     "metadata": {},
     "output_type": "display_data"
    }
   ],
   "source": [
    "j = 109\n",
    "fig, ax = plt.subplots(1, 1, figsize=(3.5, 3))\n",
    "im = ax.imshow(binDataOut[:, :, j] / 250 + 194, interpolation='nearest',\n",
    "               cmap=cmap, vmin=cmin, vmax=cmax)\n",
    "ax.set_axis_off()\n",
    "fig.colorbar(im)\n",
    "print(np.std(binDataOut[:, :, j].flatten() / 250 + 194))\n",
    "print(binDataOut[:, :, j] / 250 + 194)"
   ]
  },
  {
   "cell_type": "markdown",
   "metadata": {},
   "source": [
    "## Convert to netCDF/xarray"
   ]
  },
  {
   "cell_type": "code",
   "execution_count": 124,
   "metadata": {
    "collapsed": false
   },
   "outputs": [],
   "source": [
    "finalData = np.ones_like(binDataOut)\n",
    "for j in np.arange(numFrames):\n",
    "    finalData[:, :, j] = (binDataOut[:, :, j] / 250 + 194)\n",
    "mask = np.ones(numFrames, dtype=bool)\n",
    "mask[[nandex.astype(int)]] = False\n",
    "finalData = finalData[:, :, mask]\n",
    "# brightTemp_Flight = xr.DataArray(binDataOut)\n"
   ]
  },
  {
   "cell_type": "markdown",
   "metadata": {},
   "source": [
    "# Plot Images"
   ]
  },
  {
   "cell_type": "code",
   "execution_count": 10,
   "metadata": {
    "collapsed": false
   },
   "outputs": [],
   "source": [
    "# Fomatting options for images\n",
    "cmin = 272\n",
    "cmax = 290\n",
    "tsp = np.linspace(cmin, cmax, 23)\n",
    "cmap = kgraph.cmap_discretize(cm.viridis, 23)\n",
    "\n",
    "os.chdir(dirPrint)\n",
    "\n",
    "for j in np.arange(0, 5):#np.arange(numFrames):\n",
    "    # Time stamp name for saved images\n",
    "    timeStamp = str(timeFile.index[j].year) \\\n",
    "                + str(timeFile.index[j].month).zfill(2) \\\n",
    "                + str(timeFile.index[j].day).zfill(2) \\\n",
    "                + str(timeFile.index[j].hour*100) \\\n",
    "                + '_image' + str(fIndex[j])\n",
    "    \n",
    "    # IR image\n",
    "    fig, ax = plt.subplots(1, 1, figsize=(3.5, 3))\n",
    "    im = ax.imshow(binDataOut[:, :, j] / 250 + 194, interpolation='nearest',\n",
    "                   cmap=cmap, vmin=cmin, vmax=cmax)\n",
    "    ax.set_title(timeFile.index[j])\n",
    "    ax.set_axis_off()\n",
    "    fig.colorbar(im)\n",
    "    fig.savefig(timeStamp + '.pdf')\n",
    "    plt.close(fig)\n",
    "    \n",
    "    # Histogram of IR images\n",
    "    fig, ax = plt.subplots(1, 1, figsize=(6.5, 2.5))\n",
    "    ax.hist(binDataOut[:, :, j].reshape(info['height'] * info['width']) / 250 + 194,\n",
    "            bins=np.arange(272, 290, .5));\n",
    "    ax.set_title(timeFile.index[j])\n",
    "    ax.set_ylim(0, 30000)\n",
    "    ax.set_xlim(272, 290)\n",
    "    ax.set_xlabel('$T_{bright}$')\n",
    "    fig.autofmt_xdate()\n",
    "    fig.savefig(timeStamp + '.hist.pdf')\n",
    "    plt.close(fig)"
   ]
  },
  {
   "cell_type": "code",
   "execution_count": 127,
   "metadata": {
    "collapsed": false
   },
   "outputs": [
    {
     "data": {
      "image/png": "[encoded data removed]",
      "text/plain": [
       "<matplotlib.figure.Figure at 0x145cfd748>"
      ]
     },
     "metadata": {},
     "output_type": "display_data"
    }
   ],
   "source": [
    "# Histogram of all IR images\n",
    "fig, ax = plt.subplots(1, 1, figsize=(6.5, 2.5))\n",
    "cspace = np.linspace(268, 288, 100)\n",
    "ax.hist(finalData[:, :, 180:200].flatten(), bins=cspace, normed=True,\n",
    "       fill=True, histtype='step')\n",
    "# ax.set_xlim(-5, 15)\n",
    "ax.set_xlabel('$T_{bright}$')\n",
    "fig.autofmt_xdate()\n",
    "fig.savefig('IR.AllImages.hist.pdf')"
   ]
  },
  {
   "cell_type": "code",
   "execution_count": 115,
   "metadata": {
    "collapsed": false
   },
   "outputs": [
    {
     "data": {
      "text/plain": [
       "(480, 640, 238)"
      ]
     },
     "execution_count": 115,
     "metadata": {},
     "output_type": "execute_result"
    }
   ],
   "source": [
    "finalData.shape"
   ]
  },
  {
   "cell_type": "markdown",
   "metadata": {},
   "source": [
    "# Movie"
   ]
  },
  {
   "cell_type": "code",
   "execution_count": null,
   "metadata": {
    "collapsed": false
   },
   "outputs": [],
   "source": [
    "## Read pngs, assign each one to a movie frame\n",
    "os.chdir(dirPrint)\n",
    "\n",
    "# List of April images\n",
    "content = os.listdir(os.getcwd())\n",
    "clip_dict = {}\n",
    "\n",
    "# Histograms\n",
    "fname = str(timeFile.index[j].year) \\\n",
    "        + str(timeFile.index[j].month).zfill(2) \\\n",
    "        + str(timeFile.index[j].day).zfill(2) \\\n",
    "        + str(timeFile.index[j].hour*100)\n",
    "png_list = []\n",
    "for j in np.arange(fIndex.size):\n",
    "    png_list.append(fname + '_image' + str(fIndex[j]) + '.hist.png')\n",
    "clip_dict['hist'] = ImageSequenceClip(png_list, fps=8)\n",
    "\n",
    "png_list = []\n",
    "for j in np.arange(fIndex.size):\n",
    "    png_list.append(fname + '_image' + str(fIndex[j]) + '.png')\n",
    "clip_dict['image'] = ImageSequenceClip(png_list, fps=8)\n",
    "\n",
    "# Combine into one movie clip\n",
    "combined_clip = clips_array([[clip_dict['image']], \\\n",
    "                             [clip_dict['hist']]])\n",
    "combined_clip.write_videofile(\"Test_SNQ_IRFlight.mp4\")"
   ]
  },
  {
   "cell_type": "markdown",
   "metadata": {},
   "source": [
    "# Statistical Fitting of IR Images"
   ]
  },
  {
   "cell_type": "code",
   "execution_count": null,
   "metadata": {
    "collapsed": false
   },
   "outputs": [],
   "source": [
    "# This section requires inspection by eye in order to select appropriate starting parameter \n",
    "# values for the double gaussian fit\n",
    "\n",
    "from sklearn import mixture\n",
    "import matplotlib.mlab\n",
    "from pylab import *\n",
    "from scipy.optimize import leastsq\n",
    "\n",
    "def double_gaussian( x, params ):\n",
    "    (c1, mu1, sigma1, c2, mu2, sigma2) = params\n",
    "    res =   c1 * np.exp( - (x - mu1)**2.0 / (2.0 * sigma1**2.0) ) \\\n",
    "          + c2 * np.exp( - (x - mu2)**2.0 / (2.0 * sigma2**2.0) )\n",
    "    return res\n",
    "\n",
    "def double_gaussian_fit( params ):\n",
    "    fit = double_gaussian( x, params )\n",
    "    return (fit - y)\n",
    "\n",
    "datatype = [('ID', 'int'),\n",
    "            ('yp', 'int'),\n",
    "            ('xp', 'int'),\n",
    "            ('tb', 'float64')]\n",
    "\n",
    "# To reproduce the figures in the Graphics folder, initial conditions for the fit needs to be determined through \n",
    "# an iteration of inspection and fitting\n",
    "for image in imageList[0]:\n",
    "    # IR camera data\n",
    "    IR_image = image + '.txt'\n",
    "    os.chdir(dirIRData)\n",
    "    d = np.loadtxt(IR_image, dtype=datatype)\n",
    "    brighttemp = (d['tb'] - 32.) * 5./9.  # Convert to Celsius\n",
    "\n",
    "    # Histogram - counts and bins\n",
    "    fig, ax = plt.subplots(1,1,figsize=(6.5,4))\n",
    "    cmin = max(-30, np.floor(brighttemp.min()))\n",
    "    cmax = min(np.ceil(brighttemp.max()), 10.)\n",
    "    tsp = np.linspace(cmin, cmax, 100)\n",
    "    n, bins, _ = ax.hist(brighttemp, bins=tsp, normed=True, fill=True, histtype='step')\n",
    "\n",
    "    # Air and surface temperature\n",
    "    d = imageListDate[image]\n",
    "    airTemp = support.T6.sel(time=d).values\n",
    "    sfcTemp = support.Tsrf.sel(time=d).values\n",
    "    ax.plot([airTemp, airTemp], [0, 2.], '--', label='$T_{air}$')\n",
    "    ax.plot([sfcTemp, sfcTemp], [0, 2.], '--', label='$T_{sfc}$')\n",
    "\n",
    "    # Least squares fit for double gaussian. Starting values found by inspection.\n",
    "    y = n\n",
    "    x = bins[:-1] + np.diff(bins)\n",
    "    params = [1, x[y == max(y)], 1.0, 1, -25, 1.0]\n",
    "    fit = leastsq( double_gaussian_fit, params )\n",
    "    ax.plot(x, double_gaussian( x, fit[0] ), c='r')\n",
    "\n",
    "    # Formatting\n",
    "    ax.set_title('$std_1=$ ' + str(\"%.1f\" % fit[0][2])\n",
    "                 + ',  $std_2=$ '+str(\"%.1f\" % fit[0][5]),\n",
    "                 fontsize=16)\n",
    "    ax.set_ylim(0,min(1.3, max(y)))\n",
    "    ax.legend(loc='best', )\n",
    "\n",
    "    os.chdir(dirPrint)\n",
    "    fig.savefig(image + '.hist.pdf')\n"
   ]
  }
 ],
 "metadata": {
  "anaconda-cloud": {},
  "kernelspec": {
   "display_name": "Python [Root]",
   "language": "python",
   "name": "Python [Root]"
  },
  "language_info": {
   "codemirror_mode": {
    "name": "ipython",
    "version": 3
   },
   "file_extension": ".py",
   "mimetype": "text/x-python",
   "name": "python",
   "nbconvert_exporter": "python",
   "pygments_lexer": "ipython3",
   "version": "3.5.2"
  }
 },
 "nbformat": 4,
 "nbformat_minor": 0
}
