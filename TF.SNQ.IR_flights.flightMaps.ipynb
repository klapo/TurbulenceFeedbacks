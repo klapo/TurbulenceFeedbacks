{
 "cells": [
  {
   "cell_type": "markdown",
   "metadata": {},
   "source": [
    "# Maps of IR images"
   ]
  },
  {
   "cell_type": "code",
   "execution_count": 1,
   "metadata": {
    "collapsed": false
   },
   "outputs": [],
   "source": [
    "import numpy as np\n",
    "from datetime import datetime, timedelta\n",
    "import pandas as pd\n",
    "import xarray as xr\n",
    "import kray\n",
    "# OS interaction\n",
    "import sys, pickle, os\n",
    "# import subplots function for plotting\n",
    "import seaborn as sns\n",
    "import matplotlib\n",
    "from matplotlib.pyplot import subplots\n",
    "import matplotlib.pyplot as plt\n",
    "from matplotlib import cm\n",
    "from mpl_toolkits.basemap import Basemap\n",
    "import kgraph\n",
    "import matplotlib.gridspec as gridspec\n",
    "from moviepy.editor import *\n",
    "\n",
    "# --------------------------------------------------------------------------------------------\n",
    "# Directory Lists\n",
    "# Unix\n",
    "if 'linux' in sys.platform:\n",
    "    dirPre = '/home/lapok/gdrive/'\n",
    "# Mac\n",
    "elif 'darwin' in sys.platform:\n",
    "    dirPre = '/Users/karllapo/gdrive/'\n",
    "# Directory for printing figures\n",
    "dirPrint = dirPre + 'SnowHydrology/proj/TurbulenceFeedbacks/Graphics/IR_SnoqualmieFlights'\n",
    "# Met data directory\n",
    "dirData = dirPre + 'SnowHydrology/proj/TurbulenceFeedbacks/data/SNQ/IR_SnoqualmieFlights'\n",
    "dirDataSNQ = dirPre + 'SnowHydrology/proj/TurbulenceFeedbacks/data/SNQ/'\n",
    "dirDataSNOTEL = dirPre + 'GroundObs/SNOTEL/Washington/'\n",
    "\n",
    "# --------------------------------------------------------------------------------------------\n",
    "# Global formatting\n",
    "sns.set_context('talk')\n",
    "sns.set_style('whitegrid')\n",
    "# must insert this statement to render the plots within the notebook\n",
    "%matplotlib inline"
   ]
  },
  {
   "cell_type": "code",
   "execution_count": 2,
   "metadata": {
    "collapsed": true
   },
   "outputs": [],
   "source": [
    "# --------------------------------------------------------------------------------------------\n",
    "# Functions/classes for reading binary files in python\n",
    "# From: http://code.activestate.com/recipes/577610-decoding-binary-files/\n",
    "import struct\n",
    "\n",
    "class BinaryReaderEOFException(Exception):\n",
    "    def __init__(self):\n",
    "        pass\n",
    "    def __str__(self):\n",
    "        return 'Not enough bytes in file to satisfy read request'\n",
    "\n",
    "class BinaryReader:\n",
    "    # Map well-known type names into struct format characters.\n",
    "    typeNames = {\n",
    "        'int8'   :'b',\n",
    "        'uint8'  :'B',\n",
    "        'int16'  :'h',\n",
    "        'uint16' :'H',\n",
    "        'int32'  :'i',\n",
    "        'uint32' :'I',\n",
    "        'int64'  :'q',\n",
    "        'uint64' :'Q',\n",
    "        'float'  :'f',\n",
    "        'double' :'d',\n",
    "        'char'   :'s'}\n",
    "\n",
    "    def __init__(self, fileName):\n",
    "        self.file = open(fileName, 'rb')\n",
    "        \n",
    "    def seek(self, seekLocation):\n",
    "        self.file.seek(seekLocation)\n",
    "\n",
    "    def read(self, typeName):\n",
    "        typeFormat = BinaryReader.typeNames[typeName.lower()]\n",
    "        typeSize = struct.calcsize(typeFormat)\n",
    "        value = self.file.read(typeSize)\n",
    "        if typeSize != len(value):\n",
    "            raise BinaryReaderEOFException\n",
    "        return struct.unpack(typeFormat, value)[0]\n",
    "\n",
    "    def __del__(self):\n",
    "        self.file.close()"
   ]
  },
  {
   "cell_type": "markdown",
   "metadata": {},
   "source": [
    "## Read GPS/IMU"
   ]
  },
  {
   "cell_type": "code",
   "execution_count": 3,
   "metadata": {
    "collapsed": false
   },
   "outputs": [],
   "source": [
    "import utm\n",
    "\n",
    "\n",
    "def readIMU(fname):\n",
    "    # Column 1 is time\n",
    "    # Columns 12 and 13 are lat and lon\n",
    "    # Columns 2-9 are actually column 2 in the readme and original MATLAB code - they are demarked using a semi-colon\n",
    "\n",
    "    try:\n",
    "        # Pandas based reading of the gps file\n",
    "        temp = pd.read_csv(fname, skiprows=1, header=None, index_col=[0])\n",
    "\n",
    "        # Drop rows with \"#BESTPOSA\"\n",
    "        temp = temp[temp[1] != '#BESTPOSA']\n",
    "        d = {'lat': temp[12],\n",
    "             'lon': temp[13],\n",
    "             'pitch': temp[19],\n",
    "             'roll': temp[18],\n",
    "             'azmth': temp[20],\n",
    "             'elev': temp[14],\n",
    "             'velocity': temp[17]}\n",
    "        gpsFile = pd.DataFrame(d)\n",
    "        gpsFile.index.rename('time', inplace=True)\n",
    "\n",
    "        # Convert to numpy64 datetime objects (epochTime is in seconds since 1970)\n",
    "        gpsFile.index = [datetime.fromtimestamp(d) for d in gpsFile.index.values]\n",
    "        gpsFile.index.rename('time', inplace=True)\n",
    "\n",
    "        # Convert to UTM coordinates - returned from function (lat, lon, zone, _)\n",
    "        [gpsFile['easting'], gpsFile['northing'], gpsFile['zone']] = zip(\n",
    "            *(utm.from_latlon(lat, lon)[0:3] for (lat, lon) in zip(gpsFile.lat, gpsFile.lon)))\n",
    "    except ValueError:\n",
    "        # GPS file likely only contains the \"#BESTPOSA\" without a corresponding \"#INSPVAA\" row.\n",
    "        # Return just the GPS locations instead of the IMU+GPS (I think). Return an empty Dataset.\n",
    "        print(\"No location data found in: \" + fname)\n",
    "        return xr.Dataset()\n",
    "\n",
    "    return(xr.Dataset.from_dataframe(gpsFile))"
   ]
  },
  {
   "cell_type": "markdown",
   "metadata": {},
   "source": [
    "## Read the GPS data"
   ]
  },
  {
   "cell_type": "code",
   "execution_count": 4,
   "metadata": {
    "collapsed": false
   },
   "outputs": [],
   "source": [
    "# File names of the IR camera data\n",
    "# VISIBLE IMAGES\n",
    "# *-IR_02_STACK.txt = time file (no reference temperature)\n",
    "# *-IR_02_STACK.dat = binary data file (EO)\n",
    "# These data are mosaiced grbg colors. Chris uses `demosaic` in his example script.\n",
    "# I need to find a similar function in python.\n",
    "# paramsE = [0, 0, 8, 1280, 960] parameter for reading in the EO images\n",
    "\n",
    "# IR Observations\n",
    "# *-IR_1_STACK.txt = time file (w/ reference temperature)\n",
    "# *-IR_0_STACK.txt = time file (w/ reference temperature)\n",
    "\n",
    "# Location file\n",
    "# *-INS.DAT = binary file with GPS/IMU data\n",
    "\n",
    "# --------------------------------------------------------------------------------------------\n",
    "# Dictionary of all flights\n",
    "fl1 = {'LOCATION': '1368565948_2013MAY14_2112CUT_PLANE-INS.DAT',\n",
    "       'IR1': '1368565948_2013MAY14_2112CUT_PLANE_DRS-IR_0_STACK.dat',\n",
    "       'IR1_TIME': '1368565948_2013MAY14_2112CUT_PLANE_DRS-IR_0_STACK.txt',\n",
    "       'IR2': '1368565948_2013MAY14_2112CUT_PLANE_DRS-IR_1_STACK.dat',\n",
    "       'IR2_TIME': '1368565948_2013MAY14_2112CUT_PLANE_DRS-IR_1_STACK.txt'}\n",
    "\n",
    "fl2 = {'LOCATION': '1368565959_2013MAY14_2112CUT_PLANE-INS.DAT',\n",
    "       'IR1': '1368565959_2013MAY14_2112CUT_PLANE_DRS-IR_0_STACK.dat',\n",
    "       'IR1_TIME': '1368565959_2013MAY14_2112CUT_PLANE_DRS-IR_0_STACK.txt',\n",
    "       'IR2': '1368565959_2013MAY14_2112CUT_PLANE_DRS-IR_1_STACK.dat',\n",
    "       'IR2_TIME': '1368565959_2013MAY14_2112CUT_PLANE_DRS-IR_1_STACK.txt',\n",
    "       'VISIBLE': '1368566727_2013MAY14_2125CUT_PLANE_DRS-IR_02_STACK.dat',\n",
    "       'VISIBLE_TIME': '1368566727_2013MAY14_2125CUT_PLANE_DRS-IR_02_STACK.txt'}\n",
    "\n",
    "fl3 = {'LOCATION': '1368567317_2013MAY14_2135CUT_PLANE-INS.DAT',\n",
    "       'IR1': '1368567317_2013MAY14_2135CUT_PLANE_DRS-IR_0_STACK.dat',\n",
    "       'IR1_TIME': '1368567317_2013MAY14_2135CUT_PLANE_DRS-IR_0_STACK.txt',\n",
    "       'IR2': '1368567317_2013MAY14_2135CUT_PLANE_DRS-IR_1_STACK.dat',\n",
    "       'IR2_TIME': '1368567317_2013MAY14_2135CUT_PLANE_DRS-IR_1_STACK.txt'}\n",
    "\n",
    "fl4 = {'LOCATION': '1368567328_2013MAY14_2135CUT_PLANE-INS.DAT',\n",
    "       'IR1': '1368567328_2013MAY14_2135CUT_PLANE_DRS-IR_0_STACK.dat',\n",
    "       'IR1_TIME': '1368567328_2013MAY14_2135CUT_PLANE_DRS-IR_0_STACK.txt',\n",
    "       'IR2': '1368567328_2013MAY14_2135CUT_PLANE_DRS-IR_1_STACK.dat',\n",
    "       'IR2_TIME': '1368567328_2013MAY14_2135CUT_PLANE_DRS-IR_1_STACK.txt'}\n",
    "\n",
    "fl5 = {'LOCATION': '1368567353_2013MAY14_2135CUT_PLANE-INS.DAT',\n",
    "       'IR1': '1368567353_2013MAY14_2135CUT_PLANE_DRS-IR_0_STACK.dat',\n",
    "       'IR1_TIME': '1368567353_2013MAY14_2135CUT_PLANE_DRS-IR_0_STACK.txt',\n",
    "       'IR2': '1368567353_2013MAY14_2135CUT_PLANE_DRS-IR_1_STACK.dat',\n",
    "       'IR2_TIME': '1368567353_2013MAY14_2135CUT_PLANE_DRS-IR_1_STACK.txt'}\n",
    "       \n",
    "fl6 = {'LOCATION': '1368567391_2013MAY14_2136CUT_PLANE-INS.DAT',\n",
    "       'IR1': '1368567391_2013MAY14_2136CUT_PLANE_DRS-IR_0_STACK.dat',\n",
    "       'IR1_TIME': '1368567391_2013MAY14_2136CUT_PLANE_DRS-IR_0_STACK.txt',\n",
    "       'IR2': '1368567391_2013MAY14_2136CUT_PLANE_DRS-IR_1_STACK.dat',\n",
    "       'IR2_TIME': '1368567391_2013MAY14_2136CUT_PLANE_DRS-IR_1_STACK.txt',\n",
    "       'VISIBLE': '1368567853_2013MAY14_2144CUT_PLANE_DRS-IR_02_STACK.dat',\n",
    "       'VISIBLE_TIME': '1368567853_2013MAY14_2144CUT_PLANE_DRS-IR_02_STACK.txt'}\n",
    "\n",
    "fl7 = {'LOCATION': '1368574071_2013MAY14_2327CUT_PLANE-INS.DAT',\n",
    "       'IR1': '1368574071_2013MAY14_2327CUT_PLANE_DRS-IR_0_STACK.dat',\n",
    "       'IR1_TIME': '1368574071_2013MAY14_2327CUT_PLANE_DRS-IR_0_STACK.txt',\n",
    "       'IR2': '1368574071_2013MAY14_2327CUT_PLANE_DRS-IR_1_STACK.dat',\n",
    "       'IR2_TIME': '1368574071_2013MAY14_2327CUT_PLANE_DRS-IR_1_STACK.txt'}\n",
    "            \n",
    "fl8 = {'LOCATION': '1368574082_2013MAY14_2328CUT_PLANE-INS.DAT',\n",
    "       'IR1': '1368574082_2013MAY14_2328CUT_PLANE_DRS-IR_0_STACK.dat',\n",
    "       'IR1_TIME': '1368574082_2013MAY14_2328CUT_PLANE_DRS-IR_0_STACK.txt',\n",
    "       'IR2': '1368574082_2013MAY14_2328CUT_PLANE_DRS-IR_1_STACK.dat',\n",
    "       'IR2_TIME': '1368574082_2013MAY14_2328CUT_PLANE_DRS-IR_1_STACK.txt'}\n",
    "       \n",
    "fl9 = {'LOCATION': '1368574106_2013MAY14_2328CUT_PLANE-INS.DAT',\n",
    "       'IR1': '1368574106_2013MAY14_2328CUT_PLANE_DRS-IR_0_STACK.dat',\n",
    "       'IR1_TIME': '1368574106_2013MAY14_2328CUT_PLANE_DRS-IR_0_STACK.txt',\n",
    "       'IR2': '1368574106_2013MAY14_2328CUT_PLANE_DRS-IR_1_STACK.dat',\n",
    "       'IR2_TIME': '1368574106_2013MAY14_2328CUT_PLANE_DRS-IR_1_STACK.txt',\n",
    "       'VISIBLE': '1368574151_2013MAY14_2329CUT_PLANE_DRS-IR_02_STACK.dat',\n",
    "       'VISIBLE_TIME': '1368574151_2013MAY14_2329CUT_PLANE_DRS-IR_02_STACK.txt'}\n",
    "\n",
    "fl10 = {'LOCATION': '1368575242_2013MAY14_2347CUT_PLANE-INS.DAT',\n",
    "        'IR1': '1368575242_2013MAY14_2347CUT_PLANE_DRS-IR_0_STACK.dat',\n",
    "        'IR1_TIME': '1368575242_2013MAY14_2347CUT_PLANE_DRS-IR_0_STACK.txt',\n",
    "        'IR2': '1368575242_2013MAY14_2347CUT_PLANE_DRS-IR_1_STACK.dat',\n",
    "        'IR2_TIME': '1368575242_2013MAY14_2347CUT_PLANE_DRS-IR_1_STACK.txt',\n",
    "        'VISIBLE': '1368575246_2013MAY14_2347CUT_PLANE_DRS-IR_02_STACK.dat',\n",
    "        'VISIBLE_TIME': '1368575246_2013MAY14_2347CUT_PLANE_DRS-IR_02_STACK.txt'}\n",
    "\n",
    "fl11 = {'LOCATION': '1368575946_2013MAY14_2359CUT_PLANE-INS.DAT',\n",
    "        'IR1': '1368575946_2013MAY14_2359CUT_PLANE_DRS-IR_0_STACK.dat',\n",
    "        'IR1_TIME': '1368575946_2013MAY14_2359CUT_PLANE_DRS-IR_0_STACK.txt',\n",
    "        'IR2': '1368575946_2013MAY14_2359CUT_PLANE_DRS-IR_1_STACK.dat',\n",
    "        'IR2_TIME': '1368575946_2013MAY14_2359CUT_PLANE_DRS-IR_1_STACK.txt',\n",
    "        'VISIBLE': '1368575950_2013MAY14_2359CUT_PLANE_DRS-IR_02_STACK.dat',\n",
    "        'VISIBLE_TIME': '1368575950_2013MAY14_2359CUT_PLANE_DRS-IR_02_STACK.txt'}\n",
    "            \n",
    "fl12 = {'LOCATION': '1368578462_2013MAY15_0041CUT_PLANE-INS.DAT',\n",
    "        'IR1': '1368578462_2013MAY15_0041CUT_PLANE_DRS-IR_0_STACK.dat',\n",
    "        'IR1_TIME': '1368578462_2013MAY15_0041CUT_PLANE_DRS-IR_0_STACK.txt',\n",
    "        'IR2': '1368578462_2013MAY15_0041CUT_PLANE_DRS-IR_1_STACK.dat',\n",
    "        'IR2_TIME': '1368578462_2013MAY15_0041CUT_PLANE_DRS-IR_1_STACK.txt',\n",
    "        'VISIBLE': '1368578466_2013MAY15_0041CUT_PLANE_DRS-IR_02_STACK.dat',\n",
    "        'VISIBLE_TIME': '1368578466_2013MAY15_0041CUT_PLANE_DRS-IR_02_STACK.txt'}\n",
    "\n",
    "fl13 = {'LOCATION': '1368579145_2013MAY15_0052CUT_PLANE-INS.DAT',\n",
    "        'IR1': '1368579145_2013MAY15_0052CUT_PLANE_DRS-IR_0_STACK.dat',\n",
    "        'IR1_TIME': '1368579145_2013MAY15_0052CUT_PLANE_DRS-IR_0_STACK.txt',\n",
    "        'IR2': '1368579145_2013MAY15_0052CUT_PLANE_DRS-IR_1_STACK.dat',\n",
    "        'IR2_TIME': '1368579145_2013MAY15_0052CUT_PLANE_DRS-IR_1_STACK.txt',\n",
    "        'VISIBLE': '1368579147_2013MAY15_0052CUT_PLANE_DRS-IR_02_STACK.dat',\n",
    "        'VISIBLE_TIME': '1368579147_2013MAY15_0052CUT_PLANE_DRS-IR_02_STACK.txt'}\n",
    "\n",
    "irCameraDictionary = ['LOCATION', 'IR1', 'IR2', 'VISIBLE']\n",
    "\n",
    "# Collect all file name dictionaries into a single array for easy iteration\n",
    "irFiles  = [fl1, fl2, fl3, fl4, fl5, fl6, fl7, fl8, fl9, fl10, fl11, fl12, fl13]"
   ]
  },
  {
   "cell_type": "code",
   "execution_count": 5,
   "metadata": {
    "collapsed": false
   },
   "outputs": [
    {
     "name": "stdout",
     "output_type": "stream",
     "text": [
      "No location data found in: 1368565948_2013MAY14_2112CUT_PLANE-INS.DAT\n",
      "No location data found in: 1368565959_2013MAY14_2112CUT_PLANE-INS.DAT\n",
      "No location data found in: 1368567317_2013MAY14_2135CUT_PLANE-INS.DAT\n",
      "No location data found in: 1368567328_2013MAY14_2135CUT_PLANE-INS.DAT\n",
      "No location data found in: 1368567353_2013MAY14_2135CUT_PLANE-INS.DAT\n",
      "No location data found in: 1368567391_2013MAY14_2136CUT_PLANE-INS.DAT\n",
      "No location data found in: 1368574106_2013MAY14_2328CUT_PLANE-INS.DAT\n"
     ]
    }
   ],
   "source": [
    "# --------------------------------------------------------------------------------------------\n",
    "# Location xarray Dataset\n",
    "os.chdir(dirData)\n",
    "\n",
    "# --------------------------------------------------------------------------------------------\n",
    "# Variables to pass to the read function:\n",
    "paramsIR = np.array([1904, 1904, 16, 640, 480])\n",
    "paramsVis = np.array([0, 0, 8, 1280, 960])\n",
    "cameraLocDataset = xr.Dataset()\n",
    "\n",
    "for irf in irFiles:\n",
    "    # --------------------------------------------------------------------------------------------\n",
    "    # Read GPS/IMU\n",
    "    cameraLoc = readIMU(irf['LOCATION'])\n",
    "    if not cameraLoc:\n",
    "        continue\n",
    "    else:\n",
    "        # Name each flight according to the hour time stamp in each file name\n",
    "        hourName = irf['LOCATION'].split('_')[2][0:4]\n",
    "        cameraLoc['flightNum'] = (('time'), [hourName] * cameraLoc.time.size)\n",
    "    \n",
    "    # Initialize dataset\n",
    "    if not cameraLocDataset:\n",
    "        cameraLocDataset = cameraLoc\n",
    "    # Append to existing dataset\n",
    "    elif cameraLocDataset:\n",
    "        cameraLocDataset = xr.concat([cameraLocDataset, cameraLoc], dim='time')\n",
    "        \n",
    "# --------------------------------------------------------------------------------------------\n",
    "# Clean up the obviously bad values.\n",
    "\n",
    "# Remove repeated time steps (this breaks most xarray functions)\n",
    "uniqueTimes, uniqueInd = np.unique(cameraLocDataset.time.values, return_index=True)\n",
    "cameraLocDataset = cameraLocDataset.isel(time=uniqueInd)\n",
    "\n",
    "# Remove obviously bad lat/lon data\n",
    "badValueIndex = np.nonzero((cameraLocDataset.lat.values == 0) | (cameraLocDataset.lon.values == 0))\n",
    "for dv in cameraLocDataset.data_vars:\n",
    "    try:\n",
    "        cameraLocDataset[dv].values[badValueIndex] = np.nan\n",
    "    except ValueError:\n",
    "        continue"
   ]
  },
  {
   "cell_type": "code",
   "execution_count": 6,
   "metadata": {
    "collapsed": false
   },
   "outputs": [
    {
     "data": {
      "image/png": "[encoded data removed]",
      "text/plain": [
       "<matplotlib.figure.Figure at 0x11d5d77b8>"
      ]
     },
     "metadata": {},
     "output_type": "display_data"
    }
   ],
   "source": [
    "# --------------------------------------------------------------------------------------------\n",
    "# Clean up the data to use\n",
    "# Several of the files result in repeated time indices or don't exist or don't include location data\n",
    "# This creates lots of problems when working in xarray. To alleviate this I'm going to remove the\n",
    "# troublesome data from analysis on the basis of the below:\n",
    "\n",
    "# Based on the above let's drop files 1-6 and 9\n",
    "# Additionally, the '2327' and '2328' flights don't appear to contain actual data. Drop those as well.\n",
    "irFiles  = [fl10, fl11, fl12, fl13]\n",
    "\n",
    "# Plot flight lines and flight numbers to diagnose what data to keep\n",
    "for fln in np.unique(cameraLocDataset.flightNum.values):\n",
    "    ds = cameraLocDataset.swap_dims({'time': 'flightNum'}).sel(flightNum=fln)\n",
    "    plt.plot(ds.lat, ds.lon, '.', label=fln)\n",
    "    plt.legend(loc='best')\n",
    "    plt.savefig('SNQ.IRFlightNums.png')"
   ]
  },
  {
   "cell_type": "markdown",
   "metadata": {},
   "source": [
    "## Load ground observations"
   ]
  },
  {
   "cell_type": "code",
   "execution_count": 7,
   "metadata": {
    "collapsed": false
   },
   "outputs": [
    {
     "name": "stdout",
     "output_type": "stream",
     "text": [
      "<xarray.Dataset>\n",
      "Dimensions:       (time: 47)\n",
      "Coordinates:\n",
      "  * time          (time) datetime64[ns] 2013-05-14 2013-05-14T00:30:00 ...\n",
      "Data variables:\n",
      "    JulianDay     (time) int64 134 134 134 134 134 134 134 134 134 134 134 ...\n",
      "    T4            (time) float64 1.864 1.814 1.797 1.781 1.744 1.625 1.147 ...\n",
      "    RH4           (time) float64 95.6 96.5 96.7 96.8 96.9 96.9 97.2 97.1 ...\n",
      "    Precip        (time) float64 0.0 0.0 0.0 0.0 0.0 0.0 0.0 0.0 0.0 0.0 0.0 ...\n",
      "    SurfPres      (time) float64 1.022e+03 1.022e+03 1.022e+03 1.022e+03 ...\n",
      "    WIND          (time) float64 0.43 0.1285 0.2045 0.029 0.0035 0.0005 ...\n",
      "    Snowdepth_24  (time) float64 0.007468 0.007468 0.007468 0.007468 ...\n",
      "    Snowdepth     (time) float64 0.5141 0.5141 0.5159 0.5159 0.5159 0.5141 ...\n",
      "    Lysimeter     (time) float64 0.0001778 0.000127 0.0001016 5.08e-05 ...\n",
      "    SW_down_avg   (time) float64 0.0 0.0 0.0 0.0 0.0 0.0 0.0 0.0 0.0 0.0 0.0 ...\n",
      "    SW_up_avg     (time) float64 0.0 0.0 0.0 0.0 0.0 0.0 0.0 0.0 0.0 0.0 0.0 ...\n",
      "    LW_down_avg   (time) float64 310.1 313.4 314.2 314.1 316.1 305.5 293.7 ...\n",
      "    LW_up_avg     (time) float64 320.4 320.5 320.5 320.6 320.6 320.4 319.0 ...\n",
      "    Albedo        (time) float64 nan nan nan nan nan nan nan nan nan nan nan ...\n",
      "    Tsrf_1        (time) float64 -0.1038 -0.05845 -0.03124 -0.01956 -0.0168 ...\n",
      "    T6            (time) float64 2.438 2.122 2.148 2.049 1.996 1.949 1.512 ...\n",
      "    Vap_press_6   (time) float64 0.693 0.696 0.7017 0.698 0.6967 0.6957 ...\n",
      "    RH6           (time) float64 95.11 97.66 98.32 98.45 98.72 98.86 99.12 ...\n",
      "    T3            (time) float64 2.369 2.142 2.104 2.07 2.04 1.922 1.504 ...\n",
      "    CSAT Height   (time) float64 2.24 2.24 2.24 2.24 2.24 2.24 2.24 2.24 ...\n",
      "    CSAT Azimuth  (time) float64 55.0 55.0 55.0 55.0 55.0 55.0 55.0 55.0 ...\n",
      "    GheatfluxAvg  (time) float64 nan nan nan nan nan nan nan nan nan nan nan ...\n",
      "    SurGflux      (time) float64 nan nan nan nan nan nan nan nan nan nan nan ...\n",
      "    Tsrf_2        (time) float64 nan nan nan nan nan nan nan nan nan nan nan ...\n",
      "    SensFlux      (time) float64 4.845 0.6741 2.088 1.494 0.221 0.256 ...\n",
      "    LatFlux       (time) float64 -0.09291 -0.1302 -0.08299 -0.02147 -0.1914 ...\n",
      "    Tsrf          (time) float64 -0.1038 -0.05845 -0.03124 -0.01956 -0.0168 ...\n",
      "    groundTs      (time) float64 nan nan nan nan nan nan nan nan nan nan nan ...\n",
      "    snowTs        (time) float64 -0.1038 -0.05845 -0.03124 -0.01956 -0.0168 ...\n",
      "    SP            (time) int64 1 1 1 1 1 1 1 1 1 1 1 1 1 1 1 1 1 1 1 1 1 1 1 ...\n",
      "    lat           float64 47.42\n",
      "    lon           float64 -121.4\n",
      "<xarray.Dataset>\n",
      "Dimensions:    (station: 8, time: 24)\n",
      "Coordinates:\n",
      "  * station    (station) object 'Fish Lake' 'Meadows Pass' 'Mount Gardner' ...\n",
      "  * time       (time) datetime64[ns] 2013-05-14 2013-05-14T01:00:00 ...\n",
      "Data variables:\n",
      "    SWE        (station, time) float64 8.3 8.3 8.3 8.3 8.3 8.3 8.3 8.3 8.3 ...\n",
      "    Precip     (station, time) float64 54.0 54.0 54.0 54.0 54.0 54.0 54.0 ...\n",
      "    Tair       (station, time) float64 2.5 2.5 2.2 1.7 1.4 1.2 1.5 3.0 4.1 ...\n",
      "    SnowDepth  (station, time) float64 18.0 18.0 18.0 18.0 18.0 18.0 18.0 ...\n",
      "    elev       (station) int64 3430 3230 2920 4030 3810 4340 3850 2990\n",
      "    lat        (station) float64 47.54 47.28 47.36 47.37 47.3 47.38 47.27 47.33\n",
      "    lon        (station) float64 121.1 121.5 121.6 121.4 121.6 121.1 121.3 121.5\n"
     ]
    }
   ],
   "source": [
    "# --------------------------------------------------------------------------------------------\n",
    "# Snoqualmie Observations\n",
    "os.chdir(dirDataSNQ)\n",
    "SNQ = xr.open_dataset('SnoqualmieObs.SupportData.wy2013_wy2015.nc')\n",
    "# Need to just select the data on the date of the flights\n",
    "SNQ_day = SNQ.sel(time=slice('2013-05-14', '2013-05-14 23:00'))\n",
    "SNQ_day['lat'] = 47.424883\n",
    "SNQ_day['lon'] = -121.413893\n",
    "\n",
    "# --------------------------------------------------------------------------------------------\n",
    "# SNOTEL Observations\n",
    "os.chdir(dirDataSNOTEL)\n",
    "SNOTEL = xr.open_dataset('WA_SNOTEL.WY2013.nc')\n",
    "SNOTEL_day = SNOTEL.sel(time=slice('2013-05-14', '2013-05-14 23:00'))\n",
    "\n",
    "print(SNQ_day)\n",
    "print(SNOTEL_day)"
   ]
  },
  {
   "cell_type": "code",
   "execution_count": 8,
   "metadata": {
    "collapsed": false
   },
   "outputs": [
    {
     "data": {
      "text/plain": [
       "<matplotlib.legend.Legend at 0x11bf85a90>"
      ]
     },
     "execution_count": 8,
     "metadata": {},
     "output_type": "execute_result"
    },
    {
     "data": {
      "image/png": "[encoded data removed]",
      "text/plain": [
       "<matplotlib.figure.Figure at 0x11d866080>"
      ]
     },
     "metadata": {},
     "output_type": "display_data"
    }
   ],
   "source": [
    "# Plot flight lines and flight numbers to diagnose what data to keep\n",
    "fig, ax = plt.subplots(1,1)\n",
    "\n",
    "for fln in np.unique(cameraLocDataset.flightNum.values):\n",
    "    ds = cameraLocDataset.swap_dims({'time': 'flightNum'}).sel(flightNum=fln)\n",
    "    ax.plot(ds.lon, ds.lat, '.', label=fln)\n",
    "    \n",
    "ax.plot(-SNOTEL.lon, SNOTEL.lat, 'ro', label='SNOTEL')\n",
    "ax.plot(SNQ_day.lon, SNQ_day.lat, 'rs', label='Snoqualmie Pass')\n",
    "ax.add_patch(matplotlib.patches.Rectangle((SNQ_day.lon - .04, SNQ_day.lat - .015), .08, 0.025))\n",
    "plt.legend(loc='best', frameon=True)"
   ]
  }
 ],
 "metadata": {
  "anaconda-cloud": {},
  "kernelspec": {
   "display_name": "Python [Root]",
   "language": "python",
   "name": "Python [Root]"
  },
  "language_info": {
   "codemirror_mode": {
    "name": "ipython",
    "version": 3
   },
   "file_extension": ".py",
   "mimetype": "text/x-python",
   "name": "python",
   "nbconvert_exporter": "python",
   "pygments_lexer": "ipython3",
   "version": "3.5.2"
  }
 },
 "nbformat": 4,
 "nbformat_minor": 0
}
