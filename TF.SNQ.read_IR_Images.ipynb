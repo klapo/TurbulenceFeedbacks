{
 "cells": [
  {
   "cell_type": "markdown",
   "metadata": {},
   "source": [
    "# Read/process relevant IR images "
   ]
  },
  {
   "cell_type": "code",
   "execution_count": 1,
   "metadata": {
    "collapsed": false
   },
   "outputs": [],
   "source": [
    "import numpy as np\n",
    "from datetime import datetime, timedelta\n",
    "import pandas as pd\n",
    "import xarray as xr\n",
    "import kray\n",
    "# OS interaction\n",
    "import sys, pickle, os\n",
    "# import subplots function for plotting\n",
    "import seaborn as sns\n",
    "import matplotlib\n",
    "from matplotlib.pyplot import subplots\n",
    "import matplotlib.pyplot as plt\n",
    "from matplotlib import cm\n",
    "from mpl_toolkits.basemap import Basemap\n",
    "import kgraph\n",
    "import matplotlib.gridspec as gridspec\n",
    "\n",
    "\n",
    "# --------------------------------------------------------------------------------------------\n",
    "# Directory Lists\n",
    "# Unix\n",
    "if 'linux' in sys.platform:\n",
    "    dirPre = '/home/lapok/gdrive/'\n",
    "# Mac\n",
    "elif 'darwin' in sys.platform:\n",
    "    dirPre = '/Users/karllapo/gdrive/'\n",
    "# Project directory\n",
    "dirProj = dirPre + 'SnowHydrology/proj/TurbulenceFeedbacks/'\n",
    "# Directory for printing figures\n",
    "dirPrint = dirPre + 'SnowHydrology/proj/TurbulenceFeedbacks/data/SNQ/IRCamera'\n",
    "# IR camera images directory (selected images, not all)\n",
    "dirIRData = dirPre + 'GroundObs/Snoqualmie/IRCamera/SNQ.Tsfc.IR'\n",
    "# Met data directory\n",
    "dirData = dirPre + 'SnowHydrology/proj/TurbulenceFeedbacks/data/SNQ'\n",
    "\n",
    "# --------------------------------------------------------------------------------------------\n",
    "# Global formatting\n",
    "sns.set_context('poster')\n",
    "sns.set_style('whitegrid')\n",
    "# must insert this statement to render the plots within the notebook\n",
    "%matplotlib inline"
   ]
  },
  {
   "cell_type": "code",
   "execution_count": 2,
   "metadata": {
    "collapsed": false
   },
   "outputs": [],
   "source": [
    "# Met observations\n",
    "os.chdir(dirData)\n",
    "support = xr.open_dataset('SnoqualmieObs.SupportData.wy2013_wy2015.nc')"
   ]
  },
  {
   "cell_type": "code",
   "execution_count": 3,
   "metadata": {
    "collapsed": false
   },
   "outputs": [],
   "source": [
    "# -------------------------------------------------------------------------------------------------------\n",
    "imageList = os.listdir(dirIRData)\n",
    "imageList = [imList.split('.')[0] for imList in imageList if len(imList.split('.')[0]) > 0]\n",
    "imageList = np.unique(imageList)"
   ]
  },
  {
   "cell_type": "code",
   "execution_count": 4,
   "metadata": {
    "collapsed": false
   },
   "outputs": [],
   "source": [
    "# -------------------------------------------------------------------------------------------------------\n",
    "# Dates and field notes for each IR image\n",
    "imageListDate = {'AA012801': datetime(2014,1,28,11,0,0),\n",
    "                 'AA012802': datetime(2014,1,28,11,0,0),\n",
    "                 'AA020601': datetime(2014,2,6,8,0,0),\n",
    "                 'AA021108': datetime(2014,2,11,13,0,0),\n",
    "                 'AA021109': datetime(2014,2,11,13,0,0),\n",
    "                 'AA021110': datetime(2014,2,11,13,0,0),\n",
    "                 'AA120419': datetime(2014,12,4,8,0,0),\n",
    "                 'AB020507': datetime(2014,2,5,7,0,0),\n",
    "                 'AB020508': datetime(2014,2,5,7,0,0),\n",
    "                 'AB020509': datetime(2014,2,5,7,0,0),\n",
    "                 'AC020501': datetime(2014,2,5,7,30,0),\n",
    "                 'AC122900': datetime(2014,12,30,8,0,0),\n",
    "                 'AC122902': datetime(2014,12,30,8,0,0),\n",
    "                 'AC122903': datetime(2014,12,30,8,0,0),\n",
    "                 'AC122905': datetime(2014,12,30,8,0,0),\n",
    "                 'AC122906': datetime(2014,12,30,8,0,0),\n",
    "                 'AC122907': datetime(2014,12,30,8,0,0),\n",
    "                 'AC122908': datetime(2014,12,30,8,0,0),\n",
    "                }\n",
    "\n",
    "imageListNotes = {'AA012801': 'Snow Hydro field trip. Freezing rain. Hoar on CSAT. Tsfc ~ -4.5, Tair ~ 0',\n",
    "                  'AA012802': 'Snow Hydro field trip. Freezing rain. Hoar on CSAT. Tsfc ~ -4.5, Tair ~ 0',\n",
    "                  'AA020601': 'Air = -15.8 C, Tsrf = -21 C',\n",
    "                  'AA021108': 'Signs of melting',\n",
    "                  'AA021109': 'Signs of melting',\n",
    "                  'AA120419': 'Tsrf ~-11.2C, Air temp -9C. ',\n",
    "                  'AB020507': 'Air temperature around -14 C (aprox), Surface tempa round -23 to -14 C (aprox)',\n",
    "                  'AB020508': 'Air temperature around -14 C (aprox), Surface tempa round -23 to -14 C (aprox)',\n",
    "                  'AB020509': 'Air temperature around -14 C (aprox), Surface tempa round -23 to -14 C (aprox)',\n",
    "                  'AC020501': 'Air temperature around -14 C (aprox), Surface tempa round -23 to -14 C (aprox)',\n",
    "                  'AC122900': 'Guess on the time, no field notes from Nic',\n",
    "                  'AC122902': 'Guess on the time, no field notes from Nic',\n",
    "                  'AC122903': 'Guess on the time, no field notes from Nic',\n",
    "                  'AC122905': 'Guess on the time, no field notes from Nic',\n",
    "                  'AC122906': 'Guess on the time, no field notes from Nic',\n",
    "                  'AC122907': 'Guess on the time, no field notes from Nic',\n",
    "                  'AC122908': 'Guess on the time, no field notes from Nic',\n",
    "                  }"
   ]
  },
  {
   "cell_type": "code",
   "execution_count": 6,
   "metadata": {
    "collapsed": false
   },
   "outputs": [],
   "source": [
    "####################################################################################################\n",
    "# Convert IR images to bmp format\n",
    "####################################################################################################\n",
    "# *.irb converted to .txt files of 4 columns:\n",
    "# ID  y-pixel x-pixel   Brightness temperature (F)\n",
    "datatype = [('ID', 'int'),\n",
    "            ('yp', 'int'),\n",
    "            ('xp', 'int'),\n",
    "            ('tb', 'float64')]\n",
    "\n",
    "# for image in imageList:\n",
    "#     # Load ascii file\n",
    "#     IR_image = image + '.txt'\n",
    "#     os.chdir(dirIRData)\n",
    "    \n",
    "#     d = np.loadtxt(IR_image, dtype=datatype)\n",
    "#     brighttemp = (d['tb'] - 32.) * 5./9.  # Convert to Celsius\n",
    "#     # Reshape to a raster\n",
    "#     Tbright = brighttemp.reshape(d['yp'].max(), d['xp'].max(), order='C')\n",
    "\n",
    "#     # Plot\n",
    "#     fig,ax = plt.subplots(1,1,figsize=(6.5,4))\n",
    "#     cmin = max(-30, np.floor(Tbright.min()))\n",
    "#     cmax = min(np.ceil(Tbright.max()), 10)\n",
    "#     tsp = np.linspace(cmin, cmax, 13)\n",
    "#     cmap = kgraph.cmap_discretize(cm.viridis, 13)\n",
    "#     im = ax.imshow(Tbright, interpolation='nearest', cmap=cmap,\n",
    "#                    vmin=cmin, vmax=cmax)\n",
    "#     # Remove x and y axis\n",
    "#     ax.set_axis_off()\n",
    "\n",
    "#     # Add colorbar, make sure to specify tick locations to match desired ticklabels\n",
    "#     from mpl_toolkits.axes_grid1 import make_axes_locatable\n",
    "#     divider = make_axes_locatable(ax)\n",
    "#     cax = divider.append_axes(\"right\", \"5%\", pad=\"3%\")\n",
    "#     cbar = plt.colorbar(im, cax=cax, ticks=tsp)\n",
    "#     tsp = [\"%.1f\" % t for t in tsp]\n",
    "#     _out = cbar.ax.set_yticklabels(tsp) \n",
    "#     os.chdir(dirPrint)\n",
    "#     fig.savefig(image + '.pdf')\n",
    "#     plt.close(fig)"
   ]
  },
  {
   "cell_type": "code",
   "execution_count": 61,
   "metadata": {
    "collapsed": false
   },
   "outputs": [
    {
     "name": "stderr",
     "output_type": "stream",
     "text": [
      "//anaconda/lib/python3.5/site-packages/scipy/optimize/minpack.py:427: RuntimeWarning: Number of calls to function has reached maxfev = 1400.\n",
      "  warnings.warn(errors[info][0], RuntimeWarning)\n"
     ]
    },
    {
     "data": {
      "image/png": "[encoded data removed]",
      "text/plain": [
       "<matplotlib.figure.Figure at 0x11c774b00>"
      ]
     },
     "metadata": {},
     "output_type": "display_data"
    }
   ],
   "source": [
    "# This section requires inspection by eye in order to select appropriate starting parameter \n",
    "# values for the double gaussian fit\n",
    "\n",
    "from sklearn import mixture\n",
    "import matplotlib.mlab\n",
    "from pylab import *\n",
    "from scipy.optimize import leastsq\n",
    "\n",
    "def double_gaussian( x, params ):\n",
    "    (c1, mu1, sigma1, c2, mu2, sigma2) = params\n",
    "    res =   c1 * np.exp( - (x - mu1)**2.0 / (2.0 * sigma1**2.0) ) \\\n",
    "          + c2 * np.exp( - (x - mu2)**2.0 / (2.0 * sigma2**2.0) )\n",
    "    return res\n",
    "\n",
    "def double_gaussian_fit( params ):\n",
    "    fit = double_gaussian( x, params )\n",
    "    return (fit - y)\n",
    "\n",
    "datatype = [('ID', 'int'),\n",
    "            ('yp', 'int'),\n",
    "            ('xp', 'int'),\n",
    "            ('tb', 'float64')]\n",
    "\n",
    "# To reproduce the figures in the Graphics folder, initial conditions for the fit needs to be determined through \n",
    "# an iteration of inspection and fitting\n",
    "for image in imageList[0]:\n",
    "    # IR camera data\n",
    "    IR_image = image + '.txt'\n",
    "    os.chdir(dirIRData)\n",
    "    d = np.loadtxt(IR_image, dtype=datatype)\n",
    "    brighttemp = (d['tb'] - 32.) * 5./9.  # Convert to Celsius\n",
    "\n",
    "    # Histogram - counts and bins\n",
    "    fig, ax = plt.subplots(1,1,figsize=(6.5,4))\n",
    "    cmin = max(-30, np.floor(brighttemp.min()))\n",
    "    cmax = min(np.ceil(brighttemp.max()), 10.)\n",
    "    tsp = np.linspace(cmin, cmax, 100)\n",
    "    n, bins, _ = ax.hist(brighttemp, bins=tsp, normed=True, fill=True, histtype='step')\n",
    "\n",
    "    # Air and surface temperature\n",
    "    d = imageListDate[image]\n",
    "    airTemp = support.T6.sel(time=d).values\n",
    "    sfcTemp = support.Tsrf.sel(time=d).values\n",
    "    ax.plot([airTemp, airTemp], [0, 2.], '--', label='$T_{air}$')\n",
    "    ax.plot([sfcTemp, sfcTemp], [0, 2.], '--', label='$T_{sfc}$')\n",
    "\n",
    "    # Least squares fit for double gaussian. Starting values found by inspection.\n",
    "    y = n\n",
    "    x = bins[:-1] + np.diff(bins)\n",
    "    params = [1, x[y == max(y)], 1.0, 1, -25, 1.0]\n",
    "    fit = leastsq( double_gaussian_fit, params )\n",
    "    ax.plot(x, double_gaussian( x, fit[0] ), c='r')\n",
    "\n",
    "    # Formatting\n",
    "    ax.set_title('$std_1=$ ' + str(\"%.1f\" % fit[0][2])\n",
    "                 + ',  $std_2=$ '+str(\"%.1f\" % fit[0][5]),\n",
    "                 fontsize=16)\n",
    "    ax.set_ylim(0,min(1.3, max(y)))\n",
    "    ax.legend(loc='best', )\n",
    "\n",
    "    os.chdir(dirPrint)\n",
    "    fig.savefig(image + '.hist.pdf')\n"
   ]
  },
  {
   "cell_type": "markdown",
   "metadata": {},
   "source": [
    "## Test Brightness temperature adjustment\n",
    "1) Emissivity correction with angular dependence  \n",
    "2) Environmental contribution"
   ]
  },
  {
   "cell_type": "code",
   "execution_count": 6,
   "metadata": {
    "collapsed": false
   },
   "outputs": [
    {
     "data": {
      "text/plain": [
       "0.14888994760949725"
      ]
     },
     "execution_count": 6,
     "metadata": {},
     "output_type": "execute_result"
    }
   ],
   "source": [
    "np.arctan(1.5/10.)"
   ]
  },
  {
   "cell_type": "code",
   "execution_count": null,
   "metadata": {
    "collapsed": true
   },
   "outputs": [],
   "source": [
    " "
   ]
  }
 ],
 "metadata": {
  "anaconda-cloud": {},
  "kernelspec": {
   "display_name": "Python [Root]",
   "language": "python",
   "name": "Python [Root]"
  },
  "language_info": {
   "codemirror_mode": {
    "name": "ipython",
    "version": 3
   },
   "file_extension": ".py",
   "mimetype": "text/x-python",
   "name": "python",
   "nbconvert_exporter": "python",
   "pygments_lexer": "ipython3",
   "version": "3.5.2"
  }
 },
 "nbformat": 4,
 "nbformat_minor": 0
}
