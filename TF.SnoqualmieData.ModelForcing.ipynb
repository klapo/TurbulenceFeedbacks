{
 "cells": [
  {
   "cell_type": "markdown",
   "metadata": {},
   "source": [
    "#### TF.SnoqualmieData.ModelForcing\n",
    "Plots and prepares Snoqualmie flux tower met data. This data is the QC and filled data from Snoqualmie for forcing a model.\n"
   ]
  },
  {
   "cell_type": "code",
   "execution_count": 1,
   "metadata": {
    "collapsed": false
   },
   "outputs": [
    {
     "name": "stderr",
     "output_type": "stream",
     "text": [
      "/home/lapok/anaconda2/lib/python2.7/site-packages/pandas/computation/__init__.py:19: UserWarning: The installed version of numexpr 2.4.4 is not supported in pandas and will be not be used\n",
      "\n",
      "  UserWarning)\n",
      "/home/lapok/anaconda2/lib/python2.7/site-packages/matplotlib/__init__.py:872: UserWarning: axes.color_cycle is deprecated and replaced with axes.prop_cycle; please use the latter.\n",
      "  warnings.warn(self.msg_depr % (key, alt_key))\n"
     ]
    }
   ],
   "source": [
    "# must insert this statement to render the plots within the notebook\n",
    "# this is specific to the ipython notebook\n",
    "%matplotlib inline\n",
    "\n",
    "## Import statements\n",
    "# netcdf/numpy/xray/stats\n",
    "import numpy as np\n",
    "from datetime import datetime, timedelta\n",
    "import pandas as pd\n",
    "import xray\n",
    "from scipy.stats.stats import pearsonr\n",
    "\n",
    "# OS interaction\n",
    "import sys, pickle, os\n",
    "\n",
    "# import subplots function for plotting\n",
    "import seaborn as sns\n",
    "sns.set_style(\"whitegrid\")\n",
    "import matplotlib\n",
    "from matplotlib.pyplot import subplots\n",
    "import matplotlib.pyplot as plt\n",
    "from matplotlib import cm\n",
    "from mpl_toolkits.basemap import Basemap\n",
    "\n",
    "# Solargeometry\n",
    "import solargeo"
   ]
  },
  {
   "cell_type": "code",
   "execution_count": 2,
   "metadata": {
    "collapsed": true
   },
   "outputs": [],
   "source": [
    "#### Directory Lists\n",
    "# Unix\n",
    "if 'linux' in sys.platform:\n",
    "    dir_pre = '/home/lapok/gdrive/'\n",
    "# Mac\n",
    "elif 'darwin' in sys.platform:\n",
    "    dir_pre = '/Users/karllapo/gdrive/'\n",
    "\n",
    "dirData = dir_pre+'GroundObs/Snoqualmie/Raw/SNQ_Data/'                # Unprocessed Snoqualmie data\n",
    "dirProj = dir_pre+'SnowHydrology/proj/TurbulenceFeedbacks/'           # Project directory\n",
    "dirPrint = dir_pre+'SnowHydrology/proj/TurbulenceFeedbacks/Graphics'  # Directory for printing figures\n",
    "dirOut = dir_pre+'SnowHydrology/proj/TurbulenceFeedbacks/data/SNQ'    # Processed data directory"
   ]
  },
  {
   "cell_type": "code",
   "execution_count": 3,
   "metadata": {
    "collapsed": false
   },
   "outputs": [],
   "source": [
    "def calc_RH(p,q,T):\n",
    "    RH = np.empty_like(T)\n",
    "    if np.nanmin(T) < 200:\n",
    "        T = T + 273.16\n",
    "    T_0 = 273.16\n",
    "\n",
    "    RH = .263*p*q* (np.exp( (17.67*(T-T_0)) / (T-29.65) ))**(-1)\n",
    "    RH[RH > 100] = 100\n",
    "    return(RH)\n",
    "\n",
    "def calc_Tdew(T,RH):\n",
    "    ## CHECKS\n",
    "    if np.nanmax(T) > 100 or np.nanmin(T) > 40:\n",
    "        raise ValueError('Air temperature must be in Celsius')\n",
    "\n",
    "    if np.nanmax(RH) > 1 or np.nanmin(RH) < 0:\n",
    "        RH = RH/100\n",
    "        if np.nanmax(RH) > 1 or np.nanmin(RH) < 0:\n",
    "            raise ValueError('Relative humidity must be a fraction on [0,1]')\n",
    "\n",
    "    if not np.size(RH) == np.size(T):\n",
    "        raise ValueError('Relative humidity and air temperature must have the same number of elements')\n",
    "\n",
    "    ## ALGORITHM\n",
    "    # When are we calculating with respect to frost or water?\n",
    "    frost_ind = np.flatnonzero(T <= 0)\n",
    "    water_ind = np.flatnonzero(T > 0)\n",
    "    # Frost coefficients \n",
    "    b_frost = 22.587\n",
    "    c_frost = 273.86\n",
    "    # Water coefficients\n",
    "    b_water = 17.625\n",
    "    c_water = 243.03\n",
    "\n",
    "    # Pre-allocate\n",
    "    Tdew = np.empty_like(T)\n",
    "    ## Calculate\n",
    "    Tdew[frost_ind] = MagnusTetens(T[frost_ind],RH[frost_ind],b_frost,c_frost)\n",
    "    Tdew[water_ind] = MagnusTetens(T[water_ind],RH[water_ind],b_water,c_water)\n",
    "\n",
    "    return(Tdew)\n",
    "\n",
    "## SUB-FUNCTION for actual expression\n",
    "def MagnusTetens(T,RH,b,c):\n",
    "    dew = (c*( np.log(RH) + (b * T)/(c + T) )) / ( b - np.log(RH) - (b * T)/(c + T) )\n",
    "    return(dew)"
   ]
  },
  {
   "cell_type": "code",
   "execution_count": 4,
   "metadata": {
    "collapsed": false
   },
   "outputs": [
    {
     "name": "stdout",
     "output_type": "stream",
     "text": [
      "<xray.Dataset>\n",
      "Dimensions:  (time: 45741)\n",
      "Coordinates:\n",
      "  * time     (time) datetime64[ns] 2012-10-01 2012-10-01T00:30:00 ...\n",
      "Data variables:\n",
      "    precip   (time) float64 0.0 0.0 0.0 0.0 0.0 0.0 0.0 0.0 0.0 0.0 0.0 0.0 ...\n",
      "    SWdwn    (time) float64 0.0 0.0 0.0 0.0 0.0 0.0 0.0 0.0 0.0 0.0 0.0 0.0 ...\n",
      "    LWdwn    (time) float64 286.9 286.9 286.5 286.5 286.5 286.5 286.5 286.5 ...\n",
      "    Tair     (time) float64 279.0 279.0 279.0 279.2 279.4 279.4 279.1 278.9 ...\n",
      "    WIND     (time) float64 0.068 0.126 0.06 0.126 0.045 0.099 0.199 0.116 ...\n",
      "    Press    (time) float64 9.088e+04 9.086e+04 9.085e+04 9.085e+04 ...\n",
      "    QS       (time) float64 0.005277 0.005341 0.005394 0.005419 0.005373 ...\n",
      "    RH       (time) float64 83.35 84.34 85.05 84.36 82.46 83.76 84.16 84.74 ...\n",
      "    Tdew     (time) float64 3.24 3.407 3.546 3.611 3.49 3.661 3.512 3.409 ...\n"
     ]
    },
    {
     "name": "stderr",
     "output_type": "stream",
     "text": [
      "/home/lapok/anaconda2/lib/python2.7/site-packages/ipykernel/__main__.py:11: ParserWarning: Falling back to the 'python' engine because the 'c' engine does not support regex separators; you can avoid this warning by specifying engine='python'.\n"
     ]
    }
   ],
   "source": [
    "##### Flux tower data\n",
    "def parse(y, mo, dy, hr, mn):\n",
    "    s = '00'\n",
    "    date_str = y+':'+mo+':'+dy+'_'+hr+':'+mn+':'+s\n",
    "    dt = datetime.strptime(date_str,\"%Y:%m:%d_%H:%M:%S\")\n",
    "    return dt\n",
    "\n",
    "# pandas read (Dataframe)\n",
    "os.chdir(dirData+'Filled_Forcing')\n",
    "datafile = 'Met_Forcing_SNQ_10_1_2012_5_11_2015.txt'\n",
    "data = pd.read_csv(datafile,sep=r\"\\s*\",header=None,\\\n",
    "                   parse_dates={'Datetime' : [0,1,2,3,4]},date_parser=parse,index_col='Datetime')\n",
    "# Format\n",
    "data.columns = ['seconds','precip','SWdwn','LWdwn','Tair','WIND','Press','QS']\n",
    "data.drop('seconds', axis=1, inplace=True)\n",
    "# RH\n",
    "data['RH'] = calc_RH(data.Press.values,data.QS.values,data.Tair.values)\n",
    "# Dew point temperature\n",
    "data['Tdew'] = calc_Tdew(data.Tair.values-273.16,data.RH.values)\n",
    "\n",
    "# Convert to xray Dataset\n",
    "ds = xray.Dataset.from_dataframe(data)\n",
    "ds = ds.rename({'Datetime': 'time'})\n",
    "os.chdir(dirOut)\n",
    "ds.to_netcdf('SnoqualmieObs.ModelForcing.wy2013_wy2015.nc')\n",
    "\n",
    "print(ds)"
   ]
  },
  {
   "cell_type": "code",
   "execution_count": null,
   "metadata": {
    "collapsed": true
   },
   "outputs": [],
   "source": []
  }
 ],
 "metadata": {
  "kernelspec": {
   "display_name": "Python 2",
   "language": "python",
   "name": "python2"
  },
  "language_info": {
   "codemirror_mode": {
    "name": "ipython",
    "version": 2
   },
   "file_extension": ".py",
   "mimetype": "text/x-python",
   "name": "python",
   "nbconvert_exporter": "python",
   "pygments_lexer": "ipython2",
   "version": "2.7.11"
  }
 },
 "nbformat": 4,
 "nbformat_minor": 0
}
