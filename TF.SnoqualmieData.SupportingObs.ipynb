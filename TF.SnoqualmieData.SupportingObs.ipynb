{
 "cells": [
  {
   "cell_type": "markdown",
   "metadata": {},
   "source": [
    "#### TF.SnoqualmieData.SupportingObs\n",
    "Prepares Snoqualmie data to be used in evaluating a model:\n",
    "\n",
    "- snow pit obs\n",
    "- surface temperature (broken down by snow surface and ground surface temperature)\n",
    "- snow height\n",
    "- SWE (derived)\n",
    "- melt outflow\n",
    "- Observed fluxes: 4 stream rad, turb., ground"
   ]
  },
  {
   "cell_type": "code",
   "execution_count": 1,
   "metadata": {
    "collapsed": false
   },
   "outputs": [],
   "source": [
    "# must insert this statement to render the plots within the notebook\n",
    "# this is specific to the ipython notebook\n",
    "%matplotlib inline\n",
    "\n",
    "## Import statements\n",
    "# netcdf/numpy/xray/stats\n",
    "import numpy as np\n",
    "from datetime import datetime, timedelta\n",
    "import pandas as pd\n",
    "import xarray as xr\n",
    "from scipy.stats.stats import pearsonr\n",
    "\n",
    "# OS interaction\n",
    "import sys, pickle, os\n",
    "\n",
    "# import subplots function for plotting:q\n",
    "import seaborn as sns\n",
    "sns.set_style(\"whitegrid\")\n",
    "import matplotlib\n",
    "from matplotlib.pyplot import subplots\n",
    "import matplotlib.pyplot as plt\n",
    "from matplotlib import cm\n",
    "from mpl_toolkits.basemap import Basemap\n",
    "\n",
    "# Solargeometry\n",
    "import solargeo"
   ]
  },
  {
   "cell_type": "code",
   "execution_count": 2,
   "metadata": {
    "collapsed": true
   },
   "outputs": [],
   "source": [
    "#### Directory Lists\n",
    "# Unix\n",
    "if 'linux' in sys.platform:\n",
    "    dirPre = '/home/lapok/gdrive/'\n",
    "# Mac\n",
    "elif 'darwin' in sys.platform:\n",
    "    dirPre = '/Users/karllapo/gdrive/'\n",
    "\n",
    "dirData = dirPre + 'GroundObs/Snoqualmie/Raw/SNQ_Data/'                # Unprocessed Snoqualmie data\n",
    "dirTArray = dirPre + 'GroundObs/Snoqualmie/Raw/TArray/'                # Unprocessed Snoq. temperature array\n",
    "dirProj = dirPre + 'SnowHydrology/proj/TurbulenceFeedbacks/'           # Project directory\n",
    "dirPrint = dirPre + 'SnowHydrology/proj/TurbulenceFeedbacks/Graphics'  # Directory for printing figures\n",
    "dirOut = dirPre + 'SnowHydrology/proj/TurbulenceFeedbacks/data/SNQ'    # Processed data directory"
   ]
  },
  {
   "cell_type": "markdown",
   "metadata": {},
   "source": [
    "## Read Supporting Data - Time Series"
   ]
  },
  {
   "cell_type": "code",
   "execution_count": 3,
   "metadata": {
    "collapsed": false
   },
   "outputs": [],
   "source": [
    "#### Supporting information - read QC'ed half-hour data\n",
    "def parse(y, mo, dy, hr, mn):\n",
    "    s = '00'\n",
    "    date_str = y+':'+mo+':'+dy+'_'+hr+':'+mn+':'+s\n",
    "    dt = datetime.strptime(date_str,\"%Y:%m:%d_%H:%M:%S\")\n",
    "    return dt\n",
    "\n",
    "os.chdir(dirData+'Quality_Controled')\n",
    "datafile = 'SNQ_QC_30min_2013_2015.csv'\n",
    "support = pd.read_csv(datafile,sep=',',header=0,na_values=-9999,skiprows=[1,2],\\\n",
    "                   parse_dates={'Datetime' : [0,1,2,3,4]},date_parser=parse,index_col='Datetime')\n"
   ]
  },
  {
   "cell_type": "code",
   "execution_count": 4,
   "metadata": {
    "collapsed": false
   },
   "outputs": [],
   "source": [
    "## Reindex to a common time step with forcing data\n",
    "os.chdir(dirOut)\n",
    "ds = xr.open_dataset('SnoqualmieObs.ModelForcing.wy2013_wy2015.nc')\n",
    "support = support.reindex(ds.time.values,fill_value=np.nan)\n",
    "\n",
    "## Convert to xarray Dataset\n",
    "support = xr.Dataset(support)\n",
    "support = support.rename({'Datetime':'time'})"
   ]
  },
  {
   "cell_type": "code",
   "execution_count": 5,
   "metadata": {
    "collapsed": false
   },
   "outputs": [],
   "source": [
    "## Drop unnecessary fields\n",
    "drop_variable_list = ['VWC','GT']\n",
    "for dv in drop_variable_list:\n",
    "    ds_varnames = support.data_vars.keys()\n",
    "    drops = [s for s in ds_varnames if dv in s]\n",
    "    support = support.drop(drops)"
   ]
  },
  {
   "cell_type": "markdown",
   "metadata": {},
   "source": [
    "## Format Supporting Data\n",
    "- split up Tsrf into a snow surface temperature and ground surface temperature time series (based on snowdepth)\n",
    "- combing Tsrf1 and Tsrf2"
   ]
  },
  {
   "cell_type": "code",
   "execution_count": 6,
   "metadata": {
    "collapsed": false
   },
   "outputs": [],
   "source": [
    "# Average together both surface IR thermometers to get a single time series\n",
    "support['Tsrf'] = xr.concat([support.Tsrf_1,support.Tsrf_2],'concatDim').mean(dim='concatDim')"
   ]
  },
  {
   "cell_type": "markdown",
   "metadata": {},
   "source": [
    "Convert into a snow surface temperature and a ground surface temperature time series"
   ]
  },
  {
   "cell_type": "code",
   "execution_count": 7,
   "metadata": {
    "collapsed": false
   },
   "outputs": [],
   "source": [
    "# Take daily average, reindex to half-hourly time series, use in snow presence criteria\n",
    "TsrfDaily = support.Tsrf.resample(how='mean',freq='d',dim='time',label='left')\n",
    "TsrfDaily = TsrfDaily.reindex_like(support,method='ffill')\n",
    "\n",
    "# bare ground when no snowdepth recorded or the daily surface temperature is above freezing\n",
    "groundSurfTemp = support.Tsrf[(support.Snowdepth == 0) | (TsrfDaily > 0.5)]\n",
    "\n",
    "# snow covered ground when snow is observed and the surface temperature is below freezing\n",
    "snowSurfTemp = support.Tsrf[(support.Snowdepth > 0) & (TsrfDaily < 0.5)]\n",
    "\n",
    "# Assign to support xarray.Dataset\n",
    "support['groundTs'] = groundSurfTemp\n",
    "support['snowTs'] = snowSurfTemp"
   ]
  },
  {
   "cell_type": "markdown",
   "metadata": {},
   "source": [
    "Create snow presence variable"
   ]
  },
  {
   "cell_type": "code",
   "execution_count": 8,
   "metadata": {
    "collapsed": false
   },
   "outputs": [],
   "source": [
    "snowPres = ((support.Snowdepth > 0) | (TsrfDaily < 0.5))\n",
    "support['SP'] = snowPres.astype(int)"
   ]
  },
  {
   "cell_type": "markdown",
   "metadata": {},
   "source": [
    "## Temperature/RH/Wind Array \n",
    "5 minute data @ 6 heights"
   ]
  },
  {
   "cell_type": "code",
   "execution_count": 11,
   "metadata": {
    "collapsed": false
   },
   "outputs": [],
   "source": [
    "#### Supporting information - Temperature Array (Colin's Mary Gates project)\n",
    "def parse(y, mo, dy, hr, mn):\n",
    "    s = '00'\n",
    "    date_str = y + ':' + mo + ':' + dy + '_' + hr + ':' + mn + ':' + s\n",
    "    dt = datetime.strptime(date_str,\"%Y:%m:%d_%H:%M:%S\")\n",
    "    return dt\n",
    "\n",
    "os.chdir(dirTArray)\n",
    "datafile = 'MG_Combined_Data.csv'\n",
    "TArray = pd.read_csv(datafile, sep=',', header=0, na_values=-9999,\n",
    "                     parse_dates=[3], index_col=3)\n",
    "\n",
    "## Convert to xarray Dataset\n",
    "TArray = xr.Dataset(TArray)\n",
    "TArray = TArray.rename({'Time (GMT -07:00)': 'time'})"
   ]
  },
  {
   "cell_type": "code",
   "execution_count": 13,
   "metadata": {
    "collapsed": false
   },
   "outputs": [],
   "source": [
    "## Drop unnecessary fields\n",
    "drop_variable_list = ['Year','Day','Hr:Min','Batt Volt']\n",
    "for dv in drop_variable_list:\n",
    "    ds_varnames = TArray.data_vars.keys()\n",
    "    drops = [s for s in ds_varnames if dv in s]\n",
    "    TArray = TArray.drop(drops)"
   ]
  },
  {
   "cell_type": "code",
   "execution_count": 14,
   "metadata": {
    "collapsed": false
   },
   "outputs": [],
   "source": [
    "## Save to netcdf\n",
    "os.chdir(dirOut)\n",
    "support.to_netcdf('SnoqualmieObs.SupportData.wy2013_wy2015.nc', mode='w')\n",
    "TArray.to_netcdf('SnoqualmieObs.SupportData.TArray.Spring2015.nc',mode='w')"
   ]
  },
  {
   "cell_type": "code",
   "execution_count": null,
   "metadata": {
    "collapsed": true
   },
   "outputs": [],
   "source": []
  }
 ],
 "metadata": {
  "kernelspec": {
   "display_name": "Python [Root]",
   "language": "python",
   "name": "Python [Root]"
  },
  "language_info": {
   "codemirror_mode": {
    "name": "ipython",
    "version": 3
   },
   "file_extension": ".py",
   "mimetype": "text/x-python",
   "name": "python",
   "nbconvert_exporter": "python",
   "pygments_lexer": "ipython3",
   "version": "3.5.2"
  }
 },
 "nbformat": 4,
 "nbformat_minor": 0
}
