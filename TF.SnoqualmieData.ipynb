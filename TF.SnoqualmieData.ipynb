{
 "cells": [
  {
   "cell_type": "markdown",
   "metadata": {},
   "source": [
    "#### TF.SnoqualmieData.ipynb\n",
    "Karl Lapo October/2015\n",
    "\n",
    "Exploring and processing Snoqualmie flux tower data\n"
   ]
  },
  {
   "cell_type": "code",
   "execution_count": 7,
   "metadata": {
    "collapsed": true
   },
   "outputs": [],
   "source": [
    "# must insert this statement to render the plots within the notebook\n",
    "# this is specific to the ipython notebook\n",
    "%matplotlib inline\n",
    "\n",
    "## Import statements\n",
    "# netcdf/numpy/xray/stats\n",
    "import numpy as np\n",
    "from datetime import datetime, timedelta\n",
    "import pandas as pd\n",
    "import xray\n",
    "from scipy.stats.stats import pearsonr\n",
    "\n",
    "# OS interaction\n",
    "import sys, pickle, os\n",
    "\n",
    "# import subplots function for plotting\n",
    "import seaborn as sns\n",
    "sns.set_style(\"whitegrid\")\n",
    "import matplotlib\n",
    "from matplotlib.pyplot import subplots\n",
    "import matplotlib.pyplot as plt\n",
    "from matplotlib import cm\n",
    "from mpl_toolkits.basemap import Basemap\n",
    "\n",
    "# Solargeometry\n",
    "import solargeo\n",
    "\n",
    "## Directory listing\n",
    "dir_data = '/Users/karllapo/gdrive/GroundObs/Snoqualmie/Raw/SNQ_Data/'\n",
    "dir_print = '/Users/karllapo/gdrive/SnowHydrology/proj/TurbulenceFeedbacks/Graphics'\n",
    "dir_out = '/Users/karllapo/gdrive/SnowHydrology/proj/TurbulenceFeedbacks/data/SNQ'"
   ]
  },
  {
   "cell_type": "code",
   "execution_count": 2,
   "metadata": {
    "collapsed": false
   },
   "outputs": [],
   "source": [
    "def calc_RH(p,q,T):\n",
    "    RH = np.empty_like(T)\n",
    "    if np.nanmin(T) < 200:\n",
    "        T = T + 273.16\n",
    "    T_0 = 273.16\n",
    "\n",
    "    RH = .263*p*q* (np.exp( (17.67*(T-T_0)) / (T-29.65) ))**(-1)\n",
    "    RH[RH > 100] = 100\n",
    "    return(RH)\n",
    "\n",
    "def calc_Tdew(T,RH):\n",
    "    ## CHECKS\n",
    "    if np.nanmax(T) > 100 or np.nanmin(T) > 40:\n",
    "        raise ValueError('Air temperature must be in Celsius')\n",
    "\n",
    "    if np.nanmax(RH) > 1 or np.nanmin(RH) < 0:\n",
    "        RH = RH/100\n",
    "        if np.nanmax(RH) > 1 or np.nanmin(RH) < 0:\n",
    "            raise ValueError('Relative humidity must be a fraction on [0,1]')\n",
    "\n",
    "    if not np.size(RH) == np.size(T):\n",
    "        raise ValueError('Relative humidity and air temperature must have the same number of elements')\n",
    "\n",
    "    ## ALGORITHM\n",
    "    # When are we calculating with respect to frost or water?\n",
    "    frost_ind = np.flatnonzero(T <= 0)\n",
    "    water_ind = np.flatnonzero(T > 0)\n",
    "    # Frost coefficients \n",
    "    b_frost = 22.587\n",
    "    c_frost = 273.86\n",
    "    # Water coefficients\n",
    "    b_water = 17.625\n",
    "    c_water = 243.03\n",
    "\n",
    "    # Pre-allocate\n",
    "    Tdew = np.empty_like(T)\n",
    "    ## Calculate\n",
    "    Tdew[frost_ind] = MagnusTetens(T[frost_ind],RH[frost_ind],b_frost,c_frost)\n",
    "    Tdew[water_ind] = MagnusTetens(T[water_ind],RH[water_ind],b_water,c_water)\n",
    "\n",
    "    return(Tdew)\n",
    "\n",
    "## SUB-FUNCTION for actual expression\n",
    "def MagnusTetens(T,RH,b,c):\n",
    "    dew = (c*( np.log(RH) + (b * T)/(c + T) )) / ( b - np.log(RH) - (b * T)/(c + T) )\n",
    "    return(dew)"
   ]
  },
  {
   "cell_type": "code",
   "execution_count": 3,
   "metadata": {
    "collapsed": false
   },
   "outputs": [
    {
     "name": "stdout",
     "output_type": "stream",
     "text": [
      "<xray.Dataset>\n",
      "Dimensions:  (time: 45741)\n",
      "Coordinates:\n",
      "  * time     (time) datetime64[ns] 2012-10-01 2012-10-01T00:30:00 ...\n",
      "Data variables:\n",
      "    precip   (time) float64 0.0 0.0 0.0 0.0 0.0 0.0 0.0 0.0 0.0 0.0 0.0 0.0 ...\n",
      "    SWdwn    (time) float64 0.0 0.0 0.0 0.0 0.0 0.0 0.0 0.0 0.0 0.0 0.0 0.0 ...\n",
      "    LWdwn    (time) float64 286.9 286.9 286.5 286.5 286.5 286.5 286.5 286.5 ...\n",
      "    Tair     (time) float64 279.0 279.0 279.0 279.2 279.4 279.4 279.1 278.9 ...\n",
      "    WIND     (time) float64 0.068 0.126 0.06 0.126 0.045 0.099 0.199 0.116 ...\n",
      "    Press    (time) float64 9.088e+04 9.086e+04 9.085e+04 9.085e+04 ...\n",
      "    QS       (time) float64 0.005277 0.005341 0.005394 0.005419 0.005373 ...\n",
      "    RH       (time) float64 83.35 84.34 85.05 84.36 82.46 83.76 84.16 84.74 ...\n",
      "    Tdew     (time) float64 3.24 3.407 3.546 3.611 3.49 3.661 3.512 3.409 ...\n"
     ]
    },
    {
     "name": "stderr",
     "output_type": "stream",
     "text": [
      "/Users/karllapo/anaconda/lib/python2.7/site-packages/pandas/io/parsers.py:648: ParserWarning: Falling back to the 'python' engine because the 'c' engine does not support regex separators; you can avoid this warning by specifying engine='python'.\n",
      "  ParserWarning)\n"
     ]
    }
   ],
   "source": [
    "##### Flux tower data\n",
    "def parse(y, mo, dy, hr, mn):\n",
    "    s = '00'\n",
    "    date_str = y+':'+mo+':'+dy+'_'+hr+':'+mn+':'+s\n",
    "    dt = datetime.strptime(date_str,\"%Y:%m:%d_%H:%M:%S\")\n",
    "    return dt\n",
    "\n",
    "# pandas read (Dataframe)\n",
    "os.chdir(dir_data+'Filled_Forcing')\n",
    "datafile = 'Met_Forcing_SNQ_10_1_2012_5_11_2015.txt'\n",
    "data = pd.read_csv(datafile,sep=r\"\\s*\",header=None,\\\n",
    "                   parse_dates={'Datetime' : [0,1,2,3,4]},date_parser=parse,index_col='Datetime')\n",
    "# Format\n",
    "data.columns = ['seconds','precip','SWdwn','LWdwn','Tair','WIND','Press','QS']\n",
    "data.drop('seconds', axis=1, inplace=True)\n",
    "# RH\n",
    "data['RH'] = calc_RH(data.Press.values,data.QS.values,data.Tair.values)\n",
    "# Dew point temperature\n",
    "data['Tdew'] = calc_Tdew(data.Tair.values-273.16,data.RH.values)\n",
    "# Convert to xray Dataset\n",
    "ds = xray.Dataset.from_dataframe(data)\n",
    "ds = ds.rename({'Datetime': 'time'})\n",
    "\n",
    "print(ds)"
   ]
  },
  {
   "cell_type": "code",
   "execution_count": 4,
   "metadata": {
    "collapsed": false
   },
   "outputs": [],
   "source": [
    "#### Supporting information\n",
    "def parse(y, mo, dy, hr, mn):\n",
    "    s = '00'\n",
    "    date_str = y+':'+mo+':'+dy+'_'+hr+':'+mn+':'+s\n",
    "    dt = datetime.strptime(date_str,\"%Y:%m:%d_%H:%M:%S\")\n",
    "    return dt\n",
    "\n",
    "os.chdir(dir_data+'Quality_Controled')\n",
    "datafile = 'SNQ_QC_30min_2013_2015.TSURF.csv'\n",
    "support = pd.read_csv(datafile,sep=',',header=0,na_values=-9999,\\\n",
    "                   parse_dates={'Datetime' : [0,1,2,3,4]},date_parser=parse,index_col='Datetime')\n",
    "support = support.rename({'Datetime': 'time'})\n",
    "support = support.reindex(ds.time.values,fill_value=np.nan)\n",
    "ds['Tsurf'] = (('time'),support.Tsrf_1)\n"
   ]
  },
  {
   "cell_type": "code",
   "execution_count": 9,
   "metadata": {
    "collapsed": false
   },
   "outputs": [
    {
     "name": "stdout",
     "output_type": "stream",
     "text": [
      "<xray.Dataset>\n",
      "Dimensions:  (time: 45741)\n",
      "Coordinates:\n",
      "  * time     (time) datetime64[ns] 2012-10-01 2012-10-01T00:30:00 ...\n",
      "Data variables:\n",
      "    precip   (time) float64 0.0 0.0 0.0 0.0 0.0 0.0 0.0 0.0 0.0 0.0 0.0 0.0 ...\n",
      "    SWdwn    (time) float64 0.0 0.0 0.0 0.0 0.0 0.0 0.0 0.0 0.0 0.0 0.0 0.0 ...\n",
      "    LWdwn    (time) float64 286.9 286.9 286.5 286.5 286.5 286.5 286.5 286.5 ...\n",
      "    Tair     (time) float64 279.0 279.0 279.0 279.2 279.4 279.4 279.1 278.9 ...\n",
      "    WIND     (time) float64 0.068 0.126 0.06 0.126 0.045 0.099 0.199 0.116 ...\n",
      "    Press    (time) float64 9.088e+04 9.086e+04 9.085e+04 9.085e+04 ...\n",
      "    QS       (time) float64 0.005277 0.005341 0.005394 0.005419 0.005373 ...\n",
      "    RH       (time) float64 83.35 84.34 85.05 84.36 82.46 83.76 84.16 84.74 ...\n",
      "    Tdew     (time) float64 3.24 3.407 3.546 3.611 3.49 3.661 3.512 3.409 ...\n",
      "    Tsurf    (time) float64 nan nan nan nan nan nan nan nan nan nan nan nan ...\n"
     ]
    }
   ],
   "source": [
    "print(ds)\n",
    "os.chdir(dir_out)\n",
    "ds.to_netcdf('SnoqualmieObs.wy2013.wy2015.nc')"
   ]
  },
  {
   "cell_type": "code",
   "execution_count": 8,
   "metadata": {
    "collapsed": false
   },
   "outputs": [
    {
     "data": {
      "text/plain": [
       "[<matplotlib.lines.Line2D at 0x10c790150>]"
      ]
     },
     "execution_count": 8,
     "metadata": {},
     "output_type": "execute_result"
    },
    {
     "data": {
      "image/png": "[encoded data removed]",
      "text/plain": [
       "<matplotlib.figure.Figure at 0x10b333290>"
      ]
     },
     "metadata": {},
     "output_type": "display_data"
    }
   ],
   "source": [
    "# Time series of raw data\n",
    "ds.Tsurf.values[ds.Tsurf.values > 0] = np.nan\n",
    "ds.Tsurf.plot()"
   ]
  },
  {
   "cell_type": "code",
   "execution_count": 82,
   "metadata": {
    "collapsed": false
   },
   "outputs": [
    {
     "name": "stdout",
     "output_type": "stream",
     "text": [
      "<xray.DataArray 'Tsurf' (time: 574)>\n",
      "array([-21.39417333, -21.75078   , -21.86962   , -22.27057667,\n",
      "       -22.08016   , -21.98154333, -21.16288333, -19.73931333,\n",
      "       -19.42958   , -20.64127   , -21.8532    , -22.77459333,\n",
      "       -22.88076667, -23.08949667, -22.19694333, -19.49288667,\n",
      "       -18.95777   , -20.36346333, -19.30539333, -19.19131   ,\n",
      "       -20.00621   , -21.05638333, -21.41589   , -21.10824333,\n",
      "       -23.64475333, -23.70779667, -23.74027667, -23.51422333,\n",
      "       -23.72625333, -23.20469667, -23.93284   , -24.10273   ,\n",
      "       -24.16187667, -24.11335667, -24.30846667, -23.85641   ,\n",
      "       -21.24820333, -17.603     , -18.52754   , -21.40076333,\n",
      "       -23.06628333, -21.38163   , -19.02166   , -18.38631667,\n",
      "       -18.11828   , -16.12776667, -16.44753667, -18.30561667,\n",
      "       -17.60672   , -16.47061667, -19.49527667, -20.31103667,\n",
      "       -18.26268667, -19.02411   , -19.12986   , -19.01219333,\n",
      "       -17.94734333, -14.56466333, -10.61567333, -10.71653667,\n",
      "       -11.01832   , -12.12889   , -11.22757   , -10.93975333,\n",
      "       -11.35124333, -11.46220667, -11.23331333, -11.09816333,\n",
      "       -11.06068667, -11.25377   , -11.50739333, -11.54476333,\n",
      "       -11.50455333, -11.64577333, -11.88357333, -12.15777   ,\n",
      "       -11.98723333, -11.51167333, -11.96995333, -11.34641   ,\n",
      "       -11.29688333, -10.87694333, -23.16047667, -23.3301    ,\n",
      "       -23.33299   , -23.3631    , -21.25828   , -20.27434333,\n",
      "       -17.30543   , -16.26833333, -17.09968   , -16.62443   ,\n",
      "       -17.88279   , -17.46535667, -16.17809   , -13.83990667,\n",
      "       -13.45276333, -13.90913667, -11.71961   , -16.46226333,\n",
      "       -22.02201   , -21.98650667, -21.92965   , -18.01506   ,\n",
      "       -17.54777   , -17.08862   , -19.17793   , -17.90577333,\n",
      "       -19.26418   , -17.08602333, -18.03940667, -18.48193667,\n",
      "       -19.2093    , -19.11219333, -20.55907   , -23.41137667,\n",
      "       -23.79948667, -24.28967667, -24.71090667, -24.17540333,\n",
      "       -21.53650333, -20.8405    , -23.14750333, -24.81337667,\n",
      "       -25.21498333, -25.02191667, -24.93516333, -25.05338   ,\n",
      "       -25.04082667, -24.44802   , -23.81207667, -17.56294667,\n",
      "       -15.11236333, -12.86000667, -11.57774   , -16.46593667,\n",
      "       -16.16257333, -15.30219667, -15.38458333, -15.44477333,\n",
      "       -15.04148667, -13.68792667, -12.21807   , -12.16260333,\n",
      "       -12.44245333, -12.90896667, -15.23742   , -18.30795333,\n",
      "       -19.993     , -21.26891333, -19.99844333, -19.16179667,\n",
      "       -17.96057667, -18.93182   , -19.16114333, -17.86627667,\n",
      "       -18.23274333, -18.36308333, -19.07223667, -19.31551333,\n",
      "       -20.07779667, -17.78484333, -17.03116333, -17.37097   ,\n",
      "       -15.52972   , -14.77259   , -14.00892667, -14.10821333,\n",
      "       -13.67518333, -12.46371333, -12.23384333, -11.60638   ,\n",
      "       -11.17824333, -12.05097333, -12.54962   , -13.09818333,\n",
      "       -13.81597333, -15.12755333, -15.43068333, -15.58408667,\n",
      "       -15.49717667, -15.89075667, -16.65045333, -17.58885667,\n",
      "       -17.5537    , -17.56022   , -16.79572   , -18.15683   ,\n",
      "       -18.02831667, -17.99430333, -18.03045667, -18.62152333,\n",
      "       -19.80603333, -21.54519667, -22.04775667, -21.50937667,\n",
      "       -23.51638   , -24.4848    , -25.60599   , -26.7085    ,\n",
      "       -27.19514667, -27.36902333, -27.83382333, -28.17319667,\n",
      "       -28.51941333, -29.03083   , -29.31283667, -29.45101333,\n",
      "       -29.58155   , -29.67915667, -29.69584333, -29.78492667,\n",
      "       -28.97951   , -27.52949667, -25.91808   , -23.62142   ,\n",
      "       -21.96138   , -23.11323   , -24.70110333, -25.21662667,\n",
      "       -25.58775667, -26.22401   , -26.69445667, -26.87921   ,\n",
      "       -26.84894667, -27.0827    , -27.12518   , -27.19936333,\n",
      "       -27.30658333, -27.18868333, -26.5437    , -22.93963   ,\n",
      "       -22.41260333, -24.96226667, -25.97582667, -26.40240667,\n",
      "       -26.49075   , -26.12040667, -25.8907    , -25.81108   ,\n",
      "       -25.57707   , -25.08113667, -24.24185667, -18.71107667,\n",
      "       -15.83554333, -15.48449   , -15.93809333, -15.77833333,\n",
      "       -13.71529667, -16.36885667, -16.76063667, -18.12378667,\n",
      "       -20.79553333, -21.78383333, -21.34557667, -20.82165   ,\n",
      "       -21.02178667, -21.16966667, -21.22610667, -20.89206333,\n",
      "       -20.80082333, -20.8708    , -20.58410667, -20.63964333,\n",
      "       -20.37913667, -20.50372   , -19.3674    , -18.36086   ,\n",
      "       -19.38835667, -20.05462667, -20.30614333, -20.10736333,\n",
      "       -19.21508333, -19.41767   , -19.58301333, -20.08358667,\n",
      "       -19.42759   , -18.25355   , -17.28175667, -20.87631333,\n",
      "       -21.6471    , -21.36704333, -16.91975   , -18.19353667,\n",
      "       -19.83250333, -18.84056   , -11.72305333, -13.0076    ,\n",
      "       -13.77051   , -13.58517333, -13.80860333, -15.28912667,\n",
      "       -15.63677667, -14.87475   , -14.59256   , -14.59504333,\n",
      "       -15.74709333, -16.35544   , -16.75618333, -17.97883667,\n",
      "       -17.83435   , -18.69974333, -20.14437333, -21.99421   ,\n",
      "       -21.03211667, -21.25561333, -21.56666   , -23.07471   ,\n",
      "       -22.8162    , -23.42391   , -23.45758333, -23.58513   ,\n",
      "       -22.88341   , -23.16416333, -23.43815333, -24.96074333,\n",
      "       -24.96630333, -25.35263   , -24.61535   , -22.73509667,\n",
      "       -21.99786333, -20.2306    , -19.00549667, -17.90227333,\n",
      "       -17.86785333, -18.08735667, -15.00746333, -14.32046333,\n",
      "       -14.98256333, -15.71692667, -16.88725   , -17.71354333,\n",
      "       -20.59505333, -22.12600667, -22.97336   , -24.10459   ,\n",
      "       -24.67255667, -25.26165   , -25.20274333, -25.11713   ,\n",
      "       -24.92552333, -24.67928667, -25.28248667, -23.68446   ,\n",
      "       -23.90422667, -24.33330667, -23.40573667, -23.48907333,\n",
      "       -22.93099667, -22.36250667, -22.18761   , -22.66691667,\n",
      "       -23.15555667, -22.25560333, -21.53380667, -22.55422667,\n",
      "       -22.40363333, -22.73862667, -22.16289667, -20.91596   ,\n",
      "       -20.46579   , -20.77727333, -21.23953667, -21.20348333,\n",
      "       -20.02171667, -18.72107   , -19.09417   , -19.27967333,\n",
      "       -17.52887   , -16.42004667, -15.41915333, -13.98539333,\n",
      "       -13.35992667, -13.02888333, -12.58131333, -12.6937    ,\n",
      "       -13.07057333, -13.07102333, -13.16589667, -13.26986667,\n",
      "       -13.54225333, -13.74768   , -13.7021    , -13.87031333,\n",
      "       -13.99042   , -14.30628333, -14.32304667, -14.32859333,\n",
      "       -14.33369667, -14.38539   , -14.37303   , -14.34935333,\n",
      "       -14.30745667, -14.25889   , -14.26950667, -14.17529667,\n",
      "       -14.14724667, -14.33991667, -14.42374333, -14.59169   ,\n",
      "       -14.65698333, -14.28978   , -14.13670333, -14.08136   ,\n",
      "       -13.97372333, -13.95329333, -13.93364667, -13.85406333,\n",
      "       -13.91913   , -13.77675667, -13.93583333, -16.85366   ,\n",
      "       -19.94086333, -19.48321   , -19.62450333, -20.12148   ,\n",
      "       -19.80908667, -14.76269333, -17.00222   , -15.38233667,\n",
      "       -13.35631   , -13.95847667, -13.31002333, -12.91317   ,\n",
      "       -12.91731333, -12.80132333, -12.80234   , -12.78603   ,\n",
      "       -12.78619667, -12.55393   , -12.43264333, -12.03062333,\n",
      "       -11.89065333, -11.72193667, -11.67691   , -11.57743333,\n",
      "       -11.59750667, -11.56133   , -11.52394   , -11.60655333,\n",
      "       -11.58274   , -11.6391    , -11.69349667, -11.53262333,\n",
      "       -11.49818   , -11.55775667, -11.80660333, -13.12734667,\n",
      "       -16.19347   , -10.13572667, -10.27584   , -10.37305   ,\n",
      "       -10.40719667, -10.42842333, -10.46719   , -10.4737    ,\n",
      "       -10.44813   , -10.42908667, -10.46397333, -10.41389667,\n",
      "       -10.40459667, -10.41942   , -10.46709333, -10.43871   ,\n",
      "       -10.38475667, -10.44642333, -10.48226   , -10.04680967,\n",
      "        -9.75125367,          nan,          nan,          nan,\n",
      "                nan,          nan,          nan,          nan,\n",
      "                nan,          nan,          nan,          nan,\n",
      "                nan,          nan,          nan,          nan,\n",
      "                nan,          nan,          nan,          nan,\n",
      "                nan,          nan,          nan,          nan,\n",
      "                nan,          nan,          nan,          nan,\n",
      "                nan,          nan,          nan,          nan,\n",
      "                nan,          nan,          nan,          nan,\n",
      "                nan,          nan,          nan,          nan,\n",
      "                nan,          nan,          nan,          nan,\n",
      "                nan,          nan,          nan,          nan,\n",
      "                nan,          nan,          nan,          nan,\n",
      "                nan,          nan,          nan,          nan,\n",
      "                nan,          nan,          nan,          nan,\n",
      "                nan,          nan,          nan,          nan,\n",
      "                nan,          nan,          nan,          nan,\n",
      "                nan,          nan,          nan,          nan,\n",
      "                nan,          nan,          nan,          nan,\n",
      "                nan,          nan,          nan,          nan,\n",
      "                nan,          nan,          nan,          nan,\n",
      "                nan,          nan,          nan,          nan,\n",
      "                nan,          nan,          nan,          nan,\n",
      "                nan,          nan,          nan,          nan,\n",
      "                nan,          nan,          nan,          nan,\n",
      "                nan,          nan,          nan,          nan,\n",
      "                nan,          nan])\n",
      "Coordinates:\n",
      "  * time     (time) datetime64[ns] 2013-01-11T21:30:00 2013-01-11T22:00:00 ...\n"
     ]
    }
   ],
   "source": []
  }
 ],
 "metadata": {
  "kernelspec": {
   "display_name": "Python 2",
   "language": "python",
   "name": "python2"
  },
  "language_info": {
   "codemirror_mode": {
    "name": "ipython",
    "version": 2
   },
   "file_extension": ".py",
   "mimetype": "text/x-python",
   "name": "python",
   "nbconvert_exporter": "python",
   "pygments_lexer": "ipython2",
   "version": "2.7.10"
  }
 },
 "nbformat": 4,
 "nbformat_minor": 0
}
