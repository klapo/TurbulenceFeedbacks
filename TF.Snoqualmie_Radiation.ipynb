{
 "cells": [
  {
   "cell_type": "markdown",
   "metadata": {},
   "source": [
    "#### TF.Snoqualmie_Radiation.ipynb\n",
    "Karl Lapo October/2015\n",
    "\n",
    "Exploring Snoqualmie radiation data\n"
   ]
  },
  {
   "cell_type": "code",
   "execution_count": 2,
   "metadata": {
    "collapsed": true
   },
   "outputs": [],
   "source": [
    "# must insert this statement to render the plots within the notebook\n",
    "# this is specific to the ipython notebook\n",
    "%matplotlib inline\n",
    "\n",
    "## Import statements\n",
    "# netcdf/numpy/xray/stats\n",
    "import numpy as np\n",
    "from datetime import datetime, timedelta\n",
    "import pandas as pd\n",
    "import xray\n",
    "from scipy.stats.stats import pearsonr\n",
    "\n",
    "# OS interaction\n",
    "import sys, pickle, os\n",
    "\n",
    "# import subplots function for plotting\n",
    "import seaborn as sns\n",
    "sns.set_style(\"whitegrid\")\n",
    "import matplotlib\n",
    "from matplotlib.pyplot import subplots\n",
    "import matplotlib.pyplot as plt\n",
    "from matplotlib import cm\n",
    "from mpl_toolkits.basemap import Basemap\n",
    "\n",
    "# Solargeometry\n",
    "import solargeo\n",
    "\n",
    "## Directory listing\n",
    "dir_print = '/Users/karllapo/gdrive/SnowHydrology/proj/TurbulenceFeedbacks/Graphics'\n",
    "dir_data = '/Users/karllapo/gdrive/SnowHydrology/proj/TurbulenceFeedbacks/data/SNQ'"
   ]
  },
  {
   "cell_type": "code",
   "execution_count": 3,
   "metadata": {
    "collapsed": false
   },
   "outputs": [
    {
     "name": "stdout",
     "output_type": "stream",
     "text": [
      "<xray.Dataset>\n",
      "Dimensions:  (time: 45741)\n",
      "Coordinates:\n",
      "  * time     (time) datetime64[ns] 2012-10-01 2012-10-01T00:30:00 ...\n",
      "Data variables:\n",
      "    precip   (time) float64 0.0 0.0 0.0 0.0 0.0 0.0 0.0 0.0 0.0 0.0 0.0 0.0 ...\n",
      "    SWdwn    (time) float64 0.0 0.0 0.0 0.0 0.0 0.0 0.0 0.0 0.0 0.0 0.0 0.0 ...\n",
      "    LWdwn    (time) float64 286.9 286.9 286.5 286.5 286.5 286.5 286.5 286.5 ...\n",
      "    Tair     (time) float64 279.0 279.0 279.0 279.2 279.4 279.4 279.1 278.9 ...\n",
      "    WIND     (time) float64 0.068 0.126 0.06 0.126 0.045 0.099 0.199 0.116 ...\n",
      "    Press    (time) float64 9.088e+04 9.086e+04 9.085e+04 9.085e+04 ...\n",
      "    QS       (time) float64 0.005277 0.005341 0.005394 0.005419 0.005373 ...\n",
      "    RH       (time) float64 83.35 84.34 85.05 84.36 82.46 83.76 84.16 84.74 ...\n",
      "    Tdew     (time) float64 3.24 3.407 3.546 3.611 3.49 3.661 3.512 3.409 ...\n",
      "    Tsurf    (time) float64 nan nan nan nan nan nan nan nan nan nan nan nan ...\n"
     ]
    }
   ],
   "source": [
    "## Load data\n",
    "os.chdir(dir_data)\n",
    "ds = xray.open_dataset('SnoqualmieObs.wy2013.wy2015.nc')\n",
    "print(ds)"
   ]
  },
  {
   "cell_type": "code",
   "execution_count": 4,
   "metadata": {
    "collapsed": true
   },
   "outputs": [],
   "source": [
    "############################################################################\n",
    "## Functions\n",
    "############################################################################"
   ]
  },
  {
   "cell_type": "code",
   "execution_count": 5,
   "metadata": {
    "collapsed": false
   },
   "outputs": [
    {
     "name": "stdout",
     "output_type": "stream",
     "text": [
      "<xray.Dataset>\n",
      "Dimensions:  (time: 45741)\n",
      "Coordinates:\n",
      "  * time     (time) datetime64[ns] 2012-10-01 2012-10-01T00:30:00 ...\n",
      "Data variables:\n",
      "    precip   (time) float64 0.0 0.0 0.0 0.0 0.0 0.0 0.0 0.0 0.0 0.0 0.0 0.0 ...\n",
      "    SWdwn    (time) float64 0.0 0.0 0.0 0.0 0.0 0.0 0.0 0.0 0.0 0.0 0.0 0.0 ...\n",
      "    LWdwn    (time) float64 286.9 286.9 286.5 286.5 286.5 286.5 286.5 286.5 ...\n",
      "    Tair     (time) float64 279.0 279.0 279.0 279.2 279.4 279.4 279.1 278.9 ...\n",
      "    WIND     (time) float64 0.068 0.126 0.06 0.126 0.045 0.099 0.199 0.116 ...\n",
      "    Press    (time) float64 9.088e+04 9.086e+04 9.085e+04 9.085e+04 ...\n",
      "    QS       (time) float64 0.005277 0.005341 0.005394 0.005419 0.005373 ...\n",
      "    RH       (time) float64 83.35 84.34 85.05 84.36 82.46 83.76 84.16 84.74 ...\n",
      "    Tdew     (time) float64 3.24 3.407 3.546 3.611 3.49 3.661 3.512 3.409 ...\n",
      "    Tsurf    (time) float64 nan nan nan nan nan nan nan nan nan nan nan nan ...\n",
      "    Ri       (time) float64 nan nan nan nan nan nan nan nan nan nan nan nan ...\n"
     ]
    }
   ],
   "source": [
    "## These still require some testing to make sure they are physical...\n",
    "def stability(Tair,Tsurf,U,z=2):\n",
    "    g = 9.81\n",
    "    Ri = g*z*(Tair-Tsurf)/(.5*(Tair+Tsurf)*U**2)\n",
    "    return(Ri)\n",
    "\n",
    "Ri = stability(ds.Tair.values,ds.Tsurf.values+273.16,ds.WIND.values,z=3)\n",
    "ds['Ri'] = (('time'),Ri)\n",
    "print(ds)"
   ]
  },
  {
   "cell_type": "code",
   "execution_count": 6,
   "metadata": {
    "collapsed": false
   },
   "outputs": [],
   "source": [
    "## Tau\n",
    "EL = solargeo.AVG_EL(pd.to_datetime(ds.time.values),np.array(47.424883),np.array(-121.413893),8,'END')\n",
    "ds['tau'] = ds.SWdwn/(np.sin(EL*np.pi/180)*1365)\n"
   ]
  },
  {
   "cell_type": "code",
   "execution_count": 8,
   "metadata": {
    "collapsed": false
   },
   "outputs": [
    {
     "data": {
      "text/plain": [
       "<matplotlib.text.Text at 0x1100b3290>"
      ]
     },
     "execution_count": 8,
     "metadata": {},
     "output_type": "execute_result"
    },
    {
     "data": {
      "image/png": "[encoded data removed]",
      "text/plain": [
       "<matplotlib.figure.Figure at 0x10f9a7350>"
      ]
     },
     "metadata": {},
     "output_type": "display_data"
    }
   ],
   "source": [
    "## Histogram\n",
    "tau_for_hist = ds.tau.values\n",
    "tau_for_hist = np.ma.masked_where(np.isnan(tau_for_hist),tau_for_hist)\n",
    "tau_for_hist = np.ma.masked_where(np.isinf(tau_for_hist),tau_for_hist)\n",
    "\n",
    "n, bins, patches = plt.hist(tau_for_hist,range=(.01,1),bins=25)\n",
    "ax = plt.axes()\n",
    "ax.set_ylabel('# of obs')\n",
    "ax.set_xlabel('\\\\tau')"
   ]
  },
  {
   "cell_type": "code",
   "execution_count": null,
   "metadata": {
    "collapsed": true
   },
   "outputs": [],
   "source": []
  }
 ],
 "metadata": {
  "kernelspec": {
   "display_name": "Python 2",
   "language": "python",
   "name": "python2"
  },
  "language_info": {
   "codemirror_mode": {
    "name": "ipython",
    "version": 2
   },
   "file_extension": ".py",
   "mimetype": "text/x-python",
   "name": "python",
   "nbconvert_exporter": "python",
   "pygments_lexer": "ipython2",
   "version": "2.7.11"
  }
 },
 "nbformat": 4,
 "nbformat_minor": 0
}
