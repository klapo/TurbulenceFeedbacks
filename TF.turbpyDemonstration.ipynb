{
 "cells": [
  {
   "cell_type": "markdown",
   "metadata": {},
   "source": [
    "# turbpy package for simulating sensible and latent heat fluxes\n",
    "- Provide boundary conditions to specified stability functions\n",
    "- Allows direct testing of turbulence stability schemes"
   ]
  },
  {
   "cell_type": "code",
   "execution_count": 1,
   "metadata": {
    "collapsed": false
   },
   "outputs": [],
   "source": [
    "# must insert this statement to render the plots within the notebook\n",
    "# this is specific to the ipython notebook\n",
    "%matplotlib inline\n",
    "\n",
    "# -------------------------------------------------------------------------------------------------------\n",
    "# netcdf/numpy/xray/stats\n",
    "import numpy as np\n",
    "from datetime import datetime, timedelta\n",
    "import pandas as pd\n",
    "import xarray as xray\n",
    "from scipy.stats.stats import pearsonr\n",
    "\n",
    "# -------------------------------------------------------------------------------------------------------\n",
    "# OS interaction\n",
    "import sys, pickle, os\n",
    "\n",
    "# -------------------------------------------------------------------------------------------------------\n",
    "# plotting packages\n",
    "import seaborn as sns\n",
    "sns.set_style(\"whitegrid\")\n",
    "sns.set_context('paper')\n",
    "import matplotlib\n",
    "from matplotlib.pyplot import subplots\n",
    "import matplotlib.pyplot as plt\n",
    "from matplotlib import cm\n",
    "from mpl_toolkits.basemap import Basemap\n",
    "\n",
    "# -------------------------------------------------------------------------------------------------------\n",
    "# Custom packages\n",
    "import solargeo\n",
    "import kgraph\n",
    "import turbpy\n",
    "import turbpy.multiConst as mc\n",
    "\n",
    "# -------------------------------------------------------------------------------------------------------\n",
    "# Directory Lists\n",
    "# -------------------------------------------------------------------------------------------------------\n",
    "# Unix\n",
    "if 'linux' in sys.platform:\n",
    "    dir_pre = '/home/lapok/gdrive/'\n",
    "# Mac\n",
    "elif 'darwin' in sys.platform:\n",
    "    dir_pre = '/Users/karllapo/gdrive/'\n",
    "\n",
    "dirProj = dir_pre+'SnowHydrology/proj/TurbulenceFeedbacks/'  # Project directory\n",
    "dirPrint = dir_pre+'SnowHydrology/proj/TurbulenceFeedbacks/Graphics'  # Directory for printing figures"
   ]
  },
  {
   "cell_type": "markdown",
   "metadata": {},
   "source": [
    "### Check behavior of stability functions\n"
   ]
  },
  {
   "cell_type": "code",
   "execution_count": 2,
   "metadata": {
    "collapsed": false
   },
   "outputs": [],
   "source": [
    "ixStability = ('standard', 'louisInversePower', 'mahrtExponential', 'moninObukhov')\n",
    "sfcTemp = 265\n",
    "airTemp = np.arange(253, 293)\n",
    "windspd = 1.\n",
    "mHeight = 2.\n",
    "z0Ground = .005\n",
    "snowDepth = 0.\n",
    "scalarGroundSnowFraction  = 1.\n",
    "(airVaporPress, _) = turbpy.satVapPress(airTemp - 273.)\n",
    "(sfcVaporPress, _) = turbpy.satVapPress(sfcTemp - 273.)\n",
    "airPressure = 101000.\n",
    "\n",
    "RiBulk,_,_ = turbpy.bulkRichardson(airTemp, sfcTemp, windspd, mHeight)"
   ]
  },
  {
   "cell_type": "markdown",
   "metadata": {},
   "source": [
    "## Test Stability Functions"
   ]
  },
  {
   "cell_type": "code",
   "execution_count": 3,
   "metadata": {
    "collapsed": false
   },
   "outputs": [],
   "source": [
    "## Calculate stability\n",
    "stabilitySchemes = {\n",
    "    ixStability[0]:np.zeros_like(RiBulk),\n",
    "    ixStability[1]:np.zeros_like(RiBulk),\n",
    "    ixStability[2]:np.zeros_like(RiBulk),\n",
    "    ixStability[3]:np.zeros_like(RiBulk),\n",
    "    }\n",
    "conductanceSensible = {\n",
    "    ixStability[0]:np.zeros_like(RiBulk),\n",
    "    ixStability[1]:np.zeros_like(RiBulk),\n",
    "    ixStability[2]:np.zeros_like(RiBulk),\n",
    "    ixStability[3]:np.zeros_like(RiBulk),\n",
    "    }\n",
    "conductanceLatent = {\n",
    "    ixStability[0]:np.zeros_like(RiBulk),\n",
    "    ixStability[1]:np.zeros_like(RiBulk),\n",
    "    ixStability[2]:np.zeros_like(RiBulk),\n",
    "    ixStability[3]:np.zeros_like(RiBulk),\n",
    "    }\n",
    "\n",
    "for stab in stabilitySchemes:\n",
    "    for n,(tair,vp) in enumerate(zip(airTemp, airVaporPress)):\n",
    "        (_,stabOutput,_,\n",
    "         conductanceSensible[stab][n],\n",
    "         conductanceLatent[stab][n]) = turbpy.aStability(False, stab, mc.stabParams[stab], mHeight, tair,\n",
    "               vp, sfcTemp, sfcVaporPress, windspd, z0Ground)\n",
    "        if not 'moninObukhov' in stab:\n",
    "            stabilitySchemes[stab][n] = stabOutput['stabilityCorrection']"
   ]
  },
  {
   "cell_type": "code",
   "execution_count": 11,
   "metadata": {
    "collapsed": false
   },
   "outputs": [
    {
     "data": {
      "image/png": "[encoded data removed]",
      "text/plain": [
       "<matplotlib.figure.Figure at 0x11859b0b8>"
      ]
     },
     "metadata": {},
     "output_type": "display_data"
    }
   ],
   "source": [
    "colr = kgraph.SRON(4)\n",
    "fig, axes = plt.subplots(1,3,figsize=(9.5, 3))\n",
    "axes = axes.flatten()\n",
    "\n",
    "# Stability correction\n",
    "ax = axes[0]\n",
    "for n, stab in enumerate(stabilitySchemes):\n",
    "    if stab == 'moninObukhov':\n",
    "        continue\n",
    "    ax.plot(RiBulk, stabilitySchemes[stab], label=stab, color=colr[n])\n",
    "ax.plot([0,0],[0, 4], 'k--')\n",
    "ax.set_ylabel('Stability Correction [-]')\n",
    "ax.set_xlabel('Ri #')\n",
    "ax.set_title('a)', loc='left')\n",
    "\n",
    "# Conductance\n",
    "ax = axes[1]\n",
    "for n,stab in enumerate(ixStability):\n",
    "    ax.plot(RiBulk, conductanceSensible[stab], label=stab, color=colr[n])\n",
    "ax.plot([0, 0], [0., 0.02], 'k--')\n",
    "ax.legend(loc='best')\n",
    "ax.set_ylim(0,0.02)\n",
    "ax.set_ylabel('Sensible Conductance')\n",
    "ax.set_xlabel('Ri #')\n",
    "ax.set_title('b)', loc='left')\n",
    "\n",
    "\n",
    "# Sensible Heat Flux\n",
    "# Plotting parameters\n",
    "Qmax = 150\n",
    "Qmin = -50\n",
    "RiMax = 4\n",
    "RiMin = -.1\n",
    "\n",
    "# Bulk Richardson number\n",
    "RiBulk,_,_ = turbpy.bulkRichardson(airTemp,sfcTemp,windspd,mHeight)\n",
    "ax = axes[2]\n",
    "\n",
    "for sindex, stab in enumerate(ixStability):\n",
    "    senHeatGround = np.zeros_like(airTemp)\n",
    "    latHeatGround = np.zeros_like(airTemp)\n",
    "\n",
    "    for n,(tair, vp) in enumerate(zip(airTemp, airVaporPress)):\n",
    "        (_, _, senHeatGround[n], latHeatGround[n], _, _, _, _) = turbpy.turbFluxes(\n",
    "            tair, airPressure, vp, windspd, sfcTemp, sfcVaporPress, snowDepth, mHeight,\n",
    "            groundSnowFraction=1, ixDerivMethod=False, ixStability=stab,\n",
    "            ixStabParam=mc.stabParams[stab], z0Ground=.005,\n",
    "            )\n",
    "\n",
    "    ax.plot(RiBulk, senHeatGround, color=colr[sindex])\n",
    "ax.plot([0, 0], [Qmin, Qmax], 'k--')\n",
    "ax.set_ylim(Qmin, Qmax)\n",
    "ax.set_xlabel('Ri #')\n",
    "ax.set_ylabel('$Q_h (Wm^{-2}$)')\n",
    "ax.set_title('c)', loc='left')\n",
    "    \n",
    "fig.tight_layout()\n",
    "fig.autofmt_xdate()\n",
    "os.chdir(dirPrint)\n",
    "fig.savefig('TF.OfflineTurb.Idealized.pdf')\n",
    "fig.savefig('TF.OfflineTurb.Idealized.png')"
   ]
  },
  {
   "cell_type": "markdown",
   "metadata": {},
   "source": [
    "Example of the stability functions available in the turbpy package.\n",
    "\n",
    "a) The stability corrections for the bulk aerodynamic methods\n",
    "\n",
    "b) the conductance for all methods\n",
    "\n",
    "c) the resulting sensible heat fluxes for each method assuming a surface temperature of 265K, wind speed of 1 m/s, \n",
    "surface roughness of 0.005, and varying the air temperature from 253K (Ri = -1) to 293K (Ri = 2).\n"
   ]
  },
  {
   "cell_type": "code",
   "execution_count": null,
   "metadata": {
    "collapsed": true
   },
   "outputs": [],
   "source": []
  }
 ],
 "metadata": {
  "anaconda-cloud": {},
  "kernelspec": {
   "display_name": "Python [Root]",
   "language": "python",
   "name": "Python [Root]"
  },
  "language_info": {
   "codemirror_mode": {
    "name": "ipython",
    "version": 3
   },
   "file_extension": ".py",
   "mimetype": "text/x-python",
   "name": "python",
   "nbconvert_exporter": "python",
   "pygments_lexer": "ipython3",
   "version": "3.5.2"
  }
 },
 "nbformat": 4,
 "nbformat_minor": 0
}
